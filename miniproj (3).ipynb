{
  "cells": [
    {
      "cell_type": "markdown",
      "metadata": {
        "id": "GLW5X-c6yk3B"
      },
      "source": [
        "Data Loading...\n"
      ]
    },
    {
      "cell_type": "code",
      "execution_count": null,
      "metadata": {
        "colab": {
          "base_uri": "https://localhost:8080/",
          "height": 73
        },
        "id": "BXeMzQYmkh0j",
        "outputId": "a8e733c2-75fb-46c5-982f-f329f0e81cd9"
      },
      "outputs": [
        {
          "output_type": "display_data",
          "data": {
            "text/plain": [
              "<IPython.core.display.HTML object>"
            ],
            "text/html": [
              "\n",
              "     <input type=\"file\" id=\"files-34f9d26f-f4f3-49d0-861c-5f2391eaec55\" name=\"files[]\" multiple disabled\n",
              "        style=\"border:none\" />\n",
              "     <output id=\"result-34f9d26f-f4f3-49d0-861c-5f2391eaec55\">\n",
              "      Upload widget is only available when the cell has been executed in the\n",
              "      current browser session. Please rerun this cell to enable.\n",
              "      </output>\n",
              "      <script>// Copyright 2017 Google LLC\n",
              "//\n",
              "// Licensed under the Apache License, Version 2.0 (the \"License\");\n",
              "// you may not use this file except in compliance with the License.\n",
              "// You may obtain a copy of the License at\n",
              "//\n",
              "//      http://www.apache.org/licenses/LICENSE-2.0\n",
              "//\n",
              "// Unless required by applicable law or agreed to in writing, software\n",
              "// distributed under the License is distributed on an \"AS IS\" BASIS,\n",
              "// WITHOUT WARRANTIES OR CONDITIONS OF ANY KIND, either express or implied.\n",
              "// See the License for the specific language governing permissions and\n",
              "// limitations under the License.\n",
              "\n",
              "/**\n",
              " * @fileoverview Helpers for google.colab Python module.\n",
              " */\n",
              "(function(scope) {\n",
              "function span(text, styleAttributes = {}) {\n",
              "  const element = document.createElement('span');\n",
              "  element.textContent = text;\n",
              "  for (const key of Object.keys(styleAttributes)) {\n",
              "    element.style[key] = styleAttributes[key];\n",
              "  }\n",
              "  return element;\n",
              "}\n",
              "\n",
              "// Max number of bytes which will be uploaded at a time.\n",
              "const MAX_PAYLOAD_SIZE = 100 * 1024;\n",
              "\n",
              "function _uploadFiles(inputId, outputId) {\n",
              "  const steps = uploadFilesStep(inputId, outputId);\n",
              "  const outputElement = document.getElementById(outputId);\n",
              "  // Cache steps on the outputElement to make it available for the next call\n",
              "  // to uploadFilesContinue from Python.\n",
              "  outputElement.steps = steps;\n",
              "\n",
              "  return _uploadFilesContinue(outputId);\n",
              "}\n",
              "\n",
              "// This is roughly an async generator (not supported in the browser yet),\n",
              "// where there are multiple asynchronous steps and the Python side is going\n",
              "// to poll for completion of each step.\n",
              "// This uses a Promise to block the python side on completion of each step,\n",
              "// then passes the result of the previous step as the input to the next step.\n",
              "function _uploadFilesContinue(outputId) {\n",
              "  const outputElement = document.getElementById(outputId);\n",
              "  const steps = outputElement.steps;\n",
              "\n",
              "  const next = steps.next(outputElement.lastPromiseValue);\n",
              "  return Promise.resolve(next.value.promise).then((value) => {\n",
              "    // Cache the last promise value to make it available to the next\n",
              "    // step of the generator.\n",
              "    outputElement.lastPromiseValue = value;\n",
              "    return next.value.response;\n",
              "  });\n",
              "}\n",
              "\n",
              "/**\n",
              " * Generator function which is called between each async step of the upload\n",
              " * process.\n",
              " * @param {string} inputId Element ID of the input file picker element.\n",
              " * @param {string} outputId Element ID of the output display.\n",
              " * @return {!Iterable<!Object>} Iterable of next steps.\n",
              " */\n",
              "function* uploadFilesStep(inputId, outputId) {\n",
              "  const inputElement = document.getElementById(inputId);\n",
              "  inputElement.disabled = false;\n",
              "\n",
              "  const outputElement = document.getElementById(outputId);\n",
              "  outputElement.innerHTML = '';\n",
              "\n",
              "  const pickedPromise = new Promise((resolve) => {\n",
              "    inputElement.addEventListener('change', (e) => {\n",
              "      resolve(e.target.files);\n",
              "    });\n",
              "  });\n",
              "\n",
              "  const cancel = document.createElement('button');\n",
              "  inputElement.parentElement.appendChild(cancel);\n",
              "  cancel.textContent = 'Cancel upload';\n",
              "  const cancelPromise = new Promise((resolve) => {\n",
              "    cancel.onclick = () => {\n",
              "      resolve(null);\n",
              "    };\n",
              "  });\n",
              "\n",
              "  // Wait for the user to pick the files.\n",
              "  const files = yield {\n",
              "    promise: Promise.race([pickedPromise, cancelPromise]),\n",
              "    response: {\n",
              "      action: 'starting',\n",
              "    }\n",
              "  };\n",
              "\n",
              "  cancel.remove();\n",
              "\n",
              "  // Disable the input element since further picks are not allowed.\n",
              "  inputElement.disabled = true;\n",
              "\n",
              "  if (!files) {\n",
              "    return {\n",
              "      response: {\n",
              "        action: 'complete',\n",
              "      }\n",
              "    };\n",
              "  }\n",
              "\n",
              "  for (const file of files) {\n",
              "    const li = document.createElement('li');\n",
              "    li.append(span(file.name, {fontWeight: 'bold'}));\n",
              "    li.append(span(\n",
              "        `(${file.type || 'n/a'}) - ${file.size} bytes, ` +\n",
              "        `last modified: ${\n",
              "            file.lastModifiedDate ? file.lastModifiedDate.toLocaleDateString() :\n",
              "                                    'n/a'} - `));\n",
              "    const percent = span('0% done');\n",
              "    li.appendChild(percent);\n",
              "\n",
              "    outputElement.appendChild(li);\n",
              "\n",
              "    const fileDataPromise = new Promise((resolve) => {\n",
              "      const reader = new FileReader();\n",
              "      reader.onload = (e) => {\n",
              "        resolve(e.target.result);\n",
              "      };\n",
              "      reader.readAsArrayBuffer(file);\n",
              "    });\n",
              "    // Wait for the data to be ready.\n",
              "    let fileData = yield {\n",
              "      promise: fileDataPromise,\n",
              "      response: {\n",
              "        action: 'continue',\n",
              "      }\n",
              "    };\n",
              "\n",
              "    // Use a chunked sending to avoid message size limits. See b/62115660.\n",
              "    let position = 0;\n",
              "    do {\n",
              "      const length = Math.min(fileData.byteLength - position, MAX_PAYLOAD_SIZE);\n",
              "      const chunk = new Uint8Array(fileData, position, length);\n",
              "      position += length;\n",
              "\n",
              "      const base64 = btoa(String.fromCharCode.apply(null, chunk));\n",
              "      yield {\n",
              "        response: {\n",
              "          action: 'append',\n",
              "          file: file.name,\n",
              "          data: base64,\n",
              "        },\n",
              "      };\n",
              "\n",
              "      let percentDone = fileData.byteLength === 0 ?\n",
              "          100 :\n",
              "          Math.round((position / fileData.byteLength) * 100);\n",
              "      percent.textContent = `${percentDone}% done`;\n",
              "\n",
              "    } while (position < fileData.byteLength);\n",
              "  }\n",
              "\n",
              "  // All done.\n",
              "  yield {\n",
              "    response: {\n",
              "      action: 'complete',\n",
              "    }\n",
              "  };\n",
              "}\n",
              "\n",
              "scope.google = scope.google || {};\n",
              "scope.google.colab = scope.google.colab || {};\n",
              "scope.google.colab._files = {\n",
              "  _uploadFiles,\n",
              "  _uploadFilesContinue,\n",
              "};\n",
              "})(self);\n",
              "</script> "
            ]
          },
          "metadata": {}
        },
        {
          "output_type": "stream",
          "name": "stdout",
          "text": [
            "Saving Prostate_Cancer_Dataset.csv to Prostate_Cancer_Dataset.csv\n"
          ]
        }
      ],
      "source": [
        "from google.colab import files\n",
        "uploaded = files.upload()\n"
      ]
    },
    {
      "cell_type": "code",
      "execution_count": null,
      "metadata": {
        "colab": {
          "base_uri": "https://localhost:8080/"
        },
        "id": "FdtVYc3zyt4J",
        "outputId": "cde8ea71-481f-45ab-d63f-b89a2b0c65e4"
      },
      "outputs": [
        {
          "output_type": "stream",
          "name": "stdout",
          "text": [
            "   radius  texture  perimeter    area  smoothness  compactness  symmetry  \\\n",
            "0    23.0     12.0      151.0   954.0       0.143        0.278     0.242   \n",
            "1     9.0     13.0      133.0  1326.0       0.143        0.079     0.181   \n",
            "2    21.0     27.0      130.0  1203.0       0.125        0.160     0.207   \n",
            "3    14.0     16.0       78.0   386.0       0.070        0.284     0.260   \n",
            "4     9.0     19.0      135.0  1297.0       0.141        0.133     0.181   \n",
            "\n",
            "   fractal_dimension diagnosis_result  \n",
            "0              0.079                M  \n",
            "1              0.057                B  \n",
            "2              0.060                M  \n",
            "3              0.097                M  \n",
            "4              0.059                M  \n",
            "<class 'pandas.core.frame.DataFrame'>\n",
            "RangeIndex: 600 entries, 0 to 599\n",
            "Data columns (total 9 columns):\n",
            " #   Column             Non-Null Count  Dtype  \n",
            "---  ------             --------------  -----  \n",
            " 0   radius             600 non-null    float64\n",
            " 1   texture            600 non-null    float64\n",
            " 2   perimeter          600 non-null    float64\n",
            " 3   area               600 non-null    float64\n",
            " 4   smoothness         600 non-null    float64\n",
            " 5   compactness        600 non-null    float64\n",
            " 6   symmetry           600 non-null    float64\n",
            " 7   fractal_dimension  600 non-null    float64\n",
            " 8   diagnosis_result   600 non-null    object \n",
            "dtypes: float64(8), object(1)\n",
            "memory usage: 42.3+ KB\n"
          ]
        },
        {
          "output_type": "execute_result",
          "data": {
            "text/plain": [
              "(   radius  texture  perimeter    area  smoothness  compactness  symmetry  \\\n",
              " 0    23.0     12.0      151.0   954.0       0.143        0.278     0.242   \n",
              " 1     9.0     13.0      133.0  1326.0       0.143        0.079     0.181   \n",
              " 2    21.0     27.0      130.0  1203.0       0.125        0.160     0.207   \n",
              " 3    14.0     16.0       78.0   386.0       0.070        0.284     0.260   \n",
              " 4     9.0     19.0      135.0  1297.0       0.141        0.133     0.181   \n",
              " \n",
              "    fractal_dimension diagnosis_result  \n",
              " 0              0.079                M  \n",
              " 1              0.057                B  \n",
              " 2              0.060                M  \n",
              " 3              0.097                M  \n",
              " 4              0.059                M  ,\n",
              " None)"
            ]
          },
          "metadata": {},
          "execution_count": 2
        }
      ],
      "source": [
        "import pandas as pd\n",
        "import io\n",
        "\n",
        "df = pd.read_csv(io.BytesIO(uploaded['Prostate_Cancer_Dataset.csv']))\n",
        "print(df.head())\n",
        "df.head(),df.info()"
      ]
    },
    {
      "cell_type": "markdown",
      "metadata": {
        "id": "IDGkVss3y8JL"
      },
      "source": [
        "Data Processing and Data Preprocessing"
      ]
    },
    {
      "cell_type": "markdown",
      "metadata": {
        "id": "OX8r86MY1iGp"
      },
      "source": [
        "data separation as y\n"
      ]
    },
    {
      "cell_type": "code",
      "execution_count": null,
      "metadata": {
        "colab": {
          "base_uri": "https://localhost:8080/",
          "height": 458
        },
        "id": "cTBnqkgW0pLK",
        "outputId": "6b8bc417-6f40-4f12-c599-d065b59d0c7d"
      },
      "outputs": [
        {
          "output_type": "execute_result",
          "data": {
            "text/plain": [
              "0      M\n",
              "1      B\n",
              "2      M\n",
              "3      M\n",
              "4      M\n",
              "      ..\n",
              "595    B\n",
              "596    B\n",
              "597    B\n",
              "598    M\n",
              "599    B\n",
              "Name: diagnosis_result, Length: 600, dtype: object"
            ],
            "text/html": [
              "<div>\n",
              "<style scoped>\n",
              "    .dataframe tbody tr th:only-of-type {\n",
              "        vertical-align: middle;\n",
              "    }\n",
              "\n",
              "    .dataframe tbody tr th {\n",
              "        vertical-align: top;\n",
              "    }\n",
              "\n",
              "    .dataframe thead th {\n",
              "        text-align: right;\n",
              "    }\n",
              "</style>\n",
              "<table border=\"1\" class=\"dataframe\">\n",
              "  <thead>\n",
              "    <tr style=\"text-align: right;\">\n",
              "      <th></th>\n",
              "      <th>diagnosis_result</th>\n",
              "    </tr>\n",
              "  </thead>\n",
              "  <tbody>\n",
              "    <tr>\n",
              "      <th>0</th>\n",
              "      <td>M</td>\n",
              "    </tr>\n",
              "    <tr>\n",
              "      <th>1</th>\n",
              "      <td>B</td>\n",
              "    </tr>\n",
              "    <tr>\n",
              "      <th>2</th>\n",
              "      <td>M</td>\n",
              "    </tr>\n",
              "    <tr>\n",
              "      <th>3</th>\n",
              "      <td>M</td>\n",
              "    </tr>\n",
              "    <tr>\n",
              "      <th>4</th>\n",
              "      <td>M</td>\n",
              "    </tr>\n",
              "    <tr>\n",
              "      <th>...</th>\n",
              "      <td>...</td>\n",
              "    </tr>\n",
              "    <tr>\n",
              "      <th>595</th>\n",
              "      <td>B</td>\n",
              "    </tr>\n",
              "    <tr>\n",
              "      <th>596</th>\n",
              "      <td>B</td>\n",
              "    </tr>\n",
              "    <tr>\n",
              "      <th>597</th>\n",
              "      <td>B</td>\n",
              "    </tr>\n",
              "    <tr>\n",
              "      <th>598</th>\n",
              "      <td>M</td>\n",
              "    </tr>\n",
              "    <tr>\n",
              "      <th>599</th>\n",
              "      <td>B</td>\n",
              "    </tr>\n",
              "  </tbody>\n",
              "</table>\n",
              "<p>600 rows × 1 columns</p>\n",
              "</div><br><label><b>dtype:</b> object</label>"
            ]
          },
          "metadata": {},
          "execution_count": 3
        }
      ],
      "source": [
        "y = df['diagnosis_result']\n",
        "y"
      ]
    },
    {
      "cell_type": "markdown",
      "metadata": {
        "id": "kXLdITyq1nCF"
      },
      "source": [
        "data separation as x"
      ]
    },
    {
      "cell_type": "code",
      "execution_count": null,
      "metadata": {
        "colab": {
          "base_uri": "https://localhost:8080/",
          "height": 423
        },
        "id": "sn0flsJY1pVk",
        "outputId": "335935be-9a70-42a9-f608-e1d812f51c1a"
      },
      "outputs": [
        {
          "output_type": "execute_result",
          "data": {
            "text/plain": [
              "        radius    texture   perimeter         area  smoothness  compactness  \\\n",
              "0    23.000000  12.000000  151.000000   954.000000    0.143000     0.278000   \n",
              "1     9.000000  13.000000  133.000000  1326.000000    0.143000     0.079000   \n",
              "2    21.000000  27.000000  130.000000  1203.000000    0.125000     0.160000   \n",
              "3    14.000000  16.000000   78.000000   386.000000    0.070000     0.284000   \n",
              "4     9.000000  19.000000  135.000000  1297.000000    0.141000     0.133000   \n",
              "..         ...        ...         ...          ...         ...          ...   \n",
              "595  12.020600  13.270753   58.697036   253.812404    0.104533     0.079929   \n",
              "596  25.359037  14.473940   76.239086   441.841708    0.083443     0.043686   \n",
              "597  21.296935  10.723592   84.647988   538.879581    0.088638     0.038383   \n",
              "598  20.570790  18.301068  124.171820  1127.555170    0.089617     0.102411   \n",
              "599  16.986133  20.924762   85.137264   508.462638    0.108245     0.154262   \n",
              "\n",
              "     symmetry  fractal_dimension  \n",
              "0    0.242000           0.079000  \n",
              "1    0.181000           0.057000  \n",
              "2    0.207000           0.060000  \n",
              "3    0.260000           0.097000  \n",
              "4    0.181000           0.059000  \n",
              "..        ...                ...  \n",
              "595  0.172309           0.069319  \n",
              "596  0.186764           0.061186  \n",
              "597  0.147497           0.059000  \n",
              "598  0.158898           0.054396  \n",
              "599  0.194685           0.069448  \n",
              "\n",
              "[600 rows x 8 columns]"
            ],
            "text/html": [
              "\n",
              "  <div id=\"df-71b8bcbf-5b67-4f3d-8b26-891b44407852\" class=\"colab-df-container\">\n",
              "    <div>\n",
              "<style scoped>\n",
              "    .dataframe tbody tr th:only-of-type {\n",
              "        vertical-align: middle;\n",
              "    }\n",
              "\n",
              "    .dataframe tbody tr th {\n",
              "        vertical-align: top;\n",
              "    }\n",
              "\n",
              "    .dataframe thead th {\n",
              "        text-align: right;\n",
              "    }\n",
              "</style>\n",
              "<table border=\"1\" class=\"dataframe\">\n",
              "  <thead>\n",
              "    <tr style=\"text-align: right;\">\n",
              "      <th></th>\n",
              "      <th>radius</th>\n",
              "      <th>texture</th>\n",
              "      <th>perimeter</th>\n",
              "      <th>area</th>\n",
              "      <th>smoothness</th>\n",
              "      <th>compactness</th>\n",
              "      <th>symmetry</th>\n",
              "      <th>fractal_dimension</th>\n",
              "    </tr>\n",
              "  </thead>\n",
              "  <tbody>\n",
              "    <tr>\n",
              "      <th>0</th>\n",
              "      <td>23.000000</td>\n",
              "      <td>12.000000</td>\n",
              "      <td>151.000000</td>\n",
              "      <td>954.000000</td>\n",
              "      <td>0.143000</td>\n",
              "      <td>0.278000</td>\n",
              "      <td>0.242000</td>\n",
              "      <td>0.079000</td>\n",
              "    </tr>\n",
              "    <tr>\n",
              "      <th>1</th>\n",
              "      <td>9.000000</td>\n",
              "      <td>13.000000</td>\n",
              "      <td>133.000000</td>\n",
              "      <td>1326.000000</td>\n",
              "      <td>0.143000</td>\n",
              "      <td>0.079000</td>\n",
              "      <td>0.181000</td>\n",
              "      <td>0.057000</td>\n",
              "    </tr>\n",
              "    <tr>\n",
              "      <th>2</th>\n",
              "      <td>21.000000</td>\n",
              "      <td>27.000000</td>\n",
              "      <td>130.000000</td>\n",
              "      <td>1203.000000</td>\n",
              "      <td>0.125000</td>\n",
              "      <td>0.160000</td>\n",
              "      <td>0.207000</td>\n",
              "      <td>0.060000</td>\n",
              "    </tr>\n",
              "    <tr>\n",
              "      <th>3</th>\n",
              "      <td>14.000000</td>\n",
              "      <td>16.000000</td>\n",
              "      <td>78.000000</td>\n",
              "      <td>386.000000</td>\n",
              "      <td>0.070000</td>\n",
              "      <td>0.284000</td>\n",
              "      <td>0.260000</td>\n",
              "      <td>0.097000</td>\n",
              "    </tr>\n",
              "    <tr>\n",
              "      <th>4</th>\n",
              "      <td>9.000000</td>\n",
              "      <td>19.000000</td>\n",
              "      <td>135.000000</td>\n",
              "      <td>1297.000000</td>\n",
              "      <td>0.141000</td>\n",
              "      <td>0.133000</td>\n",
              "      <td>0.181000</td>\n",
              "      <td>0.059000</td>\n",
              "    </tr>\n",
              "    <tr>\n",
              "      <th>...</th>\n",
              "      <td>...</td>\n",
              "      <td>...</td>\n",
              "      <td>...</td>\n",
              "      <td>...</td>\n",
              "      <td>...</td>\n",
              "      <td>...</td>\n",
              "      <td>...</td>\n",
              "      <td>...</td>\n",
              "    </tr>\n",
              "    <tr>\n",
              "      <th>595</th>\n",
              "      <td>12.020600</td>\n",
              "      <td>13.270753</td>\n",
              "      <td>58.697036</td>\n",
              "      <td>253.812404</td>\n",
              "      <td>0.104533</td>\n",
              "      <td>0.079929</td>\n",
              "      <td>0.172309</td>\n",
              "      <td>0.069319</td>\n",
              "    </tr>\n",
              "    <tr>\n",
              "      <th>596</th>\n",
              "      <td>25.359037</td>\n",
              "      <td>14.473940</td>\n",
              "      <td>76.239086</td>\n",
              "      <td>441.841708</td>\n",
              "      <td>0.083443</td>\n",
              "      <td>0.043686</td>\n",
              "      <td>0.186764</td>\n",
              "      <td>0.061186</td>\n",
              "    </tr>\n",
              "    <tr>\n",
              "      <th>597</th>\n",
              "      <td>21.296935</td>\n",
              "      <td>10.723592</td>\n",
              "      <td>84.647988</td>\n",
              "      <td>538.879581</td>\n",
              "      <td>0.088638</td>\n",
              "      <td>0.038383</td>\n",
              "      <td>0.147497</td>\n",
              "      <td>0.059000</td>\n",
              "    </tr>\n",
              "    <tr>\n",
              "      <th>598</th>\n",
              "      <td>20.570790</td>\n",
              "      <td>18.301068</td>\n",
              "      <td>124.171820</td>\n",
              "      <td>1127.555170</td>\n",
              "      <td>0.089617</td>\n",
              "      <td>0.102411</td>\n",
              "      <td>0.158898</td>\n",
              "      <td>0.054396</td>\n",
              "    </tr>\n",
              "    <tr>\n",
              "      <th>599</th>\n",
              "      <td>16.986133</td>\n",
              "      <td>20.924762</td>\n",
              "      <td>85.137264</td>\n",
              "      <td>508.462638</td>\n",
              "      <td>0.108245</td>\n",
              "      <td>0.154262</td>\n",
              "      <td>0.194685</td>\n",
              "      <td>0.069448</td>\n",
              "    </tr>\n",
              "  </tbody>\n",
              "</table>\n",
              "<p>600 rows × 8 columns</p>\n",
              "</div>\n",
              "    <div class=\"colab-df-buttons\">\n",
              "\n",
              "  <div class=\"colab-df-container\">\n",
              "    <button class=\"colab-df-convert\" onclick=\"convertToInteractive('df-71b8bcbf-5b67-4f3d-8b26-891b44407852')\"\n",
              "            title=\"Convert this dataframe to an interactive table.\"\n",
              "            style=\"display:none;\">\n",
              "\n",
              "  <svg xmlns=\"http://www.w3.org/2000/svg\" height=\"24px\" viewBox=\"0 -960 960 960\">\n",
              "    <path d=\"M120-120v-720h720v720H120Zm60-500h600v-160H180v160Zm220 220h160v-160H400v160Zm0 220h160v-160H400v160ZM180-400h160v-160H180v160Zm440 0h160v-160H620v160ZM180-180h160v-160H180v160Zm440 0h160v-160H620v160Z\"/>\n",
              "  </svg>\n",
              "    </button>\n",
              "\n",
              "  <style>\n",
              "    .colab-df-container {\n",
              "      display:flex;\n",
              "      gap: 12px;\n",
              "    }\n",
              "\n",
              "    .colab-df-convert {\n",
              "      background-color: #E8F0FE;\n",
              "      border: none;\n",
              "      border-radius: 50%;\n",
              "      cursor: pointer;\n",
              "      display: none;\n",
              "      fill: #1967D2;\n",
              "      height: 32px;\n",
              "      padding: 0 0 0 0;\n",
              "      width: 32px;\n",
              "    }\n",
              "\n",
              "    .colab-df-convert:hover {\n",
              "      background-color: #E2EBFA;\n",
              "      box-shadow: 0px 1px 2px rgba(60, 64, 67, 0.3), 0px 1px 3px 1px rgba(60, 64, 67, 0.15);\n",
              "      fill: #174EA6;\n",
              "    }\n",
              "\n",
              "    .colab-df-buttons div {\n",
              "      margin-bottom: 4px;\n",
              "    }\n",
              "\n",
              "    [theme=dark] .colab-df-convert {\n",
              "      background-color: #3B4455;\n",
              "      fill: #D2E3FC;\n",
              "    }\n",
              "\n",
              "    [theme=dark] .colab-df-convert:hover {\n",
              "      background-color: #434B5C;\n",
              "      box-shadow: 0px 1px 3px 1px rgba(0, 0, 0, 0.15);\n",
              "      filter: drop-shadow(0px 1px 2px rgba(0, 0, 0, 0.3));\n",
              "      fill: #FFFFFF;\n",
              "    }\n",
              "  </style>\n",
              "\n",
              "    <script>\n",
              "      const buttonEl =\n",
              "        document.querySelector('#df-71b8bcbf-5b67-4f3d-8b26-891b44407852 button.colab-df-convert');\n",
              "      buttonEl.style.display =\n",
              "        google.colab.kernel.accessAllowed ? 'block' : 'none';\n",
              "\n",
              "      async function convertToInteractive(key) {\n",
              "        const element = document.querySelector('#df-71b8bcbf-5b67-4f3d-8b26-891b44407852');\n",
              "        const dataTable =\n",
              "          await google.colab.kernel.invokeFunction('convertToInteractive',\n",
              "                                                    [key], {});\n",
              "        if (!dataTable) return;\n",
              "\n",
              "        const docLinkHtml = 'Like what you see? Visit the ' +\n",
              "          '<a target=\"_blank\" href=https://colab.research.google.com/notebooks/data_table.ipynb>data table notebook</a>'\n",
              "          + ' to learn more about interactive tables.';\n",
              "        element.innerHTML = '';\n",
              "        dataTable['output_type'] = 'display_data';\n",
              "        await google.colab.output.renderOutput(dataTable, element);\n",
              "        const docLink = document.createElement('div');\n",
              "        docLink.innerHTML = docLinkHtml;\n",
              "        element.appendChild(docLink);\n",
              "      }\n",
              "    </script>\n",
              "  </div>\n",
              "\n",
              "\n",
              "<div id=\"df-5f8a80b8-f1db-4098-9d5b-8f11ecbbd06b\">\n",
              "  <button class=\"colab-df-quickchart\" onclick=\"quickchart('df-5f8a80b8-f1db-4098-9d5b-8f11ecbbd06b')\"\n",
              "            title=\"Suggest charts\"\n",
              "            style=\"display:none;\">\n",
              "\n",
              "<svg xmlns=\"http://www.w3.org/2000/svg\" height=\"24px\"viewBox=\"0 0 24 24\"\n",
              "     width=\"24px\">\n",
              "    <g>\n",
              "        <path d=\"M19 3H5c-1.1 0-2 .9-2 2v14c0 1.1.9 2 2 2h14c1.1 0 2-.9 2-2V5c0-1.1-.9-2-2-2zM9 17H7v-7h2v7zm4 0h-2V7h2v10zm4 0h-2v-4h2v4z\"/>\n",
              "    </g>\n",
              "</svg>\n",
              "  </button>\n",
              "\n",
              "<style>\n",
              "  .colab-df-quickchart {\n",
              "      --bg-color: #E8F0FE;\n",
              "      --fill-color: #1967D2;\n",
              "      --hover-bg-color: #E2EBFA;\n",
              "      --hover-fill-color: #174EA6;\n",
              "      --disabled-fill-color: #AAA;\n",
              "      --disabled-bg-color: #DDD;\n",
              "  }\n",
              "\n",
              "  [theme=dark] .colab-df-quickchart {\n",
              "      --bg-color: #3B4455;\n",
              "      --fill-color: #D2E3FC;\n",
              "      --hover-bg-color: #434B5C;\n",
              "      --hover-fill-color: #FFFFFF;\n",
              "      --disabled-bg-color: #3B4455;\n",
              "      --disabled-fill-color: #666;\n",
              "  }\n",
              "\n",
              "  .colab-df-quickchart {\n",
              "    background-color: var(--bg-color);\n",
              "    border: none;\n",
              "    border-radius: 50%;\n",
              "    cursor: pointer;\n",
              "    display: none;\n",
              "    fill: var(--fill-color);\n",
              "    height: 32px;\n",
              "    padding: 0;\n",
              "    width: 32px;\n",
              "  }\n",
              "\n",
              "  .colab-df-quickchart:hover {\n",
              "    background-color: var(--hover-bg-color);\n",
              "    box-shadow: 0 1px 2px rgba(60, 64, 67, 0.3), 0 1px 3px 1px rgba(60, 64, 67, 0.15);\n",
              "    fill: var(--button-hover-fill-color);\n",
              "  }\n",
              "\n",
              "  .colab-df-quickchart-complete:disabled,\n",
              "  .colab-df-quickchart-complete:disabled:hover {\n",
              "    background-color: var(--disabled-bg-color);\n",
              "    fill: var(--disabled-fill-color);\n",
              "    box-shadow: none;\n",
              "  }\n",
              "\n",
              "  .colab-df-spinner {\n",
              "    border: 2px solid var(--fill-color);\n",
              "    border-color: transparent;\n",
              "    border-bottom-color: var(--fill-color);\n",
              "    animation:\n",
              "      spin 1s steps(1) infinite;\n",
              "  }\n",
              "\n",
              "  @keyframes spin {\n",
              "    0% {\n",
              "      border-color: transparent;\n",
              "      border-bottom-color: var(--fill-color);\n",
              "      border-left-color: var(--fill-color);\n",
              "    }\n",
              "    20% {\n",
              "      border-color: transparent;\n",
              "      border-left-color: var(--fill-color);\n",
              "      border-top-color: var(--fill-color);\n",
              "    }\n",
              "    30% {\n",
              "      border-color: transparent;\n",
              "      border-left-color: var(--fill-color);\n",
              "      border-top-color: var(--fill-color);\n",
              "      border-right-color: var(--fill-color);\n",
              "    }\n",
              "    40% {\n",
              "      border-color: transparent;\n",
              "      border-right-color: var(--fill-color);\n",
              "      border-top-color: var(--fill-color);\n",
              "    }\n",
              "    60% {\n",
              "      border-color: transparent;\n",
              "      border-right-color: var(--fill-color);\n",
              "    }\n",
              "    80% {\n",
              "      border-color: transparent;\n",
              "      border-right-color: var(--fill-color);\n",
              "      border-bottom-color: var(--fill-color);\n",
              "    }\n",
              "    90% {\n",
              "      border-color: transparent;\n",
              "      border-bottom-color: var(--fill-color);\n",
              "    }\n",
              "  }\n",
              "</style>\n",
              "\n",
              "  <script>\n",
              "    async function quickchart(key) {\n",
              "      const quickchartButtonEl =\n",
              "        document.querySelector('#' + key + ' button');\n",
              "      quickchartButtonEl.disabled = true;  // To prevent multiple clicks.\n",
              "      quickchartButtonEl.classList.add('colab-df-spinner');\n",
              "      try {\n",
              "        const charts = await google.colab.kernel.invokeFunction(\n",
              "            'suggestCharts', [key], {});\n",
              "      } catch (error) {\n",
              "        console.error('Error during call to suggestCharts:', error);\n",
              "      }\n",
              "      quickchartButtonEl.classList.remove('colab-df-spinner');\n",
              "      quickchartButtonEl.classList.add('colab-df-quickchart-complete');\n",
              "    }\n",
              "    (() => {\n",
              "      let quickchartButtonEl =\n",
              "        document.querySelector('#df-5f8a80b8-f1db-4098-9d5b-8f11ecbbd06b button');\n",
              "      quickchartButtonEl.style.display =\n",
              "        google.colab.kernel.accessAllowed ? 'block' : 'none';\n",
              "    })();\n",
              "  </script>\n",
              "</div>\n",
              "\n",
              "  <div id=\"id_15705d8a-556a-46d1-8954-30deafc6859c\">\n",
              "    <style>\n",
              "      .colab-df-generate {\n",
              "        background-color: #E8F0FE;\n",
              "        border: none;\n",
              "        border-radius: 50%;\n",
              "        cursor: pointer;\n",
              "        display: none;\n",
              "        fill: #1967D2;\n",
              "        height: 32px;\n",
              "        padding: 0 0 0 0;\n",
              "        width: 32px;\n",
              "      }\n",
              "\n",
              "      .colab-df-generate:hover {\n",
              "        background-color: #E2EBFA;\n",
              "        box-shadow: 0px 1px 2px rgba(60, 64, 67, 0.3), 0px 1px 3px 1px rgba(60, 64, 67, 0.15);\n",
              "        fill: #174EA6;\n",
              "      }\n",
              "\n",
              "      [theme=dark] .colab-df-generate {\n",
              "        background-color: #3B4455;\n",
              "        fill: #D2E3FC;\n",
              "      }\n",
              "\n",
              "      [theme=dark] .colab-df-generate:hover {\n",
              "        background-color: #434B5C;\n",
              "        box-shadow: 0px 1px 3px 1px rgba(0, 0, 0, 0.15);\n",
              "        filter: drop-shadow(0px 1px 2px rgba(0, 0, 0, 0.3));\n",
              "        fill: #FFFFFF;\n",
              "      }\n",
              "    </style>\n",
              "    <button class=\"colab-df-generate\" onclick=\"generateWithVariable('X')\"\n",
              "            title=\"Generate code using this dataframe.\"\n",
              "            style=\"display:none;\">\n",
              "\n",
              "  <svg xmlns=\"http://www.w3.org/2000/svg\" height=\"24px\"viewBox=\"0 0 24 24\"\n",
              "       width=\"24px\">\n",
              "    <path d=\"M7,19H8.4L18.45,9,17,7.55,7,17.6ZM5,21V16.75L18.45,3.32a2,2,0,0,1,2.83,0l1.4,1.43a1.91,1.91,0,0,1,.58,1.4,1.91,1.91,0,0,1-.58,1.4L9.25,21ZM18.45,9,17,7.55Zm-12,3A5.31,5.31,0,0,0,4.9,8.1,5.31,5.31,0,0,0,1,6.5,5.31,5.31,0,0,0,4.9,4.9,5.31,5.31,0,0,0,6.5,1,5.31,5.31,0,0,0,8.1,4.9,5.31,5.31,0,0,0,12,6.5,5.46,5.46,0,0,0,6.5,12Z\"/>\n",
              "  </svg>\n",
              "    </button>\n",
              "    <script>\n",
              "      (() => {\n",
              "      const buttonEl =\n",
              "        document.querySelector('#id_15705d8a-556a-46d1-8954-30deafc6859c button.colab-df-generate');\n",
              "      buttonEl.style.display =\n",
              "        google.colab.kernel.accessAllowed ? 'block' : 'none';\n",
              "\n",
              "      buttonEl.onclick = () => {\n",
              "        google.colab.notebook.generateWithVariable('X');\n",
              "      }\n",
              "      })();\n",
              "    </script>\n",
              "  </div>\n",
              "\n",
              "    </div>\n",
              "  </div>\n"
            ],
            "application/vnd.google.colaboratory.intrinsic+json": {
              "type": "dataframe",
              "variable_name": "X",
              "summary": "{\n  \"name\": \"X\",\n  \"rows\": 600,\n  \"fields\": [\n    {\n      \"column\": \"radius\",\n      \"properties\": {\n        \"dtype\": \"number\",\n        \"std\": 4.9185086962182165,\n        \"min\": 8.49345806776489,\n        \"max\": 25.462934837851154,\n        \"num_unique_values\": 516,\n        \"samples\": [\n          14.24354119051524,\n          18.9604992850128,\n          9.214465722989038\n        ],\n        \"semantic_type\": \"\",\n        \"description\": \"\"\n      }\n    },\n    {\n      \"column\": \"texture\",\n      \"properties\": {\n        \"dtype\": \"number\",\n        \"std\": 5.153615767268905,\n        \"min\": 10.33776616237175,\n        \"max\": 27.763613005260208,\n        \"num_unique_values\": 517,\n        \"samples\": [\n          22.250166211417383,\n          26.7488096492964,\n          17.57145956782187\n        ],\n        \"semantic_type\": \"\",\n        \"description\": \"\"\n      }\n    },\n    {\n      \"column\": \"perimeter\",\n      \"properties\": {\n        \"dtype\": \"number\",\n        \"std\": 24.203430950739385,\n        \"min\": 52.0,\n        \"max\": 173.41982174037094,\n        \"num_unique_values\": 555,\n        \"samples\": [\n          113.30621838371312,\n          121.62292133910812,\n          113.83013340343444\n        ],\n        \"semantic_type\": \"\",\n        \"description\": \"\"\n      }\n    },\n    {\n      \"column\": \"area\",\n      \"properties\": {\n        \"dtype\": \"number\",\n        \"std\": 325.1775664623103,\n        \"min\": 195.37152803046368,\n        \"max\": 1892.513000395898,\n        \"num_unique_values\": 595,\n        \"samples\": [\n          385.484512705581,\n          1090.3958516303503,\n          654.8353478725753\n        ],\n        \"semantic_type\": \"\",\n        \"description\": \"\"\n      }\n    },\n    {\n      \"column\": \"smoothness\",\n      \"properties\": {\n        \"dtype\": \"number\",\n        \"std\": 0.014356351680550258,\n        \"min\": 0.0698757910317276,\n        \"max\": 0.1440795995806036,\n        \"num_unique_values\": 545,\n        \"samples\": [\n          0.0935999981726927,\n          0.1428074796888538,\n          0.1060489190164573\n        ],\n        \"semantic_type\": \"\",\n        \"description\": \"\"\n      }\n    },\n    {\n      \"column\": \"compactness\",\n      \"properties\": {\n        \"dtype\": \"number\",\n        \"std\": 0.06198946070061988,\n        \"min\": 0.0336640091981469,\n        \"max\": 0.3492203514631986,\n        \"num_unique_values\": 585,\n        \"samples\": [\n          0.1256681274217911,\n          0.1024485565592668,\n          0.1557017398562066\n        ],\n        \"semantic_type\": \"\",\n        \"description\": \"\"\n      }\n    },\n    {\n      \"column\": \"symmetry\",\n      \"properties\": {\n        \"dtype\": \"number\",\n        \"std\": 0.030406621275706293,\n        \"min\": 0.1317994707981856,\n        \"max\": 0.3045224602625641,\n        \"num_unique_values\": 564,\n        \"samples\": [\n          0.1865891267603255,\n          0.158880228346696,\n          0.2028409006520389\n        ],\n        \"semantic_type\": \"\",\n        \"description\": \"\"\n      }\n    },\n    {\n      \"column\": \"fractal_dimension\",\n      \"properties\": {\n        \"dtype\": \"number\",\n        \"std\": 0.008339320425835515,\n        \"min\": 0.0523097995584177,\n        \"max\": 0.0974015883857203,\n        \"num_unique_values\": 532,\n        \"samples\": [\n          0.075,\n          0.0681499699188246,\n          0.0621696646301681\n        ],\n        \"semantic_type\": \"\",\n        \"description\": \"\"\n      }\n    }\n  ]\n}"
            }
          },
          "metadata": {},
          "execution_count": 4
        }
      ],
      "source": [
        "X = df.drop('diagnosis_result', axis=1)\n",
        "X"
      ]
    },
    {
      "cell_type": "markdown",
      "metadata": {
        "id": "NGmjmiAe2HID"
      },
      "source": []
    },
    {
      "cell_type": "code",
      "execution_count": null,
      "metadata": {
        "id": "pSzzb1ug2Lbn"
      },
      "outputs": [],
      "source": [
        "from sklearn.model_selection import train_test_split\n",
        "\n",
        "X_train, X_test, y_train, y_test = train_test_split(X, y, test_size=0.3, random_state=42)\n",
        "X_train, X_val, y_train, y_val = train_test_split(X_train, y_train, test_size=0.25, random_state=42)\n"
      ]
    },
    {
      "cell_type": "markdown",
      "metadata": {
        "id": "fHWawdyS4hTh"
      },
      "source": [
        "Standardization\n"
      ]
    },
    {
      "cell_type": "code",
      "execution_count": null,
      "metadata": {
        "id": "9iQmMdmH4g62"
      },
      "outputs": [],
      "source": [
        "from sklearn.preprocessing import StandardScaler\n",
        "\n",
        "scaler = StandardScaler()\n",
        "X_train = scaler.fit_transform(X_train)\n",
        "X_val = scaler.transform(X_val)\n",
        "X_test = scaler.transform(X_test)\n"
      ]
    },
    {
      "cell_type": "markdown",
      "metadata": {
        "id": "d95iCVvT5znK"
      },
      "source": [
        "Model creation"
      ]
    },
    {
      "cell_type": "markdown",
      "metadata": {
        "id": "1pWn3xLQ9eP2"
      },
      "source": [
        "Logistic regression"
      ]
    },
    {
      "cell_type": "code",
      "execution_count": null,
      "metadata": {
        "id": "MdWyUsiG51WL",
        "colab": {
          "base_uri": "https://localhost:8080/"
        },
        "outputId": "a49b79b4-cfef-49fd-de38-df60c219ebde"
      },
      "outputs": [
        {
          "output_type": "stream",
          "name": "stdout",
          "text": [
            "Validation Accuracy: 0.8666666666666667\n",
            "Test Accuracy: 0.8833333333333333\n"
          ]
        }
      ],
      "source": [
        "from sklearn.linear_model import LogisticRegression\n",
        "from sklearn.metrics import *\n",
        "\n",
        "logistic_regression = LogisticRegression(max_iter=1000)\n",
        "\n",
        "# Training on the training data\n",
        "logistic_regression.fit(X_train, y_train)\n",
        "\n",
        "# predictions on the validation set\n",
        "y_pred_val = logistic_regression.predict(X_val)\n",
        "\n",
        "# accuracy on the validation set\n",
        "accuracy_val = accuracy_score(y_val, y_pred_val)\n",
        "print(f\"Validation Accuracy: {accuracy_val}\")\n",
        "\n",
        "# predictions on the test set\n",
        "y_pred_test = logistic_regression.predict(X_test)\n",
        "\n",
        "# accuracy on the test set\n",
        "accuracy_test = accuracy_score(y_test, y_pred_test)\n",
        "print(f\"Test Accuracy: {accuracy_test}\")"
      ]
    },
    {
      "cell_type": "markdown",
      "metadata": {
        "id": "qiwAFOz_n3Q0"
      },
      "source": [
        "Model Evaluation"
      ]
    },
    {
      "cell_type": "code",
      "execution_count": null,
      "metadata": {
        "colab": {
          "base_uri": "https://localhost:8080/"
        },
        "id": "YqASH7R8n5M0",
        "outputId": "46d87e47-da35-4876-f51c-0c76268a01a6"
      },
      "outputs": [
        {
          "output_type": "stream",
          "name": "stdout",
          "text": [
            "           Metric       Value\n",
            "0        Accuracy    0.883333\n",
            "1       Precision    0.884956\n",
            "2          Recall    0.925926\n",
            "3         AUC-ROC    0.904964\n",
            "4            AUPR    0.897488\n",
            "5   True Positive  100.000000\n",
            "6   True Negative   59.000000\n",
            "7  False Positive   13.000000\n",
            "8  False Negative    8.000000\n"
          ]
        }
      ],
      "source": [
        "# predictions on the test set\n",
        "y_pred_test = logistic_regression.predict(X_test)\n",
        "y_prob_test = logistic_regression.predict_proba(X_test)[:, 1]\n",
        "\n",
        "# evaluation metrics\n",
        "tn, fp, fn, tp = confusion_matrix(y_test, y_pred_test).ravel()\n",
        "accuracy = accuracy_score(y_test, y_pred_test)\n",
        "\n",
        "precision = precision_score(y_test, y_pred_test, pos_label='M')\n",
        "recall = recall_score(y_test, y_pred_test, pos_label='M')\n",
        "\n",
        "# AUC and AUPR\n",
        "y_test_binary = (y_test == 'M').astype(int)\n",
        "auc_roc = roc_auc_score(y_test_binary, y_prob_test)\n",
        "aupr = average_precision_score(y_test_binary, y_prob_test)\n",
        "\n",
        "results_df = pd.DataFrame({\n",
        "    'Metric': ['Accuracy', 'Precision', 'Recall', 'AUC-ROC', 'AUPR', 'True Positive', 'True Negative', 'False Positive', 'False Negative'],\n",
        "    'Value': [accuracy, precision, recall, auc_roc, aupr, tp, tn, fp, fn]\n",
        "})\n",
        "\n",
        "\n",
        "\n",
        "print(results_df)"
      ]
    },
    {
      "cell_type": "markdown",
      "metadata": {
        "id": "e9co2hZ2n8ft"
      },
      "source": [
        "ROC Curve"
      ]
    },
    {
      "cell_type": "code",
      "execution_count": null,
      "metadata": {
        "colab": {
          "base_uri": "https://localhost:8080/",
          "height": 472
        },
        "id": "cocQvmCen9zZ",
        "outputId": "e993eda4-8319-4eaf-a7d2-3bb72c9e0b70"
      },
      "outputs": [
        {
          "output_type": "display_data",
          "data": {
            "text/plain": [
              "<Figure size 640x480 with 1 Axes>"
            ],
            "image/png": "[encoded data removed]"
          },
          "metadata": {}
        }
      ],
      "source": [
        "# Import necessary libraries\n",
        "from sklearn.metrics import roc_curve, auc  # Importing roc_curve and auc\n",
        "\n",
        "# ROC Curve\n",
        "fpr, tpr, thresholds = roc_curve(y_test_binary, y_prob_test)\n",
        "roc_auc = auc(fpr, tpr)\n",
        "\n",
        "# Precision-Recall Curve\n",
        "# precision_curve, recall_curve, _ = precision_recall_curve(y_test_binary, y_prob_test)\n",
        "\n",
        "import matplotlib.pyplot as plt # ensures matplotlib is imported\n",
        "plt.plot(fpr, tpr, label='ROC curve (area = %0.2f)' % roc_auc)\n",
        "plt.plot([0, 1], [0, 1], 'k--')\n",
        "plt.xlabel('False Positive Rate')\n",
        "plt.ylabel('True Positive Rate')\n",
        "plt.title('Receiver Operating Characteristic (ROC)')\n",
        "plt.legend(loc=\"lower right\")\n",
        "plt.show()"
      ]
    },
    {
      "cell_type": "markdown",
      "metadata": {
        "id": "V3JqSqPG-Fmk"
      },
      "source": [
        "KNN"
      ]
    },
    {
      "cell_type": "code",
      "execution_count": null,
      "metadata": {
        "colab": {
          "base_uri": "https://localhost:8080/"
        },
        "id": "qXHF6myM-Gfi",
        "outputId": "f58d883e-fc58-4ea4-97e5-a7939ad9a09d"
      },
      "outputs": [
        {
          "output_type": "stream",
          "name": "stdout",
          "text": [
            "Validation Accuracy: 0.9333333333333333\n",
            "Test Accuracy: 0.9666666666666667\n"
          ]
        }
      ],
      "source": [
        "from sklearn.neighbors import KNeighborsClassifier\n",
        "from sklearn.metrics import accuracy_score\n",
        "\n",
        "# k=5\n",
        "knn = KNeighborsClassifier(n_neighbors=5)\n",
        "\n",
        "knn.fit(X_train, y_train)\n",
        "\n",
        "# predictions on the validation set\n",
        "y_pred_val = knn.predict(X_val)\n",
        "\n",
        "# Evaluate the model's accuracy on the validation set\n",
        "accuracy_val = accuracy_score(y_val, y_pred_val)\n",
        "print(f\"Validation Accuracy: {accuracy_val}\")\n",
        "\n",
        "# Make predictions on the test set\n",
        "y_pred_test = knn.predict(X_test)\n",
        "\n",
        "# Evaluate the model's accuracy on the test set\n",
        "accuracy_test = accuracy_score(y_test, y_pred_test)\n",
        "print(f\"Test Accuracy: {accuracy_test}\")\n"
      ]
    },
    {
      "cell_type": "markdown",
      "metadata": {
        "id": "AKWurmGUneSs"
      },
      "source": [
        "Model Evaluation\n"
      ]
    },
    {
      "cell_type": "code",
      "execution_count": null,
      "metadata": {
        "colab": {
          "base_uri": "https://localhost:8080/"
        },
        "id": "0u5DgHYjnhQQ",
        "outputId": "f2b30401-ac77-4b03-e9a2-87a5865fd160"
      },
      "outputs": [
        {
          "output_type": "stream",
          "name": "stdout",
          "text": [
            "           Metric       Value\n",
            "0        Accuracy    0.966667\n",
            "1       Precision    0.947368\n",
            "2          Recall    1.000000\n",
            "3         AUC-ROC    0.996142\n",
            "4            AUPR    0.995605\n",
            "5   True Positive  108.000000\n",
            "6   True Negative   66.000000\n",
            "7  False Positive    6.000000\n",
            "8  False Negative    0.000000\n"
          ]
        }
      ],
      "source": [
        "from sklearn.metrics import confusion_matrix, roc_auc_score, average_precision_score, precision_score, recall_score\n",
        "\n",
        "\n",
        "# predictions on the test set\n",
        "y_pred_test = knn.predict(X_test)\n",
        "y_prob_test = knn.predict_proba(X_test)[:, 1]\n",
        "\n",
        "# evaluation metrics\n",
        "tn, fp, fn, tp = confusion_matrix(y_test, y_pred_test).ravel()\n",
        "accuracy = accuracy_score(y_test, y_pred_test)\n",
        "precision = precision_score(y_test, y_pred_test, pos_label='M')\n",
        "recall = recall_score(y_test, y_pred_test, pos_label='M')\n",
        "\n",
        "# AUC and AUPR\n",
        "y_test_binary = (y_test == 'M').astype(int)\n",
        "auc_roc = roc_auc_score(y_test_binary, y_prob_test)\n",
        "aupr = average_precision_score(y_test_binary, y_prob_test)\n",
        "\n",
        "results_df = pd.DataFrame({\n",
        "    'Metric': ['Accuracy', 'Precision', 'Recall', 'AUC-ROC', 'AUPR', 'True Positive', 'True Negative', 'False Positive', 'False Negative'],\n",
        "    'Value': [accuracy, precision, recall, auc_roc, aupr, tp, tn, fp, fn]\n",
        "})\n",
        "\n",
        "print(results_df)"
      ]
    },
    {
      "cell_type": "markdown",
      "metadata": {
        "id": "kmM10yV7noXo"
      },
      "source": [
        "ROC Curve\n"
      ]
    },
    {
      "cell_type": "code",
      "execution_count": null,
      "metadata": {
        "colab": {
          "base_uri": "https://localhost:8080/",
          "height": 472
        },
        "id": "lz9hvYFEnvCC",
        "outputId": "afd87540-ee07-4016-cd8c-f544c96bbc4a"
      },
      "outputs": [
        {
          "output_type": "display_data",
          "data": {
            "text/plain": [
              "<Figure size 640x480 with 1 Axes>"
            ],
            "image/png": "[encoded data removed]"
          },
          "metadata": {}
        }
      ],
      "source": [
        "from sklearn.metrics import roc_curve, auc, precision_recall_curve\n",
        "\n",
        "# ROC Curve\n",
        "fpr, tpr, thresholds = roc_curve(y_test_binary, y_prob_test)\n",
        "roc_auc = auc(fpr, tpr)\n",
        "\n",
        "# Precision-Recall Curve\n",
        "# precision_curve, recall_curve, _ = precision_recall_curve(y_test_binary, y_prob_test)\n",
        "\n",
        "import matplotlib.pyplot as plt\n",
        "plt.plot(fpr, tpr, label='ROC curve (area = %0.2f)' % roc_auc)\n",
        "plt.plot([0, 1], [0, 1], 'k--')\n",
        "plt.xlabel('False Positive Rate')\n",
        "plt.ylabel('True Positive Rate')\n",
        "plt.title('Receiver Operating Characteristic (ROC)')\n",
        "plt.legend(loc=\"lower right\")\n",
        "plt.show()"
      ]
    },
    {
      "cell_type": "markdown",
      "metadata": {
        "id": "n6VU5fgX-hPo"
      },
      "source": [
        "Random Forest"
      ]
    },
    {
      "cell_type": "code",
      "execution_count": null,
      "metadata": {
        "colab": {
          "base_uri": "https://localhost:8080/"
        },
        "id": "t2s4is4p-jGs",
        "outputId": "1c04f246-eb47-4ed9-99ac-7979296dcb26"
      },
      "outputs": [
        {
          "output_type": "stream",
          "name": "stdout",
          "text": [
            "Validation Accuracy (Random Forest): 0.9333333333333333\n",
            "Test Accuracy (Random Forest): 0.9666666666666667\n"
          ]
        }
      ],
      "source": [
        "from sklearn.ensemble import RandomForestClassifier\n",
        "\n",
        "rf = RandomForestClassifier(n_estimators=100, random_state=42)\n",
        "\n",
        "# Training the model on the training data\n",
        "rf.fit(X_train, y_train)\n",
        "\n",
        "# predictions on the validation set\n",
        "y_pred_val_rf = rf.predict(X_val)\n",
        "\n",
        "# accuracy on the validation set\n",
        "accuracy_val = accuracy_score(y_val, y_pred_val)\n",
        "print(f\"Validation Accuracy (Random Forest): {accuracy_val}\")\n",
        "\n",
        "# predictions on the test set\n",
        "y_pred_test_rf = rf.predict(X_test)\n",
        "\n",
        "# accuracy on the test set\n",
        "accuracy_test = accuracy_score(y_test, y_pred_test)\n",
        "print(f\"Test Accuracy (Random Forest): {accuracy_test}\")\n"
      ]
    },
    {
      "cell_type": "markdown",
      "metadata": {
        "id": "hNuOJZ6toEU1"
      },
      "source": [
        "Model Evaluation"
      ]
    },
    {
      "cell_type": "code",
      "execution_count": null,
      "metadata": {
        "colab": {
          "base_uri": "https://localhost:8080/"
        },
        "id": "X7LCnmSQoG5p",
        "outputId": "c394a4a8-f670-479a-c9c0-856ec3702bc1"
      },
      "outputs": [
        {
          "output_type": "stream",
          "name": "stdout",
          "text": [
            "\n",
            "Random Forest Results:\n",
            "           Metric  Value\n",
            "0        Accuracy    1.0\n",
            "1       Precision    1.0\n",
            "2          Recall    1.0\n",
            "3         AUC-ROC    1.0\n",
            "4            AUPR    1.0\n",
            "5   True Positive  108.0\n",
            "6   True Negative   72.0\n",
            "7  False Positive    0.0\n",
            "8  False Negative    0.0\n"
          ]
        }
      ],
      "source": [
        "y_pred_test_rf = rf.predict(X_test)\n",
        "y_prob_test_rf = rf.predict_proba(X_test)[:, 1]\n",
        "\n",
        "# evaluation metrics\n",
        "tn_rf, fp_rf, fn_rf, tp_rf = confusion_matrix(y_test, y_pred_test_rf).ravel()\n",
        "accuracy_rf = accuracy_score(y_test, y_pred_test_rf)\n",
        "precision_rf = precision_score(y_test, y_pred_test_rf, pos_label='M')\n",
        "recall_rf = recall_score(y_test, y_pred_test_rf, pos_label='M')\n",
        "auc_roc_rf = roc_auc_score(y_test_binary, y_prob_test_rf)\n",
        "aupr_rf = average_precision_score(y_test_binary, y_prob_test_rf)\n",
        "\n",
        "\n",
        "results_rf_df = pd.DataFrame({\n",
        "    'Metric': ['Accuracy', 'Precision', 'Recall', 'AUC-ROC', 'AUPR', 'True Positive', 'True Negative', 'False Positive', 'False Negative'],\n",
        "    'Value': [accuracy_rf, precision_rf, recall_rf, auc_roc_rf, aupr_rf, tp_rf, tn_rf, fp_rf, fn_rf]\n",
        "})\n",
        "\n",
        "print(\"\\nRandom Forest Results:\")\n",
        "print(results_rf_df)"
      ]
    },
    {
      "cell_type": "markdown",
      "metadata": {
        "id": "l0esz2ccoJ9e"
      },
      "source": [
        "ROC Curve"
      ]
    },
    {
      "cell_type": "code",
      "execution_count": null,
      "metadata": {
        "colab": {
          "base_uri": "https://localhost:8080/",
          "height": 472
        },
        "id": "qzMxI-tHoLNV",
        "outputId": "eaead575-0f32-4230-9bc6-63c1fe71816b"
      },
      "outputs": [
        {
          "output_type": "display_data",
          "data": {
            "text/plain": [
              "<Figure size 640x480 with 1 Axes>"
            ],
            "image/png": "[encoded data removed]"
          },
          "metadata": {}
        }
      ],
      "source": [
        "fpr_rf, tpr_rf, thresholds_rf = roc_curve(y_test_binary, y_prob_test_rf)\n",
        "roc_auc_rf = auc(fpr_rf, tpr_rf)\n",
        "\n",
        "plt.plot(fpr_rf, tpr_rf, label='ROC curve (area = %0.2f)' % roc_auc_rf)\n",
        "plt.plot([0, 1], [0, 1], 'k--')\n",
        "plt.xlabel('False Positive Rate')\n",
        "plt.ylabel('True Positive Rate')\n",
        "plt.title('Receiver Operating Characteristic (ROC) - Random Forest')\n",
        "plt.legend(loc=\"lower right\")\n",
        "plt.show()\n",
        "\n",
        "# Precision-Recall Curve\n",
        "# precision_curve_rf, recall_curve_rf, _ = precision_recall_curve(y_test_binary, y_prob_test_rf)\n"
      ]
    },
    {
      "cell_type": "markdown",
      "metadata": {
        "id": "anFD9dL0b_8t"
      },
      "source": [
        "XG Boost"
      ]
    },
    {
      "cell_type": "code",
      "execution_count": null,
      "metadata": {
        "colab": {
          "base_uri": "https://localhost:8080/"
        },
        "id": "5UwLlXZBdaoI",
        "outputId": "d907358b-0f7e-4ef7-896e-9b45ff14d286"
      },
      "outputs": [
        {
          "output_type": "stream",
          "name": "stdout",
          "text": [
            "Accuracy: 0.9944444444444445\n"
          ]
        }
      ],
      "source": [
        "import xgboost as xgb\n",
        "from sklearn.metrics import accuracy_score\n",
        "# Import LabelEncoder\n",
        "from sklearn.preprocessing import LabelEncoder\n",
        "\n",
        "# Create an XGBoost classifier\n",
        "model = xgb.XGBClassifier()\n",
        "\n",
        "# Create a LabelEncoder object\n",
        "le = LabelEncoder()\n",
        "\n",
        "# Fit and transform the target variable to numerical values\n",
        "y_train = le.fit_transform(y_train)\n",
        "y_test = le.transform(y_test)\n",
        "\n",
        "# Train the model\n",
        "model.fit(X_train, y_train)\n",
        "\n",
        "# Make predictions on the test set\n",
        "y_pred = model.predict(X_test)\n",
        "\n",
        "# Calculate accuracy\n",
        "accuracy = accuracy_score(y_test, y_pred)\n",
        "\n",
        "# Print the accuracy\n",
        "print(\"Accuracy:\", accuracy)"
      ]
    },
    {
      "cell_type": "markdown",
      "metadata": {
        "id": "N3x6aDNYsCzX"
      },
      "source": [
        "Model Evaluation\n"
      ]
    },
    {
      "cell_type": "code",
      "execution_count": null,
      "metadata": {
        "colab": {
          "base_uri": "https://localhost:8080/",
          "height": 366
        },
        "id": "r8LC7Qzbr3jH",
        "outputId": "3ab894da-6e6f-4f08-8e83-9b7934d22fca"
      },
      "outputs": [
        {
          "output_type": "stream",
          "name": "stdout",
          "text": [
            "\n",
            "XGBoost Results:\n"
          ]
        },
        {
          "output_type": "execute_result",
          "data": {
            "text/plain": [
              "           Metric       Value\n",
              "0        Accuracy    0.994444\n",
              "1       Precision    0.990826\n",
              "2          Recall    1.000000\n",
              "3         AUC-ROC    0.999100\n",
              "4            AUPR    0.999393\n",
              "5   True Positive  108.000000\n",
              "6   True Negative   71.000000\n",
              "7  False Positive    1.000000\n",
              "8  False Negative    0.000000"
            ],
            "text/html": [
              "\n",
              "  <div id=\"df-5c38c01b-f84a-4867-9389-987203504bbf\" class=\"colab-df-container\">\n",
              "    <div>\n",
              "<style scoped>\n",
              "    .dataframe tbody tr th:only-of-type {\n",
              "        vertical-align: middle;\n",
              "    }\n",
              "\n",
              "    .dataframe tbody tr th {\n",
              "        vertical-align: top;\n",
              "    }\n",
              "\n",
              "    .dataframe thead th {\n",
              "        text-align: right;\n",
              "    }\n",
              "</style>\n",
              "<table border=\"1\" class=\"dataframe\">\n",
              "  <thead>\n",
              "    <tr style=\"text-align: right;\">\n",
              "      <th></th>\n",
              "      <th>Metric</th>\n",
              "      <th>Value</th>\n",
              "    </tr>\n",
              "  </thead>\n",
              "  <tbody>\n",
              "    <tr>\n",
              "      <th>0</th>\n",
              "      <td>Accuracy</td>\n",
              "      <td>0.994444</td>\n",
              "    </tr>\n",
              "    <tr>\n",
              "      <th>1</th>\n",
              "      <td>Precision</td>\n",
              "      <td>0.990826</td>\n",
              "    </tr>\n",
              "    <tr>\n",
              "      <th>2</th>\n",
              "      <td>Recall</td>\n",
              "      <td>1.000000</td>\n",
              "    </tr>\n",
              "    <tr>\n",
              "      <th>3</th>\n",
              "      <td>AUC-ROC</td>\n",
              "      <td>0.999100</td>\n",
              "    </tr>\n",
              "    <tr>\n",
              "      <th>4</th>\n",
              "      <td>AUPR</td>\n",
              "      <td>0.999393</td>\n",
              "    </tr>\n",
              "    <tr>\n",
              "      <th>5</th>\n",
              "      <td>True Positive</td>\n",
              "      <td>108.000000</td>\n",
              "    </tr>\n",
              "    <tr>\n",
              "      <th>6</th>\n",
              "      <td>True Negative</td>\n",
              "      <td>71.000000</td>\n",
              "    </tr>\n",
              "    <tr>\n",
              "      <th>7</th>\n",
              "      <td>False Positive</td>\n",
              "      <td>1.000000</td>\n",
              "    </tr>\n",
              "    <tr>\n",
              "      <th>8</th>\n",
              "      <td>False Negative</td>\n",
              "      <td>0.000000</td>\n",
              "    </tr>\n",
              "  </tbody>\n",
              "</table>\n",
              "</div>\n",
              "    <div class=\"colab-df-buttons\">\n",
              "\n",
              "  <div class=\"colab-df-container\">\n",
              "    <button class=\"colab-df-convert\" onclick=\"convertToInteractive('df-5c38c01b-f84a-4867-9389-987203504bbf')\"\n",
              "            title=\"Convert this dataframe to an interactive table.\"\n",
              "            style=\"display:none;\">\n",
              "\n",
              "  <svg xmlns=\"http://www.w3.org/2000/svg\" height=\"24px\" viewBox=\"0 -960 960 960\">\n",
              "    <path d=\"M120-120v-720h720v720H120Zm60-500h600v-160H180v160Zm220 220h160v-160H400v160Zm0 220h160v-160H400v160ZM180-400h160v-160H180v160Zm440 0h160v-160H620v160ZM180-180h160v-160H180v160Zm440 0h160v-160H620v160Z\"/>\n",
              "  </svg>\n",
              "    </button>\n",
              "\n",
              "  <style>\n",
              "    .colab-df-container {\n",
              "      display:flex;\n",
              "      gap: 12px;\n",
              "    }\n",
              "\n",
              "    .colab-df-convert {\n",
              "      background-color: #E8F0FE;\n",
              "      border: none;\n",
              "      border-radius: 50%;\n",
              "      cursor: pointer;\n",
              "      display: none;\n",
              "      fill: #1967D2;\n",
              "      height: 32px;\n",
              "      padding: 0 0 0 0;\n",
              "      width: 32px;\n",
              "    }\n",
              "\n",
              "    .colab-df-convert:hover {\n",
              "      background-color: #E2EBFA;\n",
              "      box-shadow: 0px 1px 2px rgba(60, 64, 67, 0.3), 0px 1px 3px 1px rgba(60, 64, 67, 0.15);\n",
              "      fill: #174EA6;\n",
              "    }\n",
              "\n",
              "    .colab-df-buttons div {\n",
              "      margin-bottom: 4px;\n",
              "    }\n",
              "\n",
              "    [theme=dark] .colab-df-convert {\n",
              "      background-color: #3B4455;\n",
              "      fill: #D2E3FC;\n",
              "    }\n",
              "\n",
              "    [theme=dark] .colab-df-convert:hover {\n",
              "      background-color: #434B5C;\n",
              "      box-shadow: 0px 1px 3px 1px rgba(0, 0, 0, 0.15);\n",
              "      filter: drop-shadow(0px 1px 2px rgba(0, 0, 0, 0.3));\n",
              "      fill: #FFFFFF;\n",
              "    }\n",
              "  </style>\n",
              "\n",
              "    <script>\n",
              "      const buttonEl =\n",
              "        document.querySelector('#df-5c38c01b-f84a-4867-9389-987203504bbf button.colab-df-convert');\n",
              "      buttonEl.style.display =\n",
              "        google.colab.kernel.accessAllowed ? 'block' : 'none';\n",
              "\n",
              "      async function convertToInteractive(key) {\n",
              "        const element = document.querySelector('#df-5c38c01b-f84a-4867-9389-987203504bbf');\n",
              "        const dataTable =\n",
              "          await google.colab.kernel.invokeFunction('convertToInteractive',\n",
              "                                                    [key], {});\n",
              "        if (!dataTable) return;\n",
              "\n",
              "        const docLinkHtml = 'Like what you see? Visit the ' +\n",
              "          '<a target=\"_blank\" href=https://colab.research.google.com/notebooks/data_table.ipynb>data table notebook</a>'\n",
              "          + ' to learn more about interactive tables.';\n",
              "        element.innerHTML = '';\n",
              "        dataTable['output_type'] = 'display_data';\n",
              "        await google.colab.output.renderOutput(dataTable, element);\n",
              "        const docLink = document.createElement('div');\n",
              "        docLink.innerHTML = docLinkHtml;\n",
              "        element.appendChild(docLink);\n",
              "      }\n",
              "    </script>\n",
              "  </div>\n",
              "\n",
              "\n",
              "<div id=\"df-6ed19807-157b-455d-8c78-938f18e2f562\">\n",
              "  <button class=\"colab-df-quickchart\" onclick=\"quickchart('df-6ed19807-157b-455d-8c78-938f18e2f562')\"\n",
              "            title=\"Suggest charts\"\n",
              "            style=\"display:none;\">\n",
              "\n",
              "<svg xmlns=\"http://www.w3.org/2000/svg\" height=\"24px\"viewBox=\"0 0 24 24\"\n",
              "     width=\"24px\">\n",
              "    <g>\n",
              "        <path d=\"M19 3H5c-1.1 0-2 .9-2 2v14c0 1.1.9 2 2 2h14c1.1 0 2-.9 2-2V5c0-1.1-.9-2-2-2zM9 17H7v-7h2v7zm4 0h-2V7h2v10zm4 0h-2v-4h2v4z\"/>\n",
              "    </g>\n",
              "</svg>\n",
              "  </button>\n",
              "\n",
              "<style>\n",
              "  .colab-df-quickchart {\n",
              "      --bg-color: #E8F0FE;\n",
              "      --fill-color: #1967D2;\n",
              "      --hover-bg-color: #E2EBFA;\n",
              "      --hover-fill-color: #174EA6;\n",
              "      --disabled-fill-color: #AAA;\n",
              "      --disabled-bg-color: #DDD;\n",
              "  }\n",
              "\n",
              "  [theme=dark] .colab-df-quickchart {\n",
              "      --bg-color: #3B4455;\n",
              "      --fill-color: #D2E3FC;\n",
              "      --hover-bg-color: #434B5C;\n",
              "      --hover-fill-color: #FFFFFF;\n",
              "      --disabled-bg-color: #3B4455;\n",
              "      --disabled-fill-color: #666;\n",
              "  }\n",
              "\n",
              "  .colab-df-quickchart {\n",
              "    background-color: var(--bg-color);\n",
              "    border: none;\n",
              "    border-radius: 50%;\n",
              "    cursor: pointer;\n",
              "    display: none;\n",
              "    fill: var(--fill-color);\n",
              "    height: 32px;\n",
              "    padding: 0;\n",
              "    width: 32px;\n",
              "  }\n",
              "\n",
              "  .colab-df-quickchart:hover {\n",
              "    background-color: var(--hover-bg-color);\n",
              "    box-shadow: 0 1px 2px rgba(60, 64, 67, 0.3), 0 1px 3px 1px rgba(60, 64, 67, 0.15);\n",
              "    fill: var(--button-hover-fill-color);\n",
              "  }\n",
              "\n",
              "  .colab-df-quickchart-complete:disabled,\n",
              "  .colab-df-quickchart-complete:disabled:hover {\n",
              "    background-color: var(--disabled-bg-color);\n",
              "    fill: var(--disabled-fill-color);\n",
              "    box-shadow: none;\n",
              "  }\n",
              "\n",
              "  .colab-df-spinner {\n",
              "    border: 2px solid var(--fill-color);\n",
              "    border-color: transparent;\n",
              "    border-bottom-color: var(--fill-color);\n",
              "    animation:\n",
              "      spin 1s steps(1) infinite;\n",
              "  }\n",
              "\n",
              "  @keyframes spin {\n",
              "    0% {\n",
              "      border-color: transparent;\n",
              "      border-bottom-color: var(--fill-color);\n",
              "      border-left-color: var(--fill-color);\n",
              "    }\n",
              "    20% {\n",
              "      border-color: transparent;\n",
              "      border-left-color: var(--fill-color);\n",
              "      border-top-color: var(--fill-color);\n",
              "    }\n",
              "    30% {\n",
              "      border-color: transparent;\n",
              "      border-left-color: var(--fill-color);\n",
              "      border-top-color: var(--fill-color);\n",
              "      border-right-color: var(--fill-color);\n",
              "    }\n",
              "    40% {\n",
              "      border-color: transparent;\n",
              "      border-right-color: var(--fill-color);\n",
              "      border-top-color: var(--fill-color);\n",
              "    }\n",
              "    60% {\n",
              "      border-color: transparent;\n",
              "      border-right-color: var(--fill-color);\n",
              "    }\n",
              "    80% {\n",
              "      border-color: transparent;\n",
              "      border-right-color: var(--fill-color);\n",
              "      border-bottom-color: var(--fill-color);\n",
              "    }\n",
              "    90% {\n",
              "      border-color: transparent;\n",
              "      border-bottom-color: var(--fill-color);\n",
              "    }\n",
              "  }\n",
              "</style>\n",
              "\n",
              "  <script>\n",
              "    async function quickchart(key) {\n",
              "      const quickchartButtonEl =\n",
              "        document.querySelector('#' + key + ' button');\n",
              "      quickchartButtonEl.disabled = true;  // To prevent multiple clicks.\n",
              "      quickchartButtonEl.classList.add('colab-df-spinner');\n",
              "      try {\n",
              "        const charts = await google.colab.kernel.invokeFunction(\n",
              "            'suggestCharts', [key], {});\n",
              "      } catch (error) {\n",
              "        console.error('Error during call to suggestCharts:', error);\n",
              "      }\n",
              "      quickchartButtonEl.classList.remove('colab-df-spinner');\n",
              "      quickchartButtonEl.classList.add('colab-df-quickchart-complete');\n",
              "    }\n",
              "    (() => {\n",
              "      let quickchartButtonEl =\n",
              "        document.querySelector('#df-6ed19807-157b-455d-8c78-938f18e2f562 button');\n",
              "      quickchartButtonEl.style.display =\n",
              "        google.colab.kernel.accessAllowed ? 'block' : 'none';\n",
              "    })();\n",
              "  </script>\n",
              "</div>\n",
              "\n",
              "  <div id=\"id_bb5d1614-c184-49dc-8d3c-37712f10a128\">\n",
              "    <style>\n",
              "      .colab-df-generate {\n",
              "        background-color: #E8F0FE;\n",
              "        border: none;\n",
              "        border-radius: 50%;\n",
              "        cursor: pointer;\n",
              "        display: none;\n",
              "        fill: #1967D2;\n",
              "        height: 32px;\n",
              "        padding: 0 0 0 0;\n",
              "        width: 32px;\n",
              "      }\n",
              "\n",
              "      .colab-df-generate:hover {\n",
              "        background-color: #E2EBFA;\n",
              "        box-shadow: 0px 1px 2px rgba(60, 64, 67, 0.3), 0px 1px 3px 1px rgba(60, 64, 67, 0.15);\n",
              "        fill: #174EA6;\n",
              "      }\n",
              "\n",
              "      [theme=dark] .colab-df-generate {\n",
              "        background-color: #3B4455;\n",
              "        fill: #D2E3FC;\n",
              "      }\n",
              "\n",
              "      [theme=dark] .colab-df-generate:hover {\n",
              "        background-color: #434B5C;\n",
              "        box-shadow: 0px 1px 3px 1px rgba(0, 0, 0, 0.15);\n",
              "        filter: drop-shadow(0px 1px 2px rgba(0, 0, 0, 0.3));\n",
              "        fill: #FFFFFF;\n",
              "      }\n",
              "    </style>\n",
              "    <button class=\"colab-df-generate\" onclick=\"generateWithVariable('results_xgb_df')\"\n",
              "            title=\"Generate code using this dataframe.\"\n",
              "            style=\"display:none;\">\n",
              "\n",
              "  <svg xmlns=\"http://www.w3.org/2000/svg\" height=\"24px\"viewBox=\"0 0 24 24\"\n",
              "       width=\"24px\">\n",
              "    <path d=\"M7,19H8.4L18.45,9,17,7.55,7,17.6ZM5,21V16.75L18.45,3.32a2,2,0,0,1,2.83,0l1.4,1.43a1.91,1.91,0,0,1,.58,1.4,1.91,1.91,0,0,1-.58,1.4L9.25,21ZM18.45,9,17,7.55Zm-12,3A5.31,5.31,0,0,0,4.9,8.1,5.31,5.31,0,0,0,1,6.5,5.31,5.31,0,0,0,4.9,4.9,5.31,5.31,0,0,0,6.5,1,5.31,5.31,0,0,0,8.1,4.9,5.31,5.31,0,0,0,12,6.5,5.46,5.46,0,0,0,6.5,12Z\"/>\n",
              "  </svg>\n",
              "    </button>\n",
              "    <script>\n",
              "      (() => {\n",
              "      const buttonEl =\n",
              "        document.querySelector('#id_bb5d1614-c184-49dc-8d3c-37712f10a128 button.colab-df-generate');\n",
              "      buttonEl.style.display =\n",
              "        google.colab.kernel.accessAllowed ? 'block' : 'none';\n",
              "\n",
              "      buttonEl.onclick = () => {\n",
              "        google.colab.notebook.generateWithVariable('results_xgb_df');\n",
              "      }\n",
              "      })();\n",
              "    </script>\n",
              "  </div>\n",
              "\n",
              "    </div>\n",
              "  </div>\n"
            ],
            "application/vnd.google.colaboratory.intrinsic+json": {
              "type": "dataframe",
              "variable_name": "results_xgb_df",
              "summary": "{\n  \"name\": \"results_xgb_df\",\n  \"rows\": 9,\n  \"fields\": [\n    {\n      \"column\": \"Metric\",\n      \"properties\": {\n        \"dtype\": \"string\",\n        \"num_unique_values\": 9,\n        \"samples\": [\n          \"False Positive\",\n          \"Precision\",\n          \"True Positive\"\n        ],\n        \"semantic_type\": \"\",\n        \"description\": \"\"\n      }\n    },\n    {\n      \"column\": \"Value\",\n      \"properties\": {\n        \"dtype\": \"number\",\n        \"std\": 40.16972951066763,\n        \"min\": 0.0,\n        \"max\": 108.0,\n        \"num_unique_values\": 8,\n        \"samples\": [\n          0.9908256880733946,\n          108.0,\n          0.9944444444444445\n        ],\n        \"semantic_type\": \"\",\n        \"description\": \"\"\n      }\n    }\n  ]\n}"
            }
          },
          "metadata": {},
          "execution_count": 59
        }
      ],
      "source": [
        "# XGBoost Model Evaluation\n",
        "y_prob_test_xgb = model.predict_proba(X_test)[:, 1]\n",
        "\n",
        "# evaluation metrics\n",
        "tn_xgb, fp_xgb, fn_xgb, tp_xgb = confusion_matrix(y_test, y_pred).ravel()\n",
        "accuracy_xgb = accuracy_score(y_test, y_pred)\n",
        "precision_xgb = precision_score(y_test, y_pred)\n",
        "recall_xgb = recall_score(y_test, y_pred)\n",
        "auc_roc_xgb = roc_auc_score(y_test, y_prob_test_xgb)\n",
        "aupr_xgb = average_precision_score(y_test, y_prob_test_xgb)\n",
        "\n",
        "results_xgb_df = pd.DataFrame({\n",
        "    'Metric': ['Accuracy', 'Precision', 'Recall', 'AUC-ROC', 'AUPR', 'True Positive', 'True Negative', 'False Positive', 'False Negative'],\n",
        "    'Value': [accuracy_xgb, precision_xgb, recall_xgb, auc_roc_xgb, aupr_xgb, tp_xgb, tn_xgb, fp_xgb, fn_xgb]\n",
        "})\n",
        "\n",
        "print(\"\\nXGBoost Results:\")\n",
        "results_xgb_df\n"
      ]
    },
    {
      "cell_type": "markdown",
      "metadata": {
        "id": "NdCelEKVsK5C"
      },
      "source": [
        "ROC Curve"
      ]
    },
    {
      "cell_type": "code",
      "execution_count": null,
      "metadata": {
        "colab": {
          "base_uri": "https://localhost:8080/",
          "height": 472
        },
        "id": "ElpgYTEZsMr0",
        "outputId": "994c796f-7a67-44af-b95f-952ac2e55d88"
      },
      "outputs": [
        {
          "output_type": "display_data",
          "data": {
            "text/plain": [
              "<Figure size 640x480 with 1 Axes>"
            ],
            "image/png": "[encoded data removed]"
          },
          "metadata": {}
        }
      ],
      "source": [
        "# XGBoost ROC Curve\n",
        "fpr_xgb, tpr_xgb, thresholds_xgb = roc_curve(y_test, y_prob_test_xgb)\n",
        "roc_auc_xgb = auc(fpr_xgb, tpr_xgb)\n",
        "\n",
        "plt.plot(fpr_xgb, tpr_xgb, label='ROC curve (area = %0.2f)' % roc_auc_xgb)\n",
        "plt.plot([0, 1], [0, 1], 'k--')\n",
        "plt.xlabel('False Positive Rate')\n",
        "plt.ylabel('True Positive Rate')\n",
        "plt.title('Receiver Operating Characteristic (ROC) - XGBoost')\n",
        "plt.legend(loc=\"lower right\")\n",
        "plt.show()\n"
      ]
    },
    {
      "cell_type": "markdown",
      "metadata": {
        "id": "tAcgpNohsT4f"
      },
      "source": [
        "Gradient Boosting\n"
      ]
    },
    {
      "cell_type": "code",
      "execution_count": null,
      "metadata": {
        "colab": {
          "base_uri": "https://localhost:8080/"
        },
        "id": "blx4bejrsXO4",
        "outputId": "eb70369b-f0e1-46e0-c7cf-38c4199a7db8"
      },
      "outputs": [
        {
          "output_type": "stream",
          "name": "stdout",
          "text": [
            "Validation Accuracy (Gradient Boosting): 0.9333333333333333\n",
            "Test Accuracy (Gradient Boosting): 0.9555555555555556\n"
          ]
        }
      ],
      "source": [
        "from sklearn.ensemble import GradientBoostingClassifier\n",
        "\n",
        "gb = GradientBoostingClassifier(n_estimators=100, random_state=42)\n",
        "\n",
        "# Training the model on the training data\n",
        "gb.fit(X_train, y_train) # y_train is already numerically encoded\n",
        "\n",
        "# predictions on the validation set\n",
        "y_pred_val_gb = gb.predict(X_val)\n",
        "\n",
        "# accuracy on the validation set\n",
        "# Assuming y_val needs to be numerically encoded if it's not already\n",
        "# y_val_encoded = le.transform(y_val)\n",
        "accuracy_val = accuracy_score(y_val, y_pred_val)  # Use original y_val if it's encoded\n",
        "print(f\"Validation Accuracy (Gradient Boosting): {accuracy_val}\")\n",
        "\n",
        "# predictions on the test set\n",
        "y_pred_test_gb = gb.predict(X_test)\n",
        "\n",
        "# model's accuracy on the test set\n",
        "# Use the numerically encoded y_test (same as used for XGBoost)\n",
        "accuracy_test = accuracy_score(y_test, y_pred_test_gb)\n",
        "print(f\"Test Accuracy (Gradient Boosting): {accuracy_test}\")"
      ]
    },
    {
      "cell_type": "markdown",
      "metadata": {
        "id": "fFQLV_dms-8l"
      },
      "source": [
        "Model Evaluation"
      ]
    },
    {
      "cell_type": "code",
      "execution_count": null,
      "metadata": {
        "colab": {
          "base_uri": "https://localhost:8080/"
        },
        "id": "NVcNf7yWtB17",
        "outputId": "3c0c46d9-aeb8-4e16-acb1-55ff0adc4f5b"
      },
      "outputs": [
        {
          "output_type": "stream",
          "name": "stdout",
          "text": [
            "\n",
            "Gradient Boosting Results:\n",
            "           Metric       Value\n",
            "0        Accuracy    0.955556\n",
            "1       Precision    0.971698\n",
            "2          Recall    0.953704\n",
            "3         AUC-ROC    0.996528\n",
            "4            AUPR    0.997703\n",
            "5   True Positive  103.000000\n",
            "6   True Negative   69.000000\n",
            "7  False Positive    3.000000\n",
            "8  False Negative    5.000000\n"
          ]
        }
      ],
      "source": [
        "# predictions on the test set for Gradient Boosting\n",
        "y_pred_test_gb = gb.predict(X_test)\n",
        "y_prob_test_gb = gb.predict_proba(X_test)[:, 1]\n",
        "\n",
        "# evaluation metrics\n",
        "tn_gb, fp_gb, fn_gb, tp_gb = confusion_matrix(y_test, y_pred_test_gb).ravel()\n",
        "accuracy_gb = accuracy_score(y_test, y_pred_test_gb)\n",
        "precision_gb = precision_score(y_test, y_pred_test_gb, pos_label=1) # Changed pos_label to 1\n",
        "recall_gb = recall_score(y_test, y_pred_test_gb, pos_label=1)       # Changed pos_label to 1\n",
        "auc_roc_gb = roc_auc_score(y_test_binary, y_prob_test_gb)\n",
        "aupr_gb = average_precision_score(y_test_binary, y_prob_test_gb)\n",
        "\n",
        "results_gb_df = pd.DataFrame({\n",
        "    'Metric': ['Accuracy', 'Precision', 'Recall', 'AUC-ROC', 'AUPR', 'True Positive', 'True Negative', 'False Positive', 'False Negative'],\n",
        "    'Value': [accuracy_gb, precision_gb, recall_gb, auc_roc_gb, aupr_gb, tp_gb, tn_gb, fp_gb, fn_gb]\n",
        "})\n",
        "\n",
        "print(\"\\nGradient Boosting Results:\")\n",
        "print(results_gb_df)"
      ]
    },
    {
      "cell_type": "markdown",
      "metadata": {
        "id": "k0BYlkmPtbGi"
      },
      "source": [
        "ROC Curve"
      ]
    },
    {
      "cell_type": "code",
      "execution_count": null,
      "metadata": {
        "colab": {
          "base_uri": "https://localhost:8080/",
          "height": 472
        },
        "id": "Z01LSVO6tdEZ",
        "outputId": "ca920bcd-b82c-41f5-f5ff-1a451045cb84"
      },
      "outputs": [
        {
          "output_type": "display_data",
          "data": {
            "text/plain": [
              "<Figure size 640x480 with 1 Axes>"
            ],
            "image/png": "[encoded data removed]"
          },
          "metadata": {}
        }
      ],
      "source": [
        "fpr_gb, tpr_gb, thresholds_gb = roc_curve(y_test_binary, y_prob_test_gb)\n",
        "roc_auc_gb = auc(fpr_gb, tpr_gb)\n",
        "\n",
        "plt.plot(fpr_gb, tpr_gb, label='ROC curve (area = %0.2f)' % roc_auc_gb)\n",
        "plt.plot([0, 1], [0, 1], 'k--')\n",
        "plt.xlabel('False Positive Rate')\n",
        "plt.ylabel('True Positive Rate')\n",
        "plt.title('Receiver Operating Characteristic (ROC) - Gradient Boosting')\n",
        "plt.legend(loc=\"lower right\")\n",
        "plt.show()\n",
        "\n",
        "# Precision-Recall Curve\n",
        "# precision_curve_gb, recall_curve_gb, _ = precision_recall_curve(y_test_binary, y_prob_test_gb)"
      ]
    },
    {
      "cell_type": "markdown",
      "metadata": {
        "id": "LCndDjsjyAj4"
      },
      "source": [
        "Stacking"
      ]
    },
    {
      "cell_type": "code",
      "execution_count": null,
      "metadata": {
        "colab": {
          "base_uri": "https://localhost:8080/",
          "height": 698
        },
        "id": "_1op4_VMyCTW",
        "outputId": "b0b33aa5-7037-4245-862e-04084a288116"
      },
      "outputs": [
        {
          "output_type": "stream",
          "name": "stdout",
          "text": [
            "Accuracy of StackingClassifier: 1.0\n",
            "\n",
            "Stacking Results:\n",
            "           Metric  Value\n",
            "0        Accuracy    1.0\n",
            "1       Precision    1.0\n",
            "2          Recall    1.0\n",
            "3         AUC-ROC    1.0\n",
            "4            AUPR    1.0\n",
            "5   True Positive  108.0\n",
            "6   True Negative   72.0\n",
            "7  False Positive    0.0\n",
            "8  False Negative    0.0\n"
          ]
        },
        {
          "output_type": "display_data",
          "data": {
            "text/plain": [
              "<Figure size 640x480 with 1 Axes>"
            ],
            "image/png": "[encoded data removed]"
          },
          "metadata": {}
        }
      ],
      "source": [
        "from sklearn.ensemble import StackingClassifier\n",
        "\n",
        "# Define the base estimators\n",
        "estimators = [\n",
        "    ('knn', KNeighborsClassifier(n_neighbors=5)),\n",
        "    ('lr', LogisticRegression(max_iter=1000)),\n",
        "    ('rf', RandomForestClassifier(n_estimators=100, random_state=42)),\n",
        "    ('gb', GradientBoostingClassifier(n_estimators=100, random_state=42)),\n",
        "    ('xgb', xgb.XGBClassifier())\n",
        "\n",
        "]\n",
        "\n",
        "# Define the meta-learner\n",
        "meta_learner = LogisticRegression()\n",
        "\n",
        "# Create the stacking classifier\n",
        "stacking_model = StackingClassifier(estimators=estimators, final_estimator=meta_learner)\n",
        "\n",
        "# Train the stacking model\n",
        "stacking_model.fit(X_train, y_train)\n",
        "\n",
        "# Make predictions on the test set\n",
        "y_pred_stacking = stacking_model.predict(X_test)\n",
        "y_prob_stacking = stacking_model.predict_proba(X_test)[:, 1]\n",
        "\n",
        "# Evaluate the stacking model\n",
        "accuracy_stacking = accuracy_score(y_test, y_pred_stacking)\n",
        "print(f\"Accuracy of StackingClassifier: {accuracy_stacking}\")\n",
        "\n",
        "#Further evaluation metrics can be added here similar to what's done for individual models\n",
        "#e.g., confusion matrix, precision, recall, AUC-ROC, etc.\n",
        "tn_stack, fp_stack, fn_stack, tp_stack = confusion_matrix(y_test, y_pred_stacking).ravel()\n",
        "precision_stack = precision_score(y_test, y_pred_stacking)\n",
        "recall_stack = recall_score(y_test, y_pred_stacking)\n",
        "auc_roc_stack = roc_auc_score(y_test, y_prob_stacking)\n",
        "aupr_stack = average_precision_score(y_test, y_prob_stacking)\n",
        "\n",
        "results_stack_df = pd.DataFrame({\n",
        "    'Metric': ['Accuracy', 'Precision', 'Recall', 'AUC-ROC', 'AUPR', 'True Positive', 'True Negative', 'False Positive', 'False Negative'],\n",
        "    'Value': [accuracy_stacking, precision_stack, recall_stack, auc_roc_stack, aupr_stack, tp_stack, tn_stack, fp_stack, fn_stack]\n",
        "})\n",
        "\n",
        "print(\"\\nStacking Results:\")\n",
        "print(results_stack_df)\n",
        "\n",
        "# ROC Curve for Stacking\n",
        "fpr_stack, tpr_stack, thresholds_stack = roc_curve(y_test, y_prob_stacking)\n",
        "roc_auc_stack = auc(fpr_stack, tpr_stack)\n",
        "\n",
        "plt.plot(fpr_stack, tpr_stack, label='ROC curve (area = %0.2f)' % roc_auc_stack)\n",
        "plt.plot([0, 1], [0, 1], 'k--')\n",
        "plt.xlabel('False Positive Rate')\n",
        "plt.ylabel('True Positive Rate')\n",
        "plt.title('Receiver Operating Characteristic (ROC) - Stacking')\n",
        "plt.legend(loc=\"lower right\")\n",
        "plt.show()\n"
      ]
    },
    {
      "cell_type": "markdown",
      "source": [
        "##Voting\n"
      ],
      "metadata": {
        "id": "bV99x4oPHAkx"
      }
    },
    {
      "cell_type": "code",
      "source": [
        "\n",
        "from sklearn.ensemble import VotingClassifier\n",
        "\n",
        "# Define the individual classifiers\n",
        "estimators = [\n",
        "    ('knn', knn),\n",
        "    ('lr', logistic_regression),\n",
        "    ('rf', rf),\n",
        "    ('gb', gb),\n",
        "    ('xgb', model)\n",
        "]\n",
        "\n",
        "# Create the voting classifier\n",
        "voting_classifier = VotingClassifier(estimators=estimators, voting='soft')\n",
        "\n",
        "# Train the voting classifier\n",
        "voting_classifier.fit(X_train, y_train)\n",
        "\n",
        "# Make predictions\n",
        "y_pred_voting = voting_classifier.predict(X_test)\n",
        "y_prob_voting = voting_classifier.predict_proba(X_test)[:, 1]\n",
        "\n",
        "# Evaluate the voting classifier\n",
        "accuracy_voting = accuracy_score(y_test, y_pred_voting)\n",
        "print(f\"Accuracy of VotingClassifier: {accuracy_voting}\")\n",
        "\n",
        "# Calculate other metrics\n",
        "tn_voting, fp_voting, fn_voting, tp_voting = confusion_matrix(y_test, y_pred_voting).ravel()\n",
        "precision_voting = precision_score(y_test, y_pred_voting)\n",
        "recall_voting = recall_score(y_test, y_pred_voting)\n",
        "auc_roc_voting = roc_auc_score(y_test, y_prob_voting)\n",
        "aupr_voting = average_precision_score(y_test, y_prob_voting)\n",
        "\n",
        "results_voting_df = pd.DataFrame({\n",
        "    'Metric': ['Accuracy', 'Precision', 'Recall', 'AUC-ROC', 'AUPR', 'True Positive', 'True Negative', 'False Positive', 'False Negative'],\n",
        "    'Value': [accuracy_voting, precision_voting, recall_voting, auc_roc_voting, aupr_voting, tp_voting, tn_voting, fp_voting, fn_voting]\n",
        "})\n",
        "\n",
        "print(\"\\nVoting Results:\")\n",
        "print(results_voting_df)\n",
        "\n",
        "# ROC Curve\n",
        "fpr_voting, tpr_voting, thresholds_voting = roc_curve(y_test, y_prob_voting)\n",
        "roc_auc_voting = auc(fpr_voting, tpr_voting)\n",
        "\n",
        "plt.plot(fpr_voting, tpr_voting, label='ROC curve (area = %0.2f)' % roc_auc_voting)\n",
        "plt.plot([0, 1], [0, 1], 'k--')\n",
        "plt.xlabel('False Positive Rate')\n",
        "plt.ylabel('True Positive Rate')\n",
        "plt.title('Receiver Operating Characteristic (ROC) - Voting')\n",
        "plt.legend(loc=\"lower right\")\n",
        "plt.show()\n"
      ],
      "metadata": {
        "colab": {
          "base_uri": "https://localhost:8080/",
          "height": 698
        },
        "id": "MVk_EoraHAFw",
        "outputId": "066b8570-979d-4b77-96e6-7743bf6b3f03"
      },
      "execution_count": null,
      "outputs": [
        {
          "output_type": "stream",
          "name": "stdout",
          "text": [
            "Accuracy of VotingClassifier: 1.0\n",
            "\n",
            "Voting Results:\n",
            "           Metric  Value\n",
            "0        Accuracy    1.0\n",
            "1       Precision    1.0\n",
            "2          Recall    1.0\n",
            "3         AUC-ROC    1.0\n",
            "4            AUPR    1.0\n",
            "5   True Positive  108.0\n",
            "6   True Negative   72.0\n",
            "7  False Positive    0.0\n",
            "8  False Negative    0.0\n"
          ]
        },
        {
          "output_type": "display_data",
          "data": {
            "text/plain": [
              "<Figure size 640x480 with 1 Axes>"
            ],
            "image/png": "[encoded data removed]"
          },
          "metadata": {}
        }
      ]
    },
    {
      "cell_type": "markdown",
      "metadata": {
        "id": "Iacrb7hf-wY-"
      },
      "source": [
        "PREDICTION MODEL"
      ]
    },
    {
      "cell_type": "code",
      "execution_count": null,
      "metadata": {
        "id": "pPhwRIGI3eBH"
      },
      "outputs": [],
      "source": [
        "def predict_prostate_cancer():\n",
        "  \"\"\"Predicts prostate cancer presence based on user input.\"\"\"\n",
        "\n",
        "  # Get user input for features\n",
        "  radius = float(input(\"Enter radius: \"))\n",
        "  texture = float(input(\"Enter texture: \"))\n",
        "  perimeter = float(input(\"Enter perimeter: \"))\n",
        "  area = float(input(\"Enter area: \"))\n",
        "  smoothness = float(input(\"Enter smoothness: \"))\n",
        "  compactness = float(input(\"Enter compactness: \"))\n",
        "  symmetry = float(input(\"Enter symmetry: \"))\n",
        "  fractal_dimension = float(input(\"Enter fractal_dimension: \"))\n",
        "\n",
        "  # Create a new data point with user input\n",
        "  new_data = [[radius, texture, perimeter, area, smoothness, compactness, symmetry, fractal_dimension]]\n",
        "\n",
        "  # Scale the new data point\n",
        "  new_data = scaler.transform(new_data)\n",
        "\n",
        "  # Make prediction using the best performing model (you can change this)\n",
        "  prediction = nb_model.predict(new_data)[0]\n",
        "\n",
        "  if prediction == \"M\":\n",
        "    print(\"Prostate cancer is likely present.\")\n",
        "  else:\n",
        "    print(\"Prostate cancer is likely not present.\")\n",
        "\n",
        "# Example usage:\n",
        "predict_prostate_cancer()\n"
      ]
    }
  ],
  "metadata": {
    "colab": {
      "provenance": []
    },
    "kernelspec": {
      "display_name": "Python 3",
      "name": "python3"
    },
    "language_info": {
      "name": "python"
    }
  },
  "nbformat": 4,
  "nbformat_minor": 0
}