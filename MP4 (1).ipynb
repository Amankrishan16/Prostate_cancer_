{
  "cells": [
    {
      "cell_type": "markdown",
      "metadata": {
        "id": "6_89QK_TKOt4"
      },
      "source": [
        "# **Prostate Cancer Model**"
      ]
    },
    {
      "cell_type": "markdown",
      "metadata": {
        "id": "mylHjdKvKZ9h"
      },
      "source": [
        "###By Group Number 3\n",
        "\n"
      ]
    },
    {
      "cell_type": "markdown",
      "metadata": {
        "id": "w6w7PRVUL6tk"
      },
      "source": [
        "## Problem Statement\n"
      ]
    },
    {
      "cell_type": "markdown",
      "metadata": {
        "id": "Q374ojrwL-sk"
      },
      "source": [
        "To develop a machine learning model to classify patients as having prostate cancer (positive) or not (negative) based on clinical and biochemical features.\n",
        "\n"
      ]
    },
    {
      "cell_type": "markdown",
      "metadata": {
        "id": "3Qn8jQ88MAsL"
      },
      "source": [
        "## Data Loading"
      ]
    },
    {
      "cell_type": "code",
      "execution_count": null,
      "metadata": {
        "colab": {
          "base_uri": "https://localhost:8080/",
          "height": 73
        },
        "id": "2DqXpM5DMF8i",
        "outputId": "3ddbd63b-e658-480e-f7e9-827c465207e1"
      },
      "outputs": [
        {
          "output_type": "display_data",
          "data": {
            "text/plain": [
              "<IPython.core.display.HTML object>"
            ],
            "text/html": [
              "\n",
              "     <input type=\"file\" id=\"files-82f9a6b5-dbec-4e9e-8934-c994450bfea4\" name=\"files[]\" multiple disabled\n",
              "        style=\"border:none\" />\n",
              "     <output id=\"result-82f9a6b5-dbec-4e9e-8934-c994450bfea4\">\n",
              "      Upload widget is only available when the cell has been executed in the\n",
              "      current browser session. Please rerun this cell to enable.\n",
              "      </output>\n",
              "      <script>// Copyright 2017 Google LLC\n",
              "//\n",
              "// Licensed under the Apache License, Version 2.0 (the \"License\");\n",
              "// you may not use this file except in compliance with the License.\n",
              "// You may obtain a copy of the License at\n",
              "//\n",
              "//      http://www.apache.org/licenses/LICENSE-2.0\n",
              "//\n",
              "// Unless required by applicable law or agreed to in writing, software\n",
              "// distributed under the License is distributed on an \"AS IS\" BASIS,\n",
              "// WITHOUT WARRANTIES OR CONDITIONS OF ANY KIND, either express or implied.\n",
              "// See the License for the specific language governing permissions and\n",
              "// limitations under the License.\n",
              "\n",
              "/**\n",
              " * @fileoverview Helpers for google.colab Python module.\n",
              " */\n",
              "(function(scope) {\n",
              "function span(text, styleAttributes = {}) {\n",
              "  const element = document.createElement('span');\n",
              "  element.textContent = text;\n",
              "  for (const key of Object.keys(styleAttributes)) {\n",
              "    element.style[key] = styleAttributes[key];\n",
              "  }\n",
              "  return element;\n",
              "}\n",
              "\n",
              "// Max number of bytes which will be uploaded at a time.\n",
              "const MAX_PAYLOAD_SIZE = 100 * 1024;\n",
              "\n",
              "function _uploadFiles(inputId, outputId) {\n",
              "  const steps = uploadFilesStep(inputId, outputId);\n",
              "  const outputElement = document.getElementById(outputId);\n",
              "  // Cache steps on the outputElement to make it available for the next call\n",
              "  // to uploadFilesContinue from Python.\n",
              "  outputElement.steps = steps;\n",
              "\n",
              "  return _uploadFilesContinue(outputId);\n",
              "}\n",
              "\n",
              "// This is roughly an async generator (not supported in the browser yet),\n",
              "// where there are multiple asynchronous steps and the Python side is going\n",
              "// to poll for completion of each step.\n",
              "// This uses a Promise to block the python side on completion of each step,\n",
              "// then passes the result of the previous step as the input to the next step.\n",
              "function _uploadFilesContinue(outputId) {\n",
              "  const outputElement = document.getElementById(outputId);\n",
              "  const steps = outputElement.steps;\n",
              "\n",
              "  const next = steps.next(outputElement.lastPromiseValue);\n",
              "  return Promise.resolve(next.value.promise).then((value) => {\n",
              "    // Cache the last promise value to make it available to the next\n",
              "    // step of the generator.\n",
              "    outputElement.lastPromiseValue = value;\n",
              "    return next.value.response;\n",
              "  });\n",
              "}\n",
              "\n",
              "/**\n",
              " * Generator function which is called between each async step of the upload\n",
              " * process.\n",
              " * @param {string} inputId Element ID of the input file picker element.\n",
              " * @param {string} outputId Element ID of the output display.\n",
              " * @return {!Iterable<!Object>} Iterable of next steps.\n",
              " */\n",
              "function* uploadFilesStep(inputId, outputId) {\n",
              "  const inputElement = document.getElementById(inputId);\n",
              "  inputElement.disabled = false;\n",
              "\n",
              "  const outputElement = document.getElementById(outputId);\n",
              "  outputElement.innerHTML = '';\n",
              "\n",
              "  const pickedPromise = new Promise((resolve) => {\n",
              "    inputElement.addEventListener('change', (e) => {\n",
              "      resolve(e.target.files);\n",
              "    });\n",
              "  });\n",
              "\n",
              "  const cancel = document.createElement('button');\n",
              "  inputElement.parentElement.appendChild(cancel);\n",
              "  cancel.textContent = 'Cancel upload';\n",
              "  const cancelPromise = new Promise((resolve) => {\n",
              "    cancel.onclick = () => {\n",
              "      resolve(null);\n",
              "    };\n",
              "  });\n",
              "\n",
              "  // Wait for the user to pick the files.\n",
              "  const files = yield {\n",
              "    promise: Promise.race([pickedPromise, cancelPromise]),\n",
              "    response: {\n",
              "      action: 'starting',\n",
              "    }\n",
              "  };\n",
              "\n",
              "  cancel.remove();\n",
              "\n",
              "  // Disable the input element since further picks are not allowed.\n",
              "  inputElement.disabled = true;\n",
              "\n",
              "  if (!files) {\n",
              "    return {\n",
              "      response: {\n",
              "        action: 'complete',\n",
              "      }\n",
              "    };\n",
              "  }\n",
              "\n",
              "  for (const file of files) {\n",
              "    const li = document.createElement('li');\n",
              "    li.append(span(file.name, {fontWeight: 'bold'}));\n",
              "    li.append(span(\n",
              "        `(${file.type || 'n/a'}) - ${file.size} bytes, ` +\n",
              "        `last modified: ${\n",
              "            file.lastModifiedDate ? file.lastModifiedDate.toLocaleDateString() :\n",
              "                                    'n/a'} - `));\n",
              "    const percent = span('0% done');\n",
              "    li.appendChild(percent);\n",
              "\n",
              "    outputElement.appendChild(li);\n",
              "\n",
              "    const fileDataPromise = new Promise((resolve) => {\n",
              "      const reader = new FileReader();\n",
              "      reader.onload = (e) => {\n",
              "        resolve(e.target.result);\n",
              "      };\n",
              "      reader.readAsArrayBuffer(file);\n",
              "    });\n",
              "    // Wait for the data to be ready.\n",
              "    let fileData = yield {\n",
              "      promise: fileDataPromise,\n",
              "      response: {\n",
              "        action: 'continue',\n",
              "      }\n",
              "    };\n",
              "\n",
              "    // Use a chunked sending to avoid message size limits. See b/62115660.\n",
              "    let position = 0;\n",
              "    do {\n",
              "      const length = Math.min(fileData.byteLength - position, MAX_PAYLOAD_SIZE);\n",
              "      const chunk = new Uint8Array(fileData, position, length);\n",
              "      position += length;\n",
              "\n",
              "      const base64 = btoa(String.fromCharCode.apply(null, chunk));\n",
              "      yield {\n",
              "        response: {\n",
              "          action: 'append',\n",
              "          file: file.name,\n",
              "          data: base64,\n",
              "        },\n",
              "      };\n",
              "\n",
              "      let percentDone = fileData.byteLength === 0 ?\n",
              "          100 :\n",
              "          Math.round((position / fileData.byteLength) * 100);\n",
              "      percent.textContent = `${percentDone}% done`;\n",
              "\n",
              "    } while (position < fileData.byteLength);\n",
              "  }\n",
              "\n",
              "  // All done.\n",
              "  yield {\n",
              "    response: {\n",
              "      action: 'complete',\n",
              "    }\n",
              "  };\n",
              "}\n",
              "\n",
              "scope.google = scope.google || {};\n",
              "scope.google.colab = scope.google.colab || {};\n",
              "scope.google.colab._files = {\n",
              "  _uploadFiles,\n",
              "  _uploadFilesContinue,\n",
              "};\n",
              "})(self);\n",
              "</script> "
            ]
          },
          "metadata": {}
        },
        {
          "output_type": "stream",
          "name": "stdout",
          "text": [
            "Saving Prostate_Cancer2.csv to Prostate_Cancer2.csv\n"
          ]
        }
      ],
      "source": [
        "from google.colab import files\n",
        "uploaded = files.upload()"
      ]
    },
    {
      "cell_type": "code",
      "execution_count": null,
      "metadata": {
        "id": "VelV-c6DMMVt",
        "colab": {
          "base_uri": "https://localhost:8080/"
        },
        "outputId": "04ad7cc0-91b2-4c99-fe8e-cea21f089642"
      },
      "outputs": [
        {
          "output_type": "stream",
          "name": "stdout",
          "text": [
            "   No.  Age        BMI   RBC  HGB   WBC     PLT   PMN  LYMPH  MONOC    tPSA  \\\n",
            "0    1   71  23.875115  3.37  105  5.52  195.00  3.39   1.66   0.28  13.242   \n",
            "1    2   75  23.620000  4.85  137  4.25  155.00  2.72   1.01   0.33  30.570   \n",
            "2    3   70  19.140000  3.58  118  1.95    1.75  0.73   0.65   0.49  20.070   \n",
            "3    4   84  22.038567  4.99  158  9.10  220.00  7.85   0.84   0.28   8.798   \n",
            "4    5   75  21.551020  4.66  153  4.16  251.00  2.85   1.04   0.23  10.140   \n",
            "\n",
            "    fPSA        PV      PSAD  GLU  CRE  ALT  AST  AST/ALT Prostate Cancer  \n",
            "0  2.598  72.38400  0.182941  4.4   62   26   19     0.75        negative  \n",
            "1  2.240  50.21000  0.610000  4.8   52   14   16     1.14        positive  \n",
            "2  7.770  50.64000  0.400000  6.0   63   22   17     0.77        positive  \n",
            "3  1.183  60.88992  0.144490  5.6   58   18   21     1.17        negative  \n",
            "4  1.880  56.45640  0.179608  5.9   55   17   20     1.18        negative  \n"
          ]
        }
      ],
      "source": [
        "import pandas as pd\n",
        "import io\n",
        "\n",
        "df = pd.read_csv(io.BytesIO(uploaded['Prostate_Cancer2.csv']))\n",
        "print(df.head())\n"
      ]
    },
    {
      "cell_type": "markdown",
      "metadata": {
        "id": "KSrzVGukMZGm"
      },
      "source": [
        "## **Data preparation & Data Preprocessing**"
      ]
    },
    {
      "cell_type": "markdown",
      "metadata": {
        "id": "X_yOXOU3MlDG"
      },
      "source": [
        "### Data separation as X and y"
      ]
    },
    {
      "cell_type": "code",
      "execution_count": null,
      "metadata": {
        "id": "UCLQ-NzNMPyh",
        "colab": {
          "base_uri": "https://localhost:8080/",
          "height": 458
        },
        "outputId": "94f6a42c-3bed-4516-93fa-f82c82b8bf89"
      },
      "outputs": [
        {
          "output_type": "execute_result",
          "data": {
            "text/plain": [
              "0      negative\n",
              "1      positive\n",
              "2      positive\n",
              "3      negative\n",
              "4      negative\n",
              "         ...   \n",
              "295    positive\n",
              "296    positive\n",
              "297    negative\n",
              "298    positive\n",
              "299    negative\n",
              "Name: Prostate Cancer, Length: 300, dtype: object"
            ],
            "text/html": [
              "<div>\n",
              "<style scoped>\n",
              "    .dataframe tbody tr th:only-of-type {\n",
              "        vertical-align: middle;\n",
              "    }\n",
              "\n",
              "    .dataframe tbody tr th {\n",
              "        vertical-align: top;\n",
              "    }\n",
              "\n",
              "    .dataframe thead th {\n",
              "        text-align: right;\n",
              "    }\n",
              "</style>\n",
              "<table border=\"1\" class=\"dataframe\">\n",
              "  <thead>\n",
              "    <tr style=\"text-align: right;\">\n",
              "      <th></th>\n",
              "      <th>Prostate Cancer</th>\n",
              "    </tr>\n",
              "  </thead>\n",
              "  <tbody>\n",
              "    <tr>\n",
              "      <th>0</th>\n",
              "      <td>negative</td>\n",
              "    </tr>\n",
              "    <tr>\n",
              "      <th>1</th>\n",
              "      <td>positive</td>\n",
              "    </tr>\n",
              "    <tr>\n",
              "      <th>2</th>\n",
              "      <td>positive</td>\n",
              "    </tr>\n",
              "    <tr>\n",
              "      <th>3</th>\n",
              "      <td>negative</td>\n",
              "    </tr>\n",
              "    <tr>\n",
              "      <th>4</th>\n",
              "      <td>negative</td>\n",
              "    </tr>\n",
              "    <tr>\n",
              "      <th>...</th>\n",
              "      <td>...</td>\n",
              "    </tr>\n",
              "    <tr>\n",
              "      <th>295</th>\n",
              "      <td>positive</td>\n",
              "    </tr>\n",
              "    <tr>\n",
              "      <th>296</th>\n",
              "      <td>positive</td>\n",
              "    </tr>\n",
              "    <tr>\n",
              "      <th>297</th>\n",
              "      <td>negative</td>\n",
              "    </tr>\n",
              "    <tr>\n",
              "      <th>298</th>\n",
              "      <td>positive</td>\n",
              "    </tr>\n",
              "    <tr>\n",
              "      <th>299</th>\n",
              "      <td>negative</td>\n",
              "    </tr>\n",
              "  </tbody>\n",
              "</table>\n",
              "<p>300 rows × 1 columns</p>\n",
              "</div><br><label><b>dtype:</b> object</label>"
            ]
          },
          "metadata": {},
          "execution_count": 5
        }
      ],
      "source": [
        "y = df['Prostate Cancer']\n",
        "y"
      ]
    },
    {
      "cell_type": "code",
      "execution_count": null,
      "metadata": {
        "id": "0OVAmN2IMyDL",
        "colab": {
          "base_uri": "https://localhost:8080/",
          "height": 423
        },
        "outputId": "4579680d-06f5-4044-e346-5518caeb59b1"
      },
      "outputs": [
        {
          "output_type": "execute_result",
          "data": {
            "text/plain": [
              "     Age        BMI   RBC  HGB   WBC     PLT   PMN  LYMPH  MONOC     tPSA  \\\n",
              "0     71  23.875115  3.37  105  5.52  195.00  3.39   1.66   0.28   13.242   \n",
              "1     75  23.620000  4.85  137  4.25  155.00  2.72   1.01   0.33   30.570   \n",
              "2     70  19.140000  3.58  118  1.95    1.75  0.73   0.65   0.49   20.070   \n",
              "3     84  22.038567  4.99  158  9.10  220.00  7.85   0.84   0.28    8.798   \n",
              "4     75  21.551020  4.66  153  4.16  251.00  2.85   1.04   0.23   10.140   \n",
              "..   ...        ...   ...  ...   ...     ...   ...    ...    ...      ...   \n",
              "295   75  22.460034  2.41   62  3.01  295.00  1.80   0.85   0.30  154.000   \n",
              "296   66  25.711008  4.89  152  7.30  220.00  3.55   2.78   0.34   11.780   \n",
              "297   53  21.610000  4.68  133  4.68  213.00  2.81   1.48   0.22   17.020   \n",
              "298   86  19.267171  4.58  143  3.06  128.00  2.05   0.73   0.12   90.195   \n",
              "299   75  22.230987  4.04  129  5.06  167.00  3.40   1.24   0.33    7.950   \n",
              "\n",
              "       fPSA         PV      PSAD  GLU  CRE  ALT  AST  AST/ALT  \n",
              "0     2.598   72.38400  0.182941  4.4   62   26   19     0.75  \n",
              "1     2.240   50.21000  0.610000  4.8   52   14   16     1.14  \n",
              "2     7.770   50.64000  0.400000  6.0   63   22   17     0.77  \n",
              "3     1.183   60.88992  0.144490  5.6   58   18   21     1.17  \n",
              "4     1.880   56.45640  0.179608  5.9   55   17   20     1.18  \n",
              "..      ...        ...       ...  ...  ...  ...  ...      ...  \n",
              "295  19.300   88.67000  1.736777  3.9   60   13   13     1.00  \n",
              "296   2.340  111.42100  0.105725  5.0   61   17   20     1.18  \n",
              "297   2.770   27.04000  0.630000  4.8   64   18   23     1.28  \n",
              "298  13.208   39.71100  2.271285  5.0   77   25   23     0.92  \n",
              "299   1.760   58.45100  0.136011  5.7   69   11   13     1.18  \n",
              "\n",
              "[300 rows x 18 columns]"
            ],
            "text/html": [
              "\n",
              "  <div id=\"df-4c8ca2bb-6c9d-4f64-a28a-44dbe238e6fb\" class=\"colab-df-container\">\n",
              "    <div>\n",
              "<style scoped>\n",
              "    .dataframe tbody tr th:only-of-type {\n",
              "        vertical-align: middle;\n",
              "    }\n",
              "\n",
              "    .dataframe tbody tr th {\n",
              "        vertical-align: top;\n",
              "    }\n",
              "\n",
              "    .dataframe thead th {\n",
              "        text-align: right;\n",
              "    }\n",
              "</style>\n",
              "<table border=\"1\" class=\"dataframe\">\n",
              "  <thead>\n",
              "    <tr style=\"text-align: right;\">\n",
              "      <th></th>\n",
              "      <th>Age</th>\n",
              "      <th>BMI</th>\n",
              "      <th>RBC</th>\n",
              "      <th>HGB</th>\n",
              "      <th>WBC</th>\n",
              "      <th>PLT</th>\n",
              "      <th>PMN</th>\n",
              "      <th>LYMPH</th>\n",
              "      <th>MONOC</th>\n",
              "      <th>tPSA</th>\n",
              "      <th>fPSA</th>\n",
              "      <th>PV</th>\n",
              "      <th>PSAD</th>\n",
              "      <th>GLU</th>\n",
              "      <th>CRE</th>\n",
              "      <th>ALT</th>\n",
              "      <th>AST</th>\n",
              "      <th>AST/ALT</th>\n",
              "    </tr>\n",
              "  </thead>\n",
              "  <tbody>\n",
              "    <tr>\n",
              "      <th>0</th>\n",
              "      <td>71</td>\n",
              "      <td>23.875115</td>\n",
              "      <td>3.37</td>\n",
              "      <td>105</td>\n",
              "      <td>5.52</td>\n",
              "      <td>195.00</td>\n",
              "      <td>3.39</td>\n",
              "      <td>1.66</td>\n",
              "      <td>0.28</td>\n",
              "      <td>13.242</td>\n",
              "      <td>2.598</td>\n",
              "      <td>72.38400</td>\n",
              "      <td>0.182941</td>\n",
              "      <td>4.4</td>\n",
              "      <td>62</td>\n",
              "      <td>26</td>\n",
              "      <td>19</td>\n",
              "      <td>0.75</td>\n",
              "    </tr>\n",
              "    <tr>\n",
              "      <th>1</th>\n",
              "      <td>75</td>\n",
              "      <td>23.620000</td>\n",
              "      <td>4.85</td>\n",
              "      <td>137</td>\n",
              "      <td>4.25</td>\n",
              "      <td>155.00</td>\n",
              "      <td>2.72</td>\n",
              "      <td>1.01</td>\n",
              "      <td>0.33</td>\n",
              "      <td>30.570</td>\n",
              "      <td>2.240</td>\n",
              "      <td>50.21000</td>\n",
              "      <td>0.610000</td>\n",
              "      <td>4.8</td>\n",
              "      <td>52</td>\n",
              "      <td>14</td>\n",
              "      <td>16</td>\n",
              "      <td>1.14</td>\n",
              "    </tr>\n",
              "    <tr>\n",
              "      <th>2</th>\n",
              "      <td>70</td>\n",
              "      <td>19.140000</td>\n",
              "      <td>3.58</td>\n",
              "      <td>118</td>\n",
              "      <td>1.95</td>\n",
              "      <td>1.75</td>\n",
              "      <td>0.73</td>\n",
              "      <td>0.65</td>\n",
              "      <td>0.49</td>\n",
              "      <td>20.070</td>\n",
              "      <td>7.770</td>\n",
              "      <td>50.64000</td>\n",
              "      <td>0.400000</td>\n",
              "      <td>6.0</td>\n",
              "      <td>63</td>\n",
              "      <td>22</td>\n",
              "      <td>17</td>\n",
              "      <td>0.77</td>\n",
              "    </tr>\n",
              "    <tr>\n",
              "      <th>3</th>\n",
              "      <td>84</td>\n",
              "      <td>22.038567</td>\n",
              "      <td>4.99</td>\n",
              "      <td>158</td>\n",
              "      <td>9.10</td>\n",
              "      <td>220.00</td>\n",
              "      <td>7.85</td>\n",
              "      <td>0.84</td>\n",
              "      <td>0.28</td>\n",
              "      <td>8.798</td>\n",
              "      <td>1.183</td>\n",
              "      <td>60.88992</td>\n",
              "      <td>0.144490</td>\n",
              "      <td>5.6</td>\n",
              "      <td>58</td>\n",
              "      <td>18</td>\n",
              "      <td>21</td>\n",
              "      <td>1.17</td>\n",
              "    </tr>\n",
              "    <tr>\n",
              "      <th>4</th>\n",
              "      <td>75</td>\n",
              "      <td>21.551020</td>\n",
              "      <td>4.66</td>\n",
              "      <td>153</td>\n",
              "      <td>4.16</td>\n",
              "      <td>251.00</td>\n",
              "      <td>2.85</td>\n",
              "      <td>1.04</td>\n",
              "      <td>0.23</td>\n",
              "      <td>10.140</td>\n",
              "      <td>1.880</td>\n",
              "      <td>56.45640</td>\n",
              "      <td>0.179608</td>\n",
              "      <td>5.9</td>\n",
              "      <td>55</td>\n",
              "      <td>17</td>\n",
              "      <td>20</td>\n",
              "      <td>1.18</td>\n",
              "    </tr>\n",
              "    <tr>\n",
              "      <th>...</th>\n",
              "      <td>...</td>\n",
              "      <td>...</td>\n",
              "      <td>...</td>\n",
              "      <td>...</td>\n",
              "      <td>...</td>\n",
              "      <td>...</td>\n",
              "      <td>...</td>\n",
              "      <td>...</td>\n",
              "      <td>...</td>\n",
              "      <td>...</td>\n",
              "      <td>...</td>\n",
              "      <td>...</td>\n",
              "      <td>...</td>\n",
              "      <td>...</td>\n",
              "      <td>...</td>\n",
              "      <td>...</td>\n",
              "      <td>...</td>\n",
              "      <td>...</td>\n",
              "    </tr>\n",
              "    <tr>\n",
              "      <th>295</th>\n",
              "      <td>75</td>\n",
              "      <td>22.460034</td>\n",
              "      <td>2.41</td>\n",
              "      <td>62</td>\n",
              "      <td>3.01</td>\n",
              "      <td>295.00</td>\n",
              "      <td>1.80</td>\n",
              "      <td>0.85</td>\n",
              "      <td>0.30</td>\n",
              "      <td>154.000</td>\n",
              "      <td>19.300</td>\n",
              "      <td>88.67000</td>\n",
              "      <td>1.736777</td>\n",
              "      <td>3.9</td>\n",
              "      <td>60</td>\n",
              "      <td>13</td>\n",
              "      <td>13</td>\n",
              "      <td>1.00</td>\n",
              "    </tr>\n",
              "    <tr>\n",
              "      <th>296</th>\n",
              "      <td>66</td>\n",
              "      <td>25.711008</td>\n",
              "      <td>4.89</td>\n",
              "      <td>152</td>\n",
              "      <td>7.30</td>\n",
              "      <td>220.00</td>\n",
              "      <td>3.55</td>\n",
              "      <td>2.78</td>\n",
              "      <td>0.34</td>\n",
              "      <td>11.780</td>\n",
              "      <td>2.340</td>\n",
              "      <td>111.42100</td>\n",
              "      <td>0.105725</td>\n",
              "      <td>5.0</td>\n",
              "      <td>61</td>\n",
              "      <td>17</td>\n",
              "      <td>20</td>\n",
              "      <td>1.18</td>\n",
              "    </tr>\n",
              "    <tr>\n",
              "      <th>297</th>\n",
              "      <td>53</td>\n",
              "      <td>21.610000</td>\n",
              "      <td>4.68</td>\n",
              "      <td>133</td>\n",
              "      <td>4.68</td>\n",
              "      <td>213.00</td>\n",
              "      <td>2.81</td>\n",
              "      <td>1.48</td>\n",
              "      <td>0.22</td>\n",
              "      <td>17.020</td>\n",
              "      <td>2.770</td>\n",
              "      <td>27.04000</td>\n",
              "      <td>0.630000</td>\n",
              "      <td>4.8</td>\n",
              "      <td>64</td>\n",
              "      <td>18</td>\n",
              "      <td>23</td>\n",
              "      <td>1.28</td>\n",
              "    </tr>\n",
              "    <tr>\n",
              "      <th>298</th>\n",
              "      <td>86</td>\n",
              "      <td>19.267171</td>\n",
              "      <td>4.58</td>\n",
              "      <td>143</td>\n",
              "      <td>3.06</td>\n",
              "      <td>128.00</td>\n",
              "      <td>2.05</td>\n",
              "      <td>0.73</td>\n",
              "      <td>0.12</td>\n",
              "      <td>90.195</td>\n",
              "      <td>13.208</td>\n",
              "      <td>39.71100</td>\n",
              "      <td>2.271285</td>\n",
              "      <td>5.0</td>\n",
              "      <td>77</td>\n",
              "      <td>25</td>\n",
              "      <td>23</td>\n",
              "      <td>0.92</td>\n",
              "    </tr>\n",
              "    <tr>\n",
              "      <th>299</th>\n",
              "      <td>75</td>\n",
              "      <td>22.230987</td>\n",
              "      <td>4.04</td>\n",
              "      <td>129</td>\n",
              "      <td>5.06</td>\n",
              "      <td>167.00</td>\n",
              "      <td>3.40</td>\n",
              "      <td>1.24</td>\n",
              "      <td>0.33</td>\n",
              "      <td>7.950</td>\n",
              "      <td>1.760</td>\n",
              "      <td>58.45100</td>\n",
              "      <td>0.136011</td>\n",
              "      <td>5.7</td>\n",
              "      <td>69</td>\n",
              "      <td>11</td>\n",
              "      <td>13</td>\n",
              "      <td>1.18</td>\n",
              "    </tr>\n",
              "  </tbody>\n",
              "</table>\n",
              "<p>300 rows × 18 columns</p>\n",
              "</div>\n",
              "    <div class=\"colab-df-buttons\">\n",
              "\n",
              "  <div class=\"colab-df-container\">\n",
              "    <button class=\"colab-df-convert\" onclick=\"convertToInteractive('df-4c8ca2bb-6c9d-4f64-a28a-44dbe238e6fb')\"\n",
              "            title=\"Convert this dataframe to an interactive table.\"\n",
              "            style=\"display:none;\">\n",
              "\n",
              "  <svg xmlns=\"http://www.w3.org/2000/svg\" height=\"24px\" viewBox=\"0 -960 960 960\">\n",
              "    <path d=\"M120-120v-720h720v720H120Zm60-500h600v-160H180v160Zm220 220h160v-160H400v160Zm0 220h160v-160H400v160ZM180-400h160v-160H180v160Zm440 0h160v-160H620v160ZM180-180h160v-160H180v160Zm440 0h160v-160H620v160Z\"/>\n",
              "  </svg>\n",
              "    </button>\n",
              "\n",
              "  <style>\n",
              "    .colab-df-container {\n",
              "      display:flex;\n",
              "      gap: 12px;\n",
              "    }\n",
              "\n",
              "    .colab-df-convert {\n",
              "      background-color: #E8F0FE;\n",
              "      border: none;\n",
              "      border-radius: 50%;\n",
              "      cursor: pointer;\n",
              "      display: none;\n",
              "      fill: #1967D2;\n",
              "      height: 32px;\n",
              "      padding: 0 0 0 0;\n",
              "      width: 32px;\n",
              "    }\n",
              "\n",
              "    .colab-df-convert:hover {\n",
              "      background-color: #E2EBFA;\n",
              "      box-shadow: 0px 1px 2px rgba(60, 64, 67, 0.3), 0px 1px 3px 1px rgba(60, 64, 67, 0.15);\n",
              "      fill: #174EA6;\n",
              "    }\n",
              "\n",
              "    .colab-df-buttons div {\n",
              "      margin-bottom: 4px;\n",
              "    }\n",
              "\n",
              "    [theme=dark] .colab-df-convert {\n",
              "      background-color: #3B4455;\n",
              "      fill: #D2E3FC;\n",
              "    }\n",
              "\n",
              "    [theme=dark] .colab-df-convert:hover {\n",
              "      background-color: #434B5C;\n",
              "      box-shadow: 0px 1px 3px 1px rgba(0, 0, 0, 0.15);\n",
              "      filter: drop-shadow(0px 1px 2px rgba(0, 0, 0, 0.3));\n",
              "      fill: #FFFFFF;\n",
              "    }\n",
              "  </style>\n",
              "\n",
              "    <script>\n",
              "      const buttonEl =\n",
              "        document.querySelector('#df-4c8ca2bb-6c9d-4f64-a28a-44dbe238e6fb button.colab-df-convert');\n",
              "      buttonEl.style.display =\n",
              "        google.colab.kernel.accessAllowed ? 'block' : 'none';\n",
              "\n",
              "      async function convertToInteractive(key) {\n",
              "        const element = document.querySelector('#df-4c8ca2bb-6c9d-4f64-a28a-44dbe238e6fb');\n",
              "        const dataTable =\n",
              "          await google.colab.kernel.invokeFunction('convertToInteractive',\n",
              "                                                    [key], {});\n",
              "        if (!dataTable) return;\n",
              "\n",
              "        const docLinkHtml = 'Like what you see? Visit the ' +\n",
              "          '<a target=\"_blank\" href=https://colab.research.google.com/notebooks/data_table.ipynb>data table notebook</a>'\n",
              "          + ' to learn more about interactive tables.';\n",
              "        element.innerHTML = '';\n",
              "        dataTable['output_type'] = 'display_data';\n",
              "        await google.colab.output.renderOutput(dataTable, element);\n",
              "        const docLink = document.createElement('div');\n",
              "        docLink.innerHTML = docLinkHtml;\n",
              "        element.appendChild(docLink);\n",
              "      }\n",
              "    </script>\n",
              "  </div>\n",
              "\n",
              "\n",
              "<div id=\"df-2751205d-2c4e-4713-a71c-fe2351e1f927\">\n",
              "  <button class=\"colab-df-quickchart\" onclick=\"quickchart('df-2751205d-2c4e-4713-a71c-fe2351e1f927')\"\n",
              "            title=\"Suggest charts\"\n",
              "            style=\"display:none;\">\n",
              "\n",
              "<svg xmlns=\"http://www.w3.org/2000/svg\" height=\"24px\"viewBox=\"0 0 24 24\"\n",
              "     width=\"24px\">\n",
              "    <g>\n",
              "        <path d=\"M19 3H5c-1.1 0-2 .9-2 2v14c0 1.1.9 2 2 2h14c1.1 0 2-.9 2-2V5c0-1.1-.9-2-2-2zM9 17H7v-7h2v7zm4 0h-2V7h2v10zm4 0h-2v-4h2v4z\"/>\n",
              "    </g>\n",
              "</svg>\n",
              "  </button>\n",
              "\n",
              "<style>\n",
              "  .colab-df-quickchart {\n",
              "      --bg-color: #E8F0FE;\n",
              "      --fill-color: #1967D2;\n",
              "      --hover-bg-color: #E2EBFA;\n",
              "      --hover-fill-color: #174EA6;\n",
              "      --disabled-fill-color: #AAA;\n",
              "      --disabled-bg-color: #DDD;\n",
              "  }\n",
              "\n",
              "  [theme=dark] .colab-df-quickchart {\n",
              "      --bg-color: #3B4455;\n",
              "      --fill-color: #D2E3FC;\n",
              "      --hover-bg-color: #434B5C;\n",
              "      --hover-fill-color: #FFFFFF;\n",
              "      --disabled-bg-color: #3B4455;\n",
              "      --disabled-fill-color: #666;\n",
              "  }\n",
              "\n",
              "  .colab-df-quickchart {\n",
              "    background-color: var(--bg-color);\n",
              "    border: none;\n",
              "    border-radius: 50%;\n",
              "    cursor: pointer;\n",
              "    display: none;\n",
              "    fill: var(--fill-color);\n",
              "    height: 32px;\n",
              "    padding: 0;\n",
              "    width: 32px;\n",
              "  }\n",
              "\n",
              "  .colab-df-quickchart:hover {\n",
              "    background-color: var(--hover-bg-color);\n",
              "    box-shadow: 0 1px 2px rgba(60, 64, 67, 0.3), 0 1px 3px 1px rgba(60, 64, 67, 0.15);\n",
              "    fill: var(--button-hover-fill-color);\n",
              "  }\n",
              "\n",
              "  .colab-df-quickchart-complete:disabled,\n",
              "  .colab-df-quickchart-complete:disabled:hover {\n",
              "    background-color: var(--disabled-bg-color);\n",
              "    fill: var(--disabled-fill-color);\n",
              "    box-shadow: none;\n",
              "  }\n",
              "\n",
              "  .colab-df-spinner {\n",
              "    border: 2px solid var(--fill-color);\n",
              "    border-color: transparent;\n",
              "    border-bottom-color: var(--fill-color);\n",
              "    animation:\n",
              "      spin 1s steps(1) infinite;\n",
              "  }\n",
              "\n",
              "  @keyframes spin {\n",
              "    0% {\n",
              "      border-color: transparent;\n",
              "      border-bottom-color: var(--fill-color);\n",
              "      border-left-color: var(--fill-color);\n",
              "    }\n",
              "    20% {\n",
              "      border-color: transparent;\n",
              "      border-left-color: var(--fill-color);\n",
              "      border-top-color: var(--fill-color);\n",
              "    }\n",
              "    30% {\n",
              "      border-color: transparent;\n",
              "      border-left-color: var(--fill-color);\n",
              "      border-top-color: var(--fill-color);\n",
              "      border-right-color: var(--fill-color);\n",
              "    }\n",
              "    40% {\n",
              "      border-color: transparent;\n",
              "      border-right-color: var(--fill-color);\n",
              "      border-top-color: var(--fill-color);\n",
              "    }\n",
              "    60% {\n",
              "      border-color: transparent;\n",
              "      border-right-color: var(--fill-color);\n",
              "    }\n",
              "    80% {\n",
              "      border-color: transparent;\n",
              "      border-right-color: var(--fill-color);\n",
              "      border-bottom-color: var(--fill-color);\n",
              "    }\n",
              "    90% {\n",
              "      border-color: transparent;\n",
              "      border-bottom-color: var(--fill-color);\n",
              "    }\n",
              "  }\n",
              "</style>\n",
              "\n",
              "  <script>\n",
              "    async function quickchart(key) {\n",
              "      const quickchartButtonEl =\n",
              "        document.querySelector('#' + key + ' button');\n",
              "      quickchartButtonEl.disabled = true;  // To prevent multiple clicks.\n",
              "      quickchartButtonEl.classList.add('colab-df-spinner');\n",
              "      try {\n",
              "        const charts = await google.colab.kernel.invokeFunction(\n",
              "            'suggestCharts', [key], {});\n",
              "      } catch (error) {\n",
              "        console.error('Error during call to suggestCharts:', error);\n",
              "      }\n",
              "      quickchartButtonEl.classList.remove('colab-df-spinner');\n",
              "      quickchartButtonEl.classList.add('colab-df-quickchart-complete');\n",
              "    }\n",
              "    (() => {\n",
              "      let quickchartButtonEl =\n",
              "        document.querySelector('#df-2751205d-2c4e-4713-a71c-fe2351e1f927 button');\n",
              "      quickchartButtonEl.style.display =\n",
              "        google.colab.kernel.accessAllowed ? 'block' : 'none';\n",
              "    })();\n",
              "  </script>\n",
              "</div>\n",
              "\n",
              "  <div id=\"id_1debe569-4c28-4267-84e8-2b82f0ed9ca2\">\n",
              "    <style>\n",
              "      .colab-df-generate {\n",
              "        background-color: #E8F0FE;\n",
              "        border: none;\n",
              "        border-radius: 50%;\n",
              "        cursor: pointer;\n",
              "        display: none;\n",
              "        fill: #1967D2;\n",
              "        height: 32px;\n",
              "        padding: 0 0 0 0;\n",
              "        width: 32px;\n",
              "      }\n",
              "\n",
              "      .colab-df-generate:hover {\n",
              "        background-color: #E2EBFA;\n",
              "        box-shadow: 0px 1px 2px rgba(60, 64, 67, 0.3), 0px 1px 3px 1px rgba(60, 64, 67, 0.15);\n",
              "        fill: #174EA6;\n",
              "      }\n",
              "\n",
              "      [theme=dark] .colab-df-generate {\n",
              "        background-color: #3B4455;\n",
              "        fill: #D2E3FC;\n",
              "      }\n",
              "\n",
              "      [theme=dark] .colab-df-generate:hover {\n",
              "        background-color: #434B5C;\n",
              "        box-shadow: 0px 1px 3px 1px rgba(0, 0, 0, 0.15);\n",
              "        filter: drop-shadow(0px 1px 2px rgba(0, 0, 0, 0.3));\n",
              "        fill: #FFFFFF;\n",
              "      }\n",
              "    </style>\n",
              "    <button class=\"colab-df-generate\" onclick=\"generateWithVariable('X')\"\n",
              "            title=\"Generate code using this dataframe.\"\n",
              "            style=\"display:none;\">\n",
              "\n",
              "  <svg xmlns=\"http://www.w3.org/2000/svg\" height=\"24px\"viewBox=\"0 0 24 24\"\n",
              "       width=\"24px\">\n",
              "    <path d=\"M7,19H8.4L18.45,9,17,7.55,7,17.6ZM5,21V16.75L18.45,3.32a2,2,0,0,1,2.83,0l1.4,1.43a1.91,1.91,0,0,1,.58,1.4,1.91,1.91,0,0,1-.58,1.4L9.25,21ZM18.45,9,17,7.55Zm-12,3A5.31,5.31,0,0,0,4.9,8.1,5.31,5.31,0,0,0,1,6.5,5.31,5.31,0,0,0,4.9,4.9,5.31,5.31,0,0,0,6.5,1,5.31,5.31,0,0,0,8.1,4.9,5.31,5.31,0,0,0,12,6.5,5.46,5.46,0,0,0,6.5,12Z\"/>\n",
              "  </svg>\n",
              "    </button>\n",
              "    <script>\n",
              "      (() => {\n",
              "      const buttonEl =\n",
              "        document.querySelector('#id_1debe569-4c28-4267-84e8-2b82f0ed9ca2 button.colab-df-generate');\n",
              "      buttonEl.style.display =\n",
              "        google.colab.kernel.accessAllowed ? 'block' : 'none';\n",
              "\n",
              "      buttonEl.onclick = () => {\n",
              "        google.colab.notebook.generateWithVariable('X');\n",
              "      }\n",
              "      })();\n",
              "    </script>\n",
              "  </div>\n",
              "\n",
              "    </div>\n",
              "  </div>\n"
            ],
            "application/vnd.google.colaboratory.intrinsic+json": {
              "type": "dataframe",
              "variable_name": "X",
              "summary": "{\n  \"name\": \"X\",\n  \"rows\": 300,\n  \"fields\": [\n    {\n      \"column\": \"Age\",\n      \"properties\": {\n        \"dtype\": \"number\",\n        \"std\": 8,\n        \"min\": 48,\n        \"max\": 96,\n        \"num_unique_values\": 44,\n        \"samples\": [\n          52,\n          64,\n          96\n        ],\n        \"semantic_type\": \"\",\n        \"description\": \"\"\n      }\n    },\n    {\n      \"column\": \"BMI\",\n      \"properties\": {\n        \"dtype\": \"number\",\n        \"std\": 3.2904179876492154,\n        \"min\": 15.24334252,\n        \"max\": 44.71,\n        \"num_unique_values\": 208,\n        \"samples\": [\n          20.415224913495,\n          25.09,\n          23.388686558188\n        ],\n        \"semantic_type\": \"\",\n        \"description\": \"\"\n      }\n    },\n    {\n      \"column\": \"RBC\",\n      \"properties\": {\n        \"dtype\": \"number\",\n        \"std\": 0.5694670972101067,\n        \"min\": 2.16,\n        \"max\": 5.6,\n        \"num_unique_values\": 157,\n        \"samples\": [\n          4.87,\n          5.38,\n          4.94\n        ],\n        \"semantic_type\": \"\",\n        \"description\": \"\"\n      }\n    },\n    {\n      \"column\": \"HGB\",\n      \"properties\": {\n        \"dtype\": \"number\",\n        \"std\": 17,\n        \"min\": 62,\n        \"max\": 172,\n        \"num_unique_values\": 74,\n        \"samples\": [\n          153,\n          167,\n          114\n        ],\n        \"semantic_type\": \"\",\n        \"description\": \"\"\n      }\n    },\n    {\n      \"column\": \"WBC\",\n      \"properties\": {\n        \"dtype\": \"number\",\n        \"std\": 2.220592888379077,\n        \"min\": 1.95,\n        \"max\": 15.09,\n        \"num_unique_values\": 236,\n        \"samples\": [\n          12.11,\n          5.35,\n          4.62\n        ],\n        \"semantic_type\": \"\",\n        \"description\": \"\"\n      }\n    },\n    {\n      \"column\": \"PLT\",\n      \"properties\": {\n        \"dtype\": \"number\",\n        \"std\": 77.68362499876483,\n        \"min\": 1.75,\n        \"max\": 820.0,\n        \"num_unique_values\": 170,\n        \"samples\": [\n          167.0,\n          228.0,\n          247.0\n        ],\n        \"semantic_type\": \"\",\n        \"description\": \"\"\n      }\n    },\n    {\n      \"column\": \"PMN\",\n      \"properties\": {\n        \"dtype\": \"number\",\n        \"std\": 5.651896737792645,\n        \"min\": 0.73,\n        \"max\": 74.3,\n        \"num_unique_values\": 222,\n        \"samples\": [\n          2.47,\n          2.58,\n          4.26\n        ],\n        \"semantic_type\": \"\",\n        \"description\": \"\"\n      }\n    },\n    {\n      \"column\": \"LYMPH\",\n      \"properties\": {\n        \"dtype\": \"number\",\n        \"std\": 0.5992093443447422,\n        \"min\": 0.38,\n        \"max\": 5.99,\n        \"num_unique_values\": 162,\n        \"samples\": [\n          2.99,\n          2.02,\n          2.14\n        ],\n        \"semantic_type\": \"\",\n        \"description\": \"\"\n      }\n    },\n    {\n      \"column\": \"MONOC\",\n      \"properties\": {\n        \"dtype\": \"number\",\n        \"std\": 0.17016610679537578,\n        \"min\": 0.06,\n        \"max\": 1.05,\n        \"num_unique_values\": 69,\n        \"samples\": [\n          0.63,\n          0.28,\n          0.79\n        ],\n        \"semantic_type\": \"\",\n        \"description\": \"\"\n      }\n    },\n    {\n      \"column\": \"tPSA\",\n      \"properties\": {\n        \"dtype\": \"number\",\n        \"std\": 1011.844199786034,\n        \"min\": 0.3,\n        \"max\": 17536.0,\n        \"num_unique_values\": 263,\n        \"samples\": [\n          111.45,\n          8.985,\n          129.54\n        ],\n        \"semantic_type\": \"\",\n        \"description\": \"\"\n      }\n    },\n    {\n      \"column\": \"fPSA\",\n      \"properties\": {\n        \"dtype\": \"number\",\n        \"std\": 97.22595161864172,\n        \"min\": 0.03,\n        \"max\": 1685.3,\n        \"num_unique_values\": 246,\n        \"samples\": [\n          0.99,\n          1.97,\n          3.1\n        ],\n        \"semantic_type\": \"\",\n        \"description\": \"\"\n      }\n    },\n    {\n      \"column\": \"PV\",\n      \"properties\": {\n        \"dtype\": \"number\",\n        \"std\": 32.95617813406807,\n        \"min\": 14.321,\n        \"max\": 279.8,\n        \"num_unique_values\": 294,\n        \"samples\": [\n          23.962,\n          31.24,\n          31.59\n        ],\n        \"semantic_type\": \"\",\n        \"description\": \"\"\n      }\n    },\n    {\n      \"column\": \"PSAD\",\n      \"properties\": {\n        \"dtype\": \"number\",\n        \"std\": 23.18920600107074,\n        \"min\": 0.01,\n        \"max\": 401.87001558346,\n        \"num_unique_values\": 295,\n        \"samples\": [\n          0.11097452707778,\n          2.034023669,\n          0.38343458890239\n        ],\n        \"semantic_type\": \"\",\n        \"description\": \"\"\n      }\n    },\n    {\n      \"column\": \"GLU\",\n      \"properties\": {\n        \"dtype\": \"number\",\n        \"std\": 1.6056359419710886,\n        \"min\": 3.2,\n        \"max\": 14.6,\n        \"num_unique_values\": 59,\n        \"samples\": [\n          4.4,\n          4.1,\n          10.7\n        ],\n        \"semantic_type\": \"\",\n        \"description\": \"\"\n      }\n    },\n    {\n      \"column\": \"CRE\",\n      \"properties\": {\n        \"dtype\": \"number\",\n        \"std\": 39,\n        \"min\": 35,\n        \"max\": 641,\n        \"num_unique_values\": 73,\n        \"samples\": [\n          55,\n          295,\n          641\n        ],\n        \"semantic_type\": \"\",\n        \"description\": \"\"\n      }\n    },\n    {\n      \"column\": \"ALT\",\n      \"properties\": {\n        \"dtype\": \"number\",\n        \"std\": 15,\n        \"min\": 3,\n        \"max\": 156,\n        \"num_unique_values\": 44,\n        \"samples\": [\n          82,\n          24,\n          10\n        ],\n        \"semantic_type\": \"\",\n        \"description\": \"\"\n      }\n    },\n    {\n      \"column\": \"AST\",\n      \"properties\": {\n        \"dtype\": \"number\",\n        \"std\": 9,\n        \"min\": 4,\n        \"max\": 103,\n        \"num_unique_values\": 32,\n        \"samples\": [\n          54,\n          26,\n          103\n        ],\n        \"semantic_type\": \"\",\n        \"description\": \"\"\n      }\n    },\n    {\n      \"column\": \"AST/ALT\",\n      \"properties\": {\n        \"dtype\": \"number\",\n        \"std\": 0.48290044351818096,\n        \"min\": 0.4,\n        \"max\": 3.67,\n        \"num_unique_values\": 115,\n        \"samples\": [\n          1.52,\n          1.18,\n          1.59\n        ],\n        \"semantic_type\": \"\",\n        \"description\": \"\"\n      }\n    }\n  ]\n}"
            }
          },
          "metadata": {},
          "execution_count": 6
        }
      ],
      "source": [
        "X = df.drop(['Prostate Cancer','No.'], axis=1)\n",
        "X"
      ]
    },
    {
      "cell_type": "code",
      "execution_count": null,
      "metadata": {
        "id": "5KrQ1LxnNDxQ"
      },
      "outputs": [],
      "source": [
        "from sklearn.model_selection import train_test_split\n",
        "\n",
        "X_train, X_test, y_train, y_test = train_test_split(X, y, test_size=0.4, random_state=42)"
      ]
    },
    {
      "cell_type": "markdown",
      "metadata": {
        "id": "EqkJaJdgNKOI"
      },
      "source": [
        "### Standardization"
      ]
    },
    {
      "cell_type": "code",
      "execution_count": null,
      "metadata": {
        "id": "JSSXt5rsNwH2"
      },
      "outputs": [],
      "source": [
        "from sklearn.preprocessing import StandardScaler\n",
        "\n",
        "scaler = StandardScaler()\n",
        "X_train = scaler.fit_transform(X_train)\n",
        "X_test = scaler.transform(X_test)\n"
      ]
    },
    {
      "cell_type": "code",
      "execution_count": null,
      "metadata": {
        "id": "pN8xMWEoN7mq"
      },
      "outputs": [],
      "source": [
        "from sklearn.metrics import roc_auc_score, average_precision_score, accuracy_score, precision_score, recall_score"
      ]
    },
    {
      "cell_type": "markdown",
      "metadata": {
        "id": "rHzMg6ykN84I"
      },
      "source": [
        "## Model Development"
      ]
    },
    {
      "cell_type": "markdown",
      "metadata": {
        "id": "9a03yqnfH48c"
      },
      "source": []
    },
    {
      "cell_type": "code",
      "execution_count": null,
      "metadata": {
        "id": "tK_FDxEBH6Iu"
      },
      "outputs": [],
      "source": [
        "# Import necessary libraries\n",
        "from sklearn.neighbors import KNeighborsClassifier\n",
        "from sklearn.linear_model import LogisticRegression\n",
        "from sklearn.ensemble import GradientBoostingClassifier, BaggingClassifier, StackingClassifier\n",
        "from sklearn.model_selection import train_test_split\n",
        "from sklearn.metrics import accuracy_score"
      ]
    },
    {
      "cell_type": "code",
      "execution_count": null,
      "metadata": {
        "id": "kK0FoUiVH7-W",
        "colab": {
          "base_uri": "https://localhost:8080/"
        },
        "outputId": "fc9d544a-e73e-4439-ea9b-525f9e0f482a"
      },
      "outputs": [
        {
          "output_type": "stream",
          "name": "stdout",
          "text": [
            "KNN Accuracy: 0.725\n"
          ]
        }
      ],
      "source": [
        "# K-Nearest Neighbors (KNN) Model\n",
        "knn = KNeighborsClassifier(n_neighbors=5)\n",
        "knn.fit(X_train, y_train)\n",
        "knn_pred = knn.predict(X_test)\n",
        "\n",
        "# Evaluate Performance\n",
        "knn_acc = accuracy_score(y_test, knn_pred)\n",
        "print(\"KNN Accuracy:\", knn_acc)\n"
      ]
    },
    {
      "cell_type": "code",
      "execution_count": null,
      "metadata": {
        "id": "LQxgZ9YBLtZ-",
        "colab": {
          "base_uri": "https://localhost:8080/"
        },
        "outputId": "6d77ebef-6de8-4a3b-c195-77d0b22caf79"
      },
      "outputs": [
        {
          "output_type": "stream",
          "name": "stdout",
          "text": [
            "Logistic Regression Accuracy: 0.7166666666666667\n"
          ]
        }
      ],
      "source": [
        "# Logistic Regression Model\n",
        "log_reg = LogisticRegression(max_iter=1000)\n",
        "log_reg.fit(X_train, y_train)\n",
        "log_reg_pred = log_reg.predict(X_test)\n",
        "\n",
        "# Evaluate Performance\n",
        "log_reg_acc = accuracy_score(y_test, log_reg_pred)\n",
        "print(\"Logistic Regression Accuracy:\", log_reg_acc)\n"
      ]
    },
    {
      "cell_type": "code",
      "execution_count": null,
      "metadata": {
        "id": "GF1T9kaNLwQw",
        "colab": {
          "base_uri": "https://localhost:8080/"
        },
        "outputId": "af672192-8aed-43ca-cf6d-dbc9c58aeea5"
      },
      "outputs": [
        {
          "output_type": "stream",
          "name": "stdout",
          "text": [
            "Gradient Boosting Accuracy: 0.7583333333333333\n"
          ]
        }
      ],
      "source": [
        "# Gradient Boosting Model\n",
        "gbc = GradientBoostingClassifier(n_estimators=100, learning_rate=0.1, random_state=42)\n",
        "gbc.fit(X_train, y_train)\n",
        "gbc_pred = gbc.predict(X_test)\n",
        "\n",
        "# Evaluate Performance\n",
        "gbc_acc = accuracy_score(y_test, gbc_pred)\n",
        "print(\"Gradient Boosting Accuracy:\", gbc_acc)\n"
      ]
    },
    {
      "cell_type": "code",
      "source": [
        "\n",
        "\n",
        "from sklearn.ensemble import RandomForestClassifier\n",
        "\n",
        "# Random Forest Model\n",
        "rf = RandomForestClassifier(n_estimators=100, random_state=42)\n",
        "rf.fit(X_train, y_train)\n",
        "rf_pred = rf.predict(X_test)\n",
        "\n",
        "# Evaluate Performance\n",
        "rf_acc = accuracy_score(y_test, rf_pred)\n",
        "print(\"Random Forest Accuracy:\", rf_acc)\n"
      ],
      "metadata": {
        "colab": {
          "base_uri": "https://localhost:8080/"
        },
        "id": "KckTG5nPG5DP",
        "outputId": "725f077d-0011-4a1b-eb9b-61cfecb85d85"
      },
      "execution_count": null,
      "outputs": [
        {
          "output_type": "stream",
          "name": "stdout",
          "text": [
            "Random Forest Accuracy: 0.7083333333333334\n"
          ]
        }
      ]
    },
    {
      "cell_type": "code",
      "execution_count": null,
      "metadata": {
        "id": "nqFV5p8ZMNkv",
        "colab": {
          "base_uri": "https://localhost:8080/"
        },
        "outputId": "9a94a837-bdd1-4938-efc2-089349de5f7b"
      },
      "outputs": [
        {
          "output_type": "stream",
          "name": "stdout",
          "text": [
            "Stacking Accuracy: 0.5916666666666667\n"
          ]
        }
      ],
      "source": [
        "# Stacking Classifier Model\n",
        "estimators = [\n",
        "    ('lr', LogisticRegression(max_iter=1000)),\n",
        "    ('knn', KNeighborsClassifier(n_neighbors=5))\n",
        "]\n",
        "stacking = StackingClassifier(estimators=estimators, final_estimator=GradientBoostingClassifier())\n",
        "stacking.fit(X_train, y_train)\n",
        "stacking_pred = stacking.predict(X_test)\n",
        "\n",
        "# Evaluate Performance\n",
        "stacking_acc = accuracy_score(y_test, stacking_pred)\n",
        "print(\"Stacking Accuracy:\", stacking_acc)\n"
      ]
    },
    {
      "cell_type": "markdown",
      "metadata": {
        "id": "bG13qUg2OFgF"
      },
      "source": [
        "### XGBoost"
      ]
    },
    {
      "cell_type": "code",
      "execution_count": null,
      "metadata": {
        "id": "Fa4foQdVQNNq",
        "colab": {
          "base_uri": "https://localhost:8080/"
        },
        "outputId": "79b46c2a-0ad4-4e56-e34e-602b6029d448"
      },
      "outputs": [
        {
          "output_type": "stream",
          "name": "stdout",
          "text": [
            "Accuracy: 0.7666666666666667\n"
          ]
        }
      ],
      "source": [
        "import xgboost as xgb\n",
        "from sklearn.metrics import accuracy_score\n",
        "# Import LabelEncoder\n",
        "from sklearn.preprocessing import LabelEncoder\n",
        "\n",
        "# Create an XGBoost classifier\n",
        "model = xgb.XGBClassifier()\n",
        "\n",
        "# Create a LabelEncoder object\n",
        "le = LabelEncoder()\n",
        "\n",
        "# Fit and transform the target variable to numerical values\n",
        "y_train = le.fit_transform(y_train)\n",
        "y_test = le.transform(y_test)\n",
        "\n",
        "# Train the model\n",
        "model.fit(X_train, y_train)\n",
        "\n",
        "# Make predictions on the test set\n",
        "y_pred = model.predict(X_test)\n",
        "\n",
        "# Calculate accuracy\n",
        "accuracy = accuracy_score(y_test, y_pred)\n",
        "\n",
        "# Print the accuracy\n",
        "print(\"Accuracy:\", accuracy)"
      ]
    },
    {
      "cell_type": "code",
      "source": [
        "from sklearn.ensemble import VotingClassifier\n",
        "voting_clf = VotingClassifier(estimators=[\n",
        "    ('knn', knn),\n",
        "    ('lr', log_reg),\n",
        "    ('gbc', gbc),\n",
        "    ('rf', rf),\n",
        "    ('bagging', bagging),\n",
        "    ('stacking', stacking),\n",
        "    ('xgb', model)], voting='soft')\n",
        "\n",
        "voting_clf.fit(X_train, y_train)\n",
        "\n",
        "\n",
        "voting_pred = voting_clf.predict(X_test)\n",
        "\n",
        "voting_acc = accuracy_score(y_test, voting_pred)\n",
        "print(\"Soft Voting Accuracy:\", voting_acc)\n",
        "\n",
        "voting_roc_auc = roc_auc_score(y_test, voting_clf.predict_proba(X_test)[:, 1])\n",
        "voting_avg_precision = average_precision_score(y_test, voting_clf.predict_proba(X_test)[:, 1])\n",
        "voting_precision = precision_score(y_test, voting_pred)\n",
        "voting_recall = recall_score(y_test, voting_pred)\n",
        "\n",
        "print(\"Soft Voting ROC AUC:\", voting_roc_auc)\n",
        "print(\"Soft Voting Average Precision:\", voting_avg_precision)\n",
        "print(\"Soft Voting Precision:\", voting_precision)\n",
        "print(\"Soft Voting Recall:\", voting_recall)\n"
      ],
      "metadata": {
        "colab": {
          "base_uri": "https://localhost:8080/"
        },
        "id": "krEVJM5NJQlT",
        "outputId": "64e6aba1-6557-49df-b20e-4b5a61562ac2"
      },
      "execution_count": null,
      "outputs": [
        {
          "output_type": "stream",
          "name": "stdout",
          "text": [
            "Soft Voting Accuracy: 0.7416666666666667\n",
            "Soft Voting ROC AUC: 0.7850678733031675\n",
            "Soft Voting Average Precision: 0.8122808984835614\n",
            "Soft Voting Precision: 0.8888888888888888\n",
            "Soft Voting Recall: 0.46153846153846156\n"
          ]
        }
      ]
    },
    {
      "cell_type": "code",
      "source": [
        "from sklearn.metrics import average_precision_score\n",
        "voting_aupr = average_precision_score(y_test, voting_clf.predict_proba(X_test)[:, 1])\n",
        "print(\"Soft Voting AUPR:\", voting_aupr)\n"
      ],
      "metadata": {
        "colab": {
          "base_uri": "https://localhost:8080/"
        },
        "id": "KIfo_MQpVE2x",
        "outputId": "abbb8808-6b0e-4e0f-c8bb-36984f5f6c08"
      },
      "execution_count": null,
      "outputs": [
        {
          "output_type": "stream",
          "name": "stdout",
          "text": [
            "Soft Voting AUPR: 0.8122808984835614\n"
          ]
        }
      ]
    },
    {
      "cell_type": "markdown",
      "metadata": {
        "id": "p_A2I4r8RVg2"
      },
      "source": [
        "## Model Evaluation"
      ]
    },
    {
      "cell_type": "code",
      "source": [
        "from sklearn.metrics import roc_auc_score, average_precision_score, accuracy_score, precision_score, recall_score, confusion_matrix\n",
        "\n",
        "def evaluate_model(y_true, y_pred, model_name):\n",
        "\n",
        "    if isinstance(y_true[0], str):\n",
        "        y_true = le.transform(y_true)\n",
        "    if isinstance(y_pred[0], str):\n",
        "        y_pred = le.transform(y_pred)\n",
        "\n",
        "    accuracy = accuracy_score(y_true, y_pred)\n",
        "    precision = precision_score(y_true, y_pred)  # Now using numerical labels\n",
        "    recall = recall_score(y_true, y_pred)\n",
        "    roc_auc = roc_auc_score(y_true, y_pred)\n",
        "    aupr = average_precision_score(y_true, y_pred)\n",
        "    tn, fp, fn, tp = confusion_matrix(y_true, y_pred).ravel()\n",
        "\n",
        "    print(f\"--- {model_name} ---\")\n",
        "    print(f\"Accuracy: {accuracy}\")\n",
        "    print(f\"Precision: {precision}\")\n",
        "    print(f\"Recall: {recall}\")\n",
        "    print(f\"ROC AUC: {roc_auc}\")\n",
        "    print(f\"AUPR: {aupr}\")\n",
        "    print(f\"True Positives: {tp}\")\n",
        "    print(f\"True Negatives: {tn}\")\n",
        "    print(f\"False Positives: {fp}\")\n",
        "    print(f\"False Negatives: {fn}\")\n",
        "    print(\"---\")\n",
        "\n",
        "knn_pred_encoded = le.transform(knn_pred)\n",
        "evaluate_model(y_test, knn_pred_encoded, \"KNN\")\n",
        "evaluate_model(y_test, le.transform(log_reg_pred), \"Logistic Regression\") # Evaluate Logistic Regression\n",
        "evaluate_model(y_test, gbc_pred, \"Gradient Boosting\")  # Evaluate Gradient Boosting\n",
        "evaluate_model(y_test, bagging_pred, \"Bagging\")  # Evaluate Bagging\n",
        "evaluate_model(y_test, stacking_pred, \"Stacking\")  # Evaluate Stacking\n",
        "evaluate_model(y_test, y_pred, \"XGBoost\")  # Evaluate XGBoost\n",
        "evaluate_model(y_test, rf_pred, \"Random Forest\")  # Evaluate Random Forest\n"
      ],
      "metadata": {
        "id": "c6uhthXC_cRL",
        "colab": {
          "base_uri": "https://localhost:8080/"
        },
        "outputId": "10975519-4b33-458f-a973-959bd96ff07b"
      },
      "execution_count": null,
      "outputs": [
        {
          "output_type": "stream",
          "name": "stdout",
          "text": [
            "--- KNN ---\n",
            "Accuracy: 0.7666666666666667\n",
            "Precision: 0.7058823529411765\n",
            "Recall: 0.5714285714285714\n",
            "ROC AUC: 0.7216117216117216\n",
            "AUPR: 0.5533613445378152\n",
            "True Positives: 12\n",
            "True Negatives: 34\n",
            "False Positives: 5\n",
            "False Negatives: 9\n",
            "---\n",
            "--- Logistic Regression ---\n",
            "Accuracy: 0.8\n",
            "Precision: 0.9090909090909091\n",
            "Recall: 0.47619047619047616\n",
            "ROC AUC: 0.7252747252747253\n",
            "AUPR: 0.6162337662337661\n",
            "True Positives: 10\n",
            "True Negatives: 38\n",
            "False Positives: 1\n",
            "False Negatives: 11\n",
            "---\n",
            "--- Gradient Boosting ---\n",
            "Accuracy: 0.7833333333333333\n",
            "Precision: 0.75\n",
            "Recall: 0.5714285714285714\n",
            "ROC AUC: 0.7344322344322345\n",
            "AUPR: 0.5785714285714285\n",
            "True Positives: 12\n",
            "True Negatives: 35\n",
            "False Positives: 4\n",
            "False Negatives: 9\n",
            "---\n",
            "--- Bagging ---\n",
            "Accuracy: 0.7833333333333333\n",
            "Precision: 0.8333333333333334\n",
            "Recall: 0.47619047619047616\n",
            "ROC AUC: 0.7124542124542125\n",
            "AUPR: 0.5801587301587301\n",
            "True Positives: 10\n",
            "True Negatives: 37\n",
            "False Positives: 2\n",
            "False Negatives: 11\n",
            "---\n",
            "--- Stacking ---\n",
            "Accuracy: 0.7\n",
            "Precision: 0.5714285714285714\n",
            "Recall: 0.5714285714285714\n",
            "ROC AUC: 0.6703296703296703\n",
            "AUPR: 0.4765306122448979\n",
            "True Positives: 12\n",
            "True Negatives: 30\n",
            "False Positives: 9\n",
            "False Negatives: 9\n",
            "---\n",
            "--- XGBoost ---\n",
            "Accuracy: 0.7166666666666667\n",
            "Precision: 0.6428571428571429\n",
            "Recall: 0.42857142857142855\n",
            "ROC AUC: 0.6501831501831502\n",
            "AUPR: 0.4755102040816327\n",
            "True Positives: 9\n",
            "True Negatives: 34\n",
            "False Positives: 5\n",
            "False Negatives: 12\n",
            "---\n",
            "--- Random Forest ---\n",
            "Accuracy: 0.7833333333333333\n",
            "Precision: 0.8333333333333334\n",
            "Recall: 0.47619047619047616\n",
            "ROC AUC: 0.7124542124542125\n",
            "AUPR: 0.5801587301587301\n",
            "True Positives: 10\n",
            "True Negatives: 37\n",
            "False Positives: 2\n",
            "False Negatives: 11\n",
            "---\n"
          ]
        }
      ]
    },
    {
      "cell_type": "markdown",
      "metadata": {
        "id": "r7xCRnpLSedc"
      },
      "source": [
        "### Confusion Matrix"
      ]
    },
    {
      "cell_type": "code",
      "execution_count": null,
      "metadata": {
        "id": "1y_1ecGkSGBI",
        "colab": {
          "base_uri": "https://localhost:8080/",
          "height": 507
        },
        "outputId": "2d9809e9-b501-4c14-feb3-3c708a161d59"
      },
      "outputs": [
        {
          "output_type": "display_data",
          "data": {
            "text/plain": [
              "<Figure size 1200x500 with 2 Axes>"
            ],
            "image/png": "[encoded data removed]"
          },
          "metadata": {}
        }
      ],
      "source": [
        "from sklearn.metrics import confusion_matrix\n",
        "import matplotlib.pyplot as plt\n",
        "import seaborn as sns\n",
        "\n",
        "# Confusion matrix for XGBoost\n",
        "cm_xgb = confusion_matrix(y_test, y_pred)\n",
        "\n",
        "# Plotting the confusion matrices\n",
        "plt.figure(figsize=(12, 5))\n",
        "\n",
        "plt.subplot(1, 2, 1)\n",
        "sns.heatmap(cm_xgb, annot=True, fmt='d', cmap='Blues',\n",
        "            xticklabels=['Negative', 'Positive'], yticklabels=['Negative', 'Positive'])\n",
        "plt.title('XGBoost Confusion Matrix')\n",
        "plt.xlabel('Predicted Label')\n",
        "plt.ylabel('True Label')\n",
        "\n",
        "\n",
        "plt.tight_layout()\n",
        "plt.show()\n"
      ]
    },
    {
      "cell_type": "markdown",
      "metadata": {
        "id": "qvSgVcbDST_R"
      },
      "source": [
        "### ROC Curve"
      ]
    },
    {
      "cell_type": "code",
      "execution_count": null,
      "metadata": {
        "id": "SaLvC1qzSwVa",
        "colab": {
          "base_uri": "https://localhost:8080/",
          "height": 646
        },
        "outputId": "0ada49ae-5454-40c4-ae99-837b0230bb0f"
      },
      "outputs": [
        {
          "output_type": "display_data",
          "data": {
            "text/plain": [
              "<Figure size 1200x500 with 2 Axes>"
            ],
            "image/png": "[encoded data removed]"
          },
          "metadata": {}
        },
        {
          "output_type": "stream",
          "name": "stdout",
          "text": [
            "\n",
            "\n",
            "\n",
            "\n",
            "\n",
            "\n",
            "\n",
            "\n"
          ]
        }
      ],
      "source": [
        "from sklearn.metrics import roc_curve, auc\n",
        "from sklearn.naive_bayes import GaussianNB # Import GaussianNB\n",
        "\n",
        "# Predict probabilities for XGBoost\n",
        "y_pred_proba_xgb = model.predict_proba(X_test)[:, 1]\n",
        "\n",
        "# Initialize and train Naive Bayes model\n",
        "nb_model = GaussianNB() # Initialize GaussianNB\n",
        "nb_model.fit(X_train, y_train) # Train the model\n",
        "\n",
        "# Predict probabilities for Naive Bayes\n",
        "y_pred_proba_nb = nb_model.predict_proba(X_test)[:, 1]\n",
        "\n",
        "# Calculate ROC curve and AUC for XGBoost\n",
        "fpr_xgb, tpr_xgb, _ = roc_curve(y_test, y_pred_proba_xgb)\n",
        "roc_auc_xgb = auc(fpr_xgb, tpr_xgb)\n",
        "\n",
        "# Calculate ROC curve and AUC for Naive Bayes\n",
        "fpr_nb, tpr_nb, _ = roc_curve(y_test, y_pred_proba_nb)\n",
        "roc_auc_nb = auc(fpr_nb, tpr_nb)\n",
        "\n",
        "# Plot ROC curves\n",
        "plt.figure(figsize=(12, 5))\n",
        "\n",
        "plt.subplot(1, 2, 1)\n",
        "plt.plot(fpr_xgb, tpr_xgb, label='XGBoost (AUC = %0.2f)' % roc_auc_xgb)\n",
        "plt.plot([0, 1], [0, 1], 'k--')  # Random guessing line\n",
        "plt.xlabel('False Positive Rate')\n",
        "plt.ylabel('True Positive Rate')\n",
        "plt.title('XGBoost ROC Curve')\n",
        "plt.legend(loc=\"lower right\")\n",
        "\n",
        "plt.subplot(1, 2, 2)\n",
        "plt.plot(fpr_nb, tpr_nb, label='Naive Bayes (AUC = %0.2f)' % roc_auc_nb)\n",
        "plt.plot([0, 1], [0, 1], 'k--')  # Random guessing line\n",
        "plt.xlabel('False Positive Rate')\n",
        "plt.ylabel('True Positive Rate')\n",
        "plt.title('Naive Bayes ROC Curve')\n",
        "plt.legend(loc=\"lower right\")\n",
        "\n",
        "plt.tight_layout()\n",
        "plt.show()\n",
        "print('\\n\\n\\n\\n\\n\\n\\n')"
      ]
    },
    {
      "cell_type": "markdown",
      "metadata": {
        "id": "XtG2RyxRS5j_"
      },
      "source": [
        "## Custom Value Predictor"
      ]
    },
    {
      "cell_type": "code",
      "execution_count": null,
      "metadata": {
        "id": "fh3Znr1HYkRE",
        "colab": {
          "base_uri": "https://localhost:8080/",
          "height": 356
        },
        "outputId": "ad05214b-ecac-4317-935a-8747c0df807a"
      },
      "outputs": [
        {
          "output_type": "error",
          "ename": "KeyboardInterrupt",
          "evalue": "Interrupted by user",
          "traceback": [
            "\u001b[0;31m---------------------------------------------------------------------------\u001b[0m",
            "\u001b[0;31mKeyboardInterrupt\u001b[0m                         Traceback (most recent call last)",
            "\u001b[0;32m<ipython-input-20-c77cc9359a3b>\u001b[0m in \u001b[0;36m<cell line: 0>\u001b[0;34m()\u001b[0m\n\u001b[1;32m     18\u001b[0m     \u001b[0;32mreturn\u001b[0m \u001b[0;34m\"Negative\"\u001b[0m\u001b[0;34m\u001b[0m\u001b[0;34m\u001b[0m\u001b[0m\n\u001b[1;32m     19\u001b[0m \u001b[0;34m\u001b[0m\u001b[0m\n\u001b[0;32m---> 20\u001b[0;31m \u001b[0mprediction_result\u001b[0m \u001b[0;34m=\u001b[0m \u001b[0mpredict_cancer\u001b[0m\u001b[0;34m(\u001b[0m\u001b[0mmodel\u001b[0m\u001b[0;34m,\u001b[0m \u001b[0mscaler\u001b[0m\u001b[0;34m,\u001b[0m \u001b[0mdf\u001b[0m\u001b[0;34m)\u001b[0m\u001b[0;34m\u001b[0m\u001b[0;34m\u001b[0m\u001b[0m\n\u001b[0m\u001b[1;32m     21\u001b[0m \u001b[0;34m\u001b[0m\u001b[0m\n\u001b[1;32m     22\u001b[0m \u001b[0mprint\u001b[0m\u001b[0;34m(\u001b[0m\u001b[0;34m\"Prediction:\"\u001b[0m\u001b[0;34m,\u001b[0m \u001b[0mprediction_result\u001b[0m\u001b[0;34m)\u001b[0m\u001b[0;34m\u001b[0m\u001b[0;34m\u001b[0m\u001b[0m\n",
            "\u001b[0;32m<ipython-input-20-c77cc9359a3b>\u001b[0m in \u001b[0;36mpredict_cancer\u001b[0;34m(model, scaler, df)\u001b[0m\n\u001b[1;32m      5\u001b[0m     \u001b[0;32mwhile\u001b[0m \u001b[0;32mTrue\u001b[0m\u001b[0;34m:\u001b[0m\u001b[0;34m\u001b[0m\u001b[0;34m\u001b[0m\u001b[0m\n\u001b[1;32m      6\u001b[0m       \u001b[0;32mtry\u001b[0m\u001b[0;34m:\u001b[0m\u001b[0;34m\u001b[0m\u001b[0;34m\u001b[0m\u001b[0m\n\u001b[0;32m----> 7\u001b[0;31m         \u001b[0mvalue\u001b[0m \u001b[0;34m=\u001b[0m \u001b[0mfloat\u001b[0m\u001b[0;34m(\u001b[0m\u001b[0minput\u001b[0m\u001b[0;34m(\u001b[0m\u001b[0;34mf\"Enter value for {feature_name}: \"\u001b[0m\u001b[0;34m)\u001b[0m\u001b[0;34m)\u001b[0m\u001b[0;34m\u001b[0m\u001b[0;34m\u001b[0m\u001b[0m\n\u001b[0m\u001b[1;32m      8\u001b[0m         \u001b[0minput_data\u001b[0m\u001b[0;34m.\u001b[0m\u001b[0mappend\u001b[0m\u001b[0;34m(\u001b[0m\u001b[0mvalue\u001b[0m\u001b[0;34m)\u001b[0m\u001b[0;34m\u001b[0m\u001b[0;34m\u001b[0m\u001b[0m\n\u001b[1;32m      9\u001b[0m         \u001b[0;32mbreak\u001b[0m\u001b[0;34m\u001b[0m\u001b[0;34m\u001b[0m\u001b[0m\n",
            "\u001b[0;32m/usr/local/lib/python3.11/dist-packages/ipykernel/kernelbase.py\u001b[0m in \u001b[0;36mraw_input\u001b[0;34m(self, prompt)\u001b[0m\n\u001b[1;32m   1175\u001b[0m                 \u001b[0;34m\"raw_input was called, but this frontend does not support input requests.\"\u001b[0m\u001b[0;34m\u001b[0m\u001b[0;34m\u001b[0m\u001b[0m\n\u001b[1;32m   1176\u001b[0m             )\n\u001b[0;32m-> 1177\u001b[0;31m         return self._input_request(\n\u001b[0m\u001b[1;32m   1178\u001b[0m             \u001b[0mstr\u001b[0m\u001b[0;34m(\u001b[0m\u001b[0mprompt\u001b[0m\u001b[0;34m)\u001b[0m\u001b[0;34m,\u001b[0m\u001b[0;34m\u001b[0m\u001b[0;34m\u001b[0m\u001b[0m\n\u001b[1;32m   1179\u001b[0m             \u001b[0mself\u001b[0m\u001b[0;34m.\u001b[0m\u001b[0m_parent_ident\u001b[0m\u001b[0;34m[\u001b[0m\u001b[0;34m\"shell\"\u001b[0m\u001b[0;34m]\u001b[0m\u001b[0;34m,\u001b[0m\u001b[0;34m\u001b[0m\u001b[0;34m\u001b[0m\u001b[0m\n",
            "\u001b[0;32m/usr/local/lib/python3.11/dist-packages/ipykernel/kernelbase.py\u001b[0m in \u001b[0;36m_input_request\u001b[0;34m(self, prompt, ident, parent, password)\u001b[0m\n\u001b[1;32m   1217\u001b[0m             \u001b[0;32mexcept\u001b[0m \u001b[0mKeyboardInterrupt\u001b[0m\u001b[0;34m:\u001b[0m\u001b[0;34m\u001b[0m\u001b[0;34m\u001b[0m\u001b[0m\n\u001b[1;32m   1218\u001b[0m                 \u001b[0;31m# re-raise KeyboardInterrupt, to truncate traceback\u001b[0m\u001b[0;34m\u001b[0m\u001b[0;34m\u001b[0m\u001b[0m\n\u001b[0;32m-> 1219\u001b[0;31m                 \u001b[0;32mraise\u001b[0m \u001b[0mKeyboardInterrupt\u001b[0m\u001b[0;34m(\u001b[0m\u001b[0;34m\"Interrupted by user\"\u001b[0m\u001b[0;34m)\u001b[0m \u001b[0;32mfrom\u001b[0m \u001b[0;32mNone\u001b[0m\u001b[0;34m\u001b[0m\u001b[0;34m\u001b[0m\u001b[0m\n\u001b[0m\u001b[1;32m   1220\u001b[0m             \u001b[0;32mexcept\u001b[0m \u001b[0mException\u001b[0m\u001b[0;34m:\u001b[0m\u001b[0;34m\u001b[0m\u001b[0;34m\u001b[0m\u001b[0m\n\u001b[1;32m   1221\u001b[0m                 \u001b[0mself\u001b[0m\u001b[0;34m.\u001b[0m\u001b[0mlog\u001b[0m\u001b[0;34m.\u001b[0m\u001b[0mwarning\u001b[0m\u001b[0;34m(\u001b[0m\u001b[0;34m\"Invalid Message:\"\u001b[0m\u001b[0;34m,\u001b[0m \u001b[0mexc_info\u001b[0m\u001b[0;34m=\u001b[0m\u001b[0;32mTrue\u001b[0m\u001b[0;34m)\u001b[0m\u001b[0;34m\u001b[0m\u001b[0;34m\u001b[0m\u001b[0m\n",
            "\u001b[0;31mKeyboardInterrupt\u001b[0m: Interrupted by user"
          ]
        }
      ],
      "source": [
        "def predict_cancer(model, scaler, df):\n",
        "  input_data = []\n",
        "  feature_names = df.drop(['Prostate Cancer','No.'], axis=1).columns\n",
        "  for feature_name in feature_names:\n",
        "    while True:\n",
        "      try:\n",
        "        value = float(input(f\"Enter value for {feature_name}: \"))\n",
        "        input_data.append(value)\n",
        "        break\n",
        "      except ValueError:\n",
        "        print(\"Invalid input. Please enter a number.\")\n",
        "\n",
        "  input_data_scaled = scaler.transform([input_data])\n",
        "  prediction = model.predict(input_data_scaled)[0]\n",
        "  if prediction == 1:\n",
        "    return \"Positive\"\n",
        "  else:\n",
        "    return \"Negative\"\n",
        "\n",
        "prediction_result = predict_cancer(model, scaler, df)\n",
        "\n",
        "print(\"Prediction:\", prediction_result)"
      ]
    }
  ],
  "metadata": {
    "colab": {
      "provenance": []
    },
    "kernelspec": {
      "display_name": "Python 3",
      "name": "python3"
    },
    "language_info": {
      "name": "python"
    }
  },
  "nbformat": 4,
  "nbformat_minor": 0
}