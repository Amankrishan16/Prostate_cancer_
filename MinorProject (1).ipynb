{
  "nbformat": 4,
  "nbformat_minor": 0,
  "metadata": {
    "colab": {
      "provenance": []
    },
    "kernelspec": {
      "name": "python3",
      "display_name": "Python 3"
    },
    "language_info": {
      "name": "python"
    }
  },
  "cells": [
    {
      "cell_type": "markdown",
      "source": [
        "#**Prostate Cancer Model**"
      ],
      "metadata": {
        "id": "kqy1GX9AWAmT"
      }
    },
    {
      "cell_type": "markdown",
      "source": [
        "###Group Members:\n",
        "\n",
        "\n",
        "\n",
        "1.   Abhay Singh 2205957\n",
        "2.   Aman Krishan 22051314\n",
        "3.   Aman Sidana 22051315\n",
        "4.   Munal Gogoi 22051527\n",
        "\n",
        "\n",
        "\n",
        "\n"
      ],
      "metadata": {
        "id": "NrvLtaaIi2rp"
      }
    },
    {
      "cell_type": "markdown",
      "source": [
        "Determine whether the given data indicates the presence of prostate cancer and classify it as malignant or benign.\n",
        "\n"
      ],
      "metadata": {
        "id": "BUxqKLrAzyLa"
      }
    },
    {
      "cell_type": "markdown",
      "source": [
        "###**Problem Statement:**  \n",
        "\n",
        "Prostate cancer is one of the most prevalent cancers among men, making early and accurate diagnosis crucial for effective treatment. This study aims to develop a machine learning model to predict the presence of prostate cancer and classify it as malignant or benign based on clinical and diagnostic data.  \n",
        "\n",
        "The objective is to train and evaluate multiple machine learning models, comparing their performance in terms of accuracy, precision, recall, and other relevant metrics. By analyzing different algorithms, including traditional classifiers (e.g., Logistic Regression, Decision Trees, Support Vector Machines) and advanced models (e.g., Random Forest, Gradient Boosting, Neural Networks), the study seeks to identify the most effective approach for prostate cancer prediction.  \n",
        "\n",
        "This project will provide insights into the most suitable machine learning techniques for prostate cancer diagnosis, potentially aiding in early detection and improved patient outcomes."
      ],
      "metadata": {
        "id": "Vep33e5B1223"
      }
    },
    {
      "cell_type": "markdown",
      "source": [
        "## Data Loading"
      ],
      "metadata": {
        "id": "0idVQFQGWhPb"
      }
    },
    {
      "cell_type": "code",
      "source": [
        "from google.colab import files\n",
        "uploaded = files.upload()"
      ],
      "metadata": {
        "colab": {
          "base_uri": "https://localhost:8080/",
          "height": 73
        },
        "id": "7Nsl4mxVfejE",
        "outputId": "3bd51c64-d3dc-465c-97dc-b573febf04a5"
      },
      "execution_count": null,
      "outputs": [
        {
          "output_type": "display_data",
          "data": {
            "text/plain": [
              "<IPython.core.display.HTML object>"
            ],
            "text/html": [
              "\n",
              "     <input type=\"file\" id=\"files-3f940e6b-557c-4ecc-b418-36451eb9accf\" name=\"files[]\" multiple disabled\n",
              "        style=\"border:none\" />\n",
              "     <output id=\"result-3f940e6b-557c-4ecc-b418-36451eb9accf\">\n",
              "      Upload widget is only available when the cell has been executed in the\n",
              "      current browser session. Please rerun this cell to enable.\n",
              "      </output>\n",
              "      <script>// Copyright 2017 Google LLC\n",
              "//\n",
              "// Licensed under the Apache License, Version 2.0 (the \"License\");\n",
              "// you may not use this file except in compliance with the License.\n",
              "// You may obtain a copy of the License at\n",
              "//\n",
              "//      http://www.apache.org/licenses/LICENSE-2.0\n",
              "//\n",
              "// Unless required by applicable law or agreed to in writing, software\n",
              "// distributed under the License is distributed on an \"AS IS\" BASIS,\n",
              "// WITHOUT WARRANTIES OR CONDITIONS OF ANY KIND, either express or implied.\n",
              "// See the License for the specific language governing permissions and\n",
              "// limitations under the License.\n",
              "\n",
              "/**\n",
              " * @fileoverview Helpers for google.colab Python module.\n",
              " */\n",
              "(function(scope) {\n",
              "function span(text, styleAttributes = {}) {\n",
              "  const element = document.createElement('span');\n",
              "  element.textContent = text;\n",
              "  for (const key of Object.keys(styleAttributes)) {\n",
              "    element.style[key] = styleAttributes[key];\n",
              "  }\n",
              "  return element;\n",
              "}\n",
              "\n",
              "// Max number of bytes which will be uploaded at a time.\n",
              "const MAX_PAYLOAD_SIZE = 100 * 1024;\n",
              "\n",
              "function _uploadFiles(inputId, outputId) {\n",
              "  const steps = uploadFilesStep(inputId, outputId);\n",
              "  const outputElement = document.getElementById(outputId);\n",
              "  // Cache steps on the outputElement to make it available for the next call\n",
              "  // to uploadFilesContinue from Python.\n",
              "  outputElement.steps = steps;\n",
              "\n",
              "  return _uploadFilesContinue(outputId);\n",
              "}\n",
              "\n",
              "// This is roughly an async generator (not supported in the browser yet),\n",
              "// where there are multiple asynchronous steps and the Python side is going\n",
              "// to poll for completion of each step.\n",
              "// This uses a Promise to block the python side on completion of each step,\n",
              "// then passes the result of the previous step as the input to the next step.\n",
              "function _uploadFilesContinue(outputId) {\n",
              "  const outputElement = document.getElementById(outputId);\n",
              "  const steps = outputElement.steps;\n",
              "\n",
              "  const next = steps.next(outputElement.lastPromiseValue);\n",
              "  return Promise.resolve(next.value.promise).then((value) => {\n",
              "    // Cache the last promise value to make it available to the next\n",
              "    // step of the generator.\n",
              "    outputElement.lastPromiseValue = value;\n",
              "    return next.value.response;\n",
              "  });\n",
              "}\n",
              "\n",
              "/**\n",
              " * Generator function which is called between each async step of the upload\n",
              " * process.\n",
              " * @param {string} inputId Element ID of the input file picker element.\n",
              " * @param {string} outputId Element ID of the output display.\n",
              " * @return {!Iterable<!Object>} Iterable of next steps.\n",
              " */\n",
              "function* uploadFilesStep(inputId, outputId) {\n",
              "  const inputElement = document.getElementById(inputId);\n",
              "  inputElement.disabled = false;\n",
              "\n",
              "  const outputElement = document.getElementById(outputId);\n",
              "  outputElement.innerHTML = '';\n",
              "\n",
              "  const pickedPromise = new Promise((resolve) => {\n",
              "    inputElement.addEventListener('change', (e) => {\n",
              "      resolve(e.target.files);\n",
              "    });\n",
              "  });\n",
              "\n",
              "  const cancel = document.createElement('button');\n",
              "  inputElement.parentElement.appendChild(cancel);\n",
              "  cancel.textContent = 'Cancel upload';\n",
              "  const cancelPromise = new Promise((resolve) => {\n",
              "    cancel.onclick = () => {\n",
              "      resolve(null);\n",
              "    };\n",
              "  });\n",
              "\n",
              "  // Wait for the user to pick the files.\n",
              "  const files = yield {\n",
              "    promise: Promise.race([pickedPromise, cancelPromise]),\n",
              "    response: {\n",
              "      action: 'starting',\n",
              "    }\n",
              "  };\n",
              "\n",
              "  cancel.remove();\n",
              "\n",
              "  // Disable the input element since further picks are not allowed.\n",
              "  inputElement.disabled = true;\n",
              "\n",
              "  if (!files) {\n",
              "    return {\n",
              "      response: {\n",
              "        action: 'complete',\n",
              "      }\n",
              "    };\n",
              "  }\n",
              "\n",
              "  for (const file of files) {\n",
              "    const li = document.createElement('li');\n",
              "    li.append(span(file.name, {fontWeight: 'bold'}));\n",
              "    li.append(span(\n",
              "        `(${file.type || 'n/a'}) - ${file.size} bytes, ` +\n",
              "        `last modified: ${\n",
              "            file.lastModifiedDate ? file.lastModifiedDate.toLocaleDateString() :\n",
              "                                    'n/a'} - `));\n",
              "    const percent = span('0% done');\n",
              "    li.appendChild(percent);\n",
              "\n",
              "    outputElement.appendChild(li);\n",
              "\n",
              "    const fileDataPromise = new Promise((resolve) => {\n",
              "      const reader = new FileReader();\n",
              "      reader.onload = (e) => {\n",
              "        resolve(e.target.result);\n",
              "      };\n",
              "      reader.readAsArrayBuffer(file);\n",
              "    });\n",
              "    // Wait for the data to be ready.\n",
              "    let fileData = yield {\n",
              "      promise: fileDataPromise,\n",
              "      response: {\n",
              "        action: 'continue',\n",
              "      }\n",
              "    };\n",
              "\n",
              "    // Use a chunked sending to avoid message size limits. See b/62115660.\n",
              "    let position = 0;\n",
              "    do {\n",
              "      const length = Math.min(fileData.byteLength - position, MAX_PAYLOAD_SIZE);\n",
              "      const chunk = new Uint8Array(fileData, position, length);\n",
              "      position += length;\n",
              "\n",
              "      const base64 = btoa(String.fromCharCode.apply(null, chunk));\n",
              "      yield {\n",
              "        response: {\n",
              "          action: 'append',\n",
              "          file: file.name,\n",
              "          data: base64,\n",
              "        },\n",
              "      };\n",
              "\n",
              "      let percentDone = fileData.byteLength === 0 ?\n",
              "          100 :\n",
              "          Math.round((position / fileData.byteLength) * 100);\n",
              "      percent.textContent = `${percentDone}% done`;\n",
              "\n",
              "    } while (position < fileData.byteLength);\n",
              "  }\n",
              "\n",
              "  // All done.\n",
              "  yield {\n",
              "    response: {\n",
              "      action: 'complete',\n",
              "    }\n",
              "  };\n",
              "}\n",
              "\n",
              "scope.google = scope.google || {};\n",
              "scope.google.colab = scope.google.colab || {};\n",
              "scope.google.colab._files = {\n",
              "  _uploadFiles,\n",
              "  _uploadFilesContinue,\n",
              "};\n",
              "})(self);\n",
              "</script> "
            ]
          },
          "metadata": {}
        },
        {
          "output_type": "stream",
          "name": "stdout",
          "text": [
            "Saving Prostate_Cancer.csv to Prostate_Cancer.csv\n"
          ]
        }
      ]
    },
    {
      "cell_type": "code",
      "source": [
        "import pandas as pd\n",
        "import io\n",
        "\n",
        "df = pd.read_csv(io.BytesIO(uploaded['Prostate_Cancer.csv']))\n",
        "print(df.head())\n"
      ],
      "metadata": {
        "colab": {
          "base_uri": "https://localhost:8080/"
        },
        "id": "xYbWOggWjdUN",
        "outputId": "6d953fe6-36a5-4178-cd95-9c95476d4fd8"
      },
      "execution_count": null,
      "outputs": [
        {
          "output_type": "stream",
          "name": "stdout",
          "text": [
            "   id diagnosis_result  radius  texture  perimeter  area  smoothness  \\\n",
            "0   1                M      23       12        151   954       0.143   \n",
            "1   2                B       9       13        133  1326       0.143   \n",
            "2   3                M      21       27        130  1203       0.125   \n",
            "3   4                M      14       16         78   386       0.070   \n",
            "4   5                M       9       19        135  1297       0.141   \n",
            "\n",
            "   compactness  symmetry  fractal_dimension  \n",
            "0        0.278     0.242              0.079  \n",
            "1        0.079     0.181              0.057  \n",
            "2        0.160     0.207              0.060  \n",
            "3        0.284     0.260              0.097  \n",
            "4        0.133     0.181              0.059  \n"
          ]
        }
      ]
    },
    {
      "cell_type": "markdown",
      "source": [],
      "metadata": {
        "id": "qGwee_pVm7Pe"
      }
    },
    {
      "cell_type": "markdown",
      "source": [
        "## **Data preparation & Data Preprocessing**"
      ],
      "metadata": {
        "id": "gIICG64ZggWR"
      }
    },
    {
      "cell_type": "markdown",
      "source": [
        "### Data separation as X and y"
      ],
      "metadata": {
        "id": "NDJrSLyZgmJy"
      }
    },
    {
      "cell_type": "code",
      "source": [
        "y = df['diagnosis_result']\n",
        "y"
      ],
      "metadata": {
        "colab": {
          "base_uri": "https://localhost:8080/",
          "height": 458
        },
        "id": "ySdHV0cdgo9g",
        "outputId": "918192a9-f9fd-440e-acce-89dc4875554d"
      },
      "execution_count": null,
      "outputs": [
        {
          "output_type": "execute_result",
          "data": {
            "text/plain": [
              "0     M\n",
              "1     B\n",
              "2     M\n",
              "3     M\n",
              "4     M\n",
              "     ..\n",
              "95    M\n",
              "96    B\n",
              "97    B\n",
              "98    B\n",
              "99    M\n",
              "Name: diagnosis_result, Length: 100, dtype: object"
            ],
            "text/html": [
              "<div>\n",
              "<style scoped>\n",
              "    .dataframe tbody tr th:only-of-type {\n",
              "        vertical-align: middle;\n",
              "    }\n",
              "\n",
              "    .dataframe tbody tr th {\n",
              "        vertical-align: top;\n",
              "    }\n",
              "\n",
              "    .dataframe thead th {\n",
              "        text-align: right;\n",
              "    }\n",
              "</style>\n",
              "<table border=\"1\" class=\"dataframe\">\n",
              "  <thead>\n",
              "    <tr style=\"text-align: right;\">\n",
              "      <th></th>\n",
              "      <th>diagnosis_result</th>\n",
              "    </tr>\n",
              "  </thead>\n",
              "  <tbody>\n",
              "    <tr>\n",
              "      <th>0</th>\n",
              "      <td>M</td>\n",
              "    </tr>\n",
              "    <tr>\n",
              "      <th>1</th>\n",
              "      <td>B</td>\n",
              "    </tr>\n",
              "    <tr>\n",
              "      <th>2</th>\n",
              "      <td>M</td>\n",
              "    </tr>\n",
              "    <tr>\n",
              "      <th>3</th>\n",
              "      <td>M</td>\n",
              "    </tr>\n",
              "    <tr>\n",
              "      <th>4</th>\n",
              "      <td>M</td>\n",
              "    </tr>\n",
              "    <tr>\n",
              "      <th>...</th>\n",
              "      <td>...</td>\n",
              "    </tr>\n",
              "    <tr>\n",
              "      <th>95</th>\n",
              "      <td>M</td>\n",
              "    </tr>\n",
              "    <tr>\n",
              "      <th>96</th>\n",
              "      <td>B</td>\n",
              "    </tr>\n",
              "    <tr>\n",
              "      <th>97</th>\n",
              "      <td>B</td>\n",
              "    </tr>\n",
              "    <tr>\n",
              "      <th>98</th>\n",
              "      <td>B</td>\n",
              "    </tr>\n",
              "    <tr>\n",
              "      <th>99</th>\n",
              "      <td>M</td>\n",
              "    </tr>\n",
              "  </tbody>\n",
              "</table>\n",
              "<p>100 rows × 1 columns</p>\n",
              "</div><br><label><b>dtype:</b> object</label>"
            ]
          },
          "metadata": {},
          "execution_count": 3
        }
      ]
    },
    {
      "cell_type": "code",
      "source": [
        "X = df.drop(['diagnosis_result','id'], axis=1)\n",
        "X"
      ],
      "metadata": {
        "colab": {
          "base_uri": "https://localhost:8080/",
          "height": 423
        },
        "id": "fbFnydK-mF6l",
        "outputId": "d9493433-5a92-42d5-fec7-ddfbf62ddb66"
      },
      "execution_count": null,
      "outputs": [
        {
          "output_type": "execute_result",
          "data": {
            "text/plain": [
              "    radius  texture  perimeter  area  smoothness  compactness  symmetry  \\\n",
              "0       23       12        151   954       0.143        0.278     0.242   \n",
              "1        9       13        133  1326       0.143        0.079     0.181   \n",
              "2       21       27        130  1203       0.125        0.160     0.207   \n",
              "3       14       16         78   386       0.070        0.284     0.260   \n",
              "4        9       19        135  1297       0.141        0.133     0.181   \n",
              "..     ...      ...        ...   ...         ...          ...       ...   \n",
              "95      23       16        132  1264       0.091        0.131     0.210   \n",
              "96      22       14         78   451       0.105        0.071     0.190   \n",
              "97      19       27         62   295       0.102        0.053     0.135   \n",
              "98      21       24         74   413       0.090        0.075     0.162   \n",
              "99      16       27         94   643       0.098        0.114     0.188   \n",
              "\n",
              "    fractal_dimension  \n",
              "0               0.079  \n",
              "1               0.057  \n",
              "2               0.060  \n",
              "3               0.097  \n",
              "4               0.059  \n",
              "..                ...  \n",
              "95              0.056  \n",
              "96              0.066  \n",
              "97              0.069  \n",
              "98              0.066  \n",
              "99              0.064  \n",
              "\n",
              "[100 rows x 8 columns]"
            ],
            "text/html": [
              "\n",
              "  <div id=\"df-a29b015d-08fe-42cc-ab73-3f0bd5b4cf2c\" class=\"colab-df-container\">\n",
              "    <div>\n",
              "<style scoped>\n",
              "    .dataframe tbody tr th:only-of-type {\n",
              "        vertical-align: middle;\n",
              "    }\n",
              "\n",
              "    .dataframe tbody tr th {\n",
              "        vertical-align: top;\n",
              "    }\n",
              "\n",
              "    .dataframe thead th {\n",
              "        text-align: right;\n",
              "    }\n",
              "</style>\n",
              "<table border=\"1\" class=\"dataframe\">\n",
              "  <thead>\n",
              "    <tr style=\"text-align: right;\">\n",
              "      <th></th>\n",
              "      <th>radius</th>\n",
              "      <th>texture</th>\n",
              "      <th>perimeter</th>\n",
              "      <th>area</th>\n",
              "      <th>smoothness</th>\n",
              "      <th>compactness</th>\n",
              "      <th>symmetry</th>\n",
              "      <th>fractal_dimension</th>\n",
              "    </tr>\n",
              "  </thead>\n",
              "  <tbody>\n",
              "    <tr>\n",
              "      <th>0</th>\n",
              "      <td>23</td>\n",
              "      <td>12</td>\n",
              "      <td>151</td>\n",
              "      <td>954</td>\n",
              "      <td>0.143</td>\n",
              "      <td>0.278</td>\n",
              "      <td>0.242</td>\n",
              "      <td>0.079</td>\n",
              "    </tr>\n",
              "    <tr>\n",
              "      <th>1</th>\n",
              "      <td>9</td>\n",
              "      <td>13</td>\n",
              "      <td>133</td>\n",
              "      <td>1326</td>\n",
              "      <td>0.143</td>\n",
              "      <td>0.079</td>\n",
              "      <td>0.181</td>\n",
              "      <td>0.057</td>\n",
              "    </tr>\n",
              "    <tr>\n",
              "      <th>2</th>\n",
              "      <td>21</td>\n",
              "      <td>27</td>\n",
              "      <td>130</td>\n",
              "      <td>1203</td>\n",
              "      <td>0.125</td>\n",
              "      <td>0.160</td>\n",
              "      <td>0.207</td>\n",
              "      <td>0.060</td>\n",
              "    </tr>\n",
              "    <tr>\n",
              "      <th>3</th>\n",
              "      <td>14</td>\n",
              "      <td>16</td>\n",
              "      <td>78</td>\n",
              "      <td>386</td>\n",
              "      <td>0.070</td>\n",
              "      <td>0.284</td>\n",
              "      <td>0.260</td>\n",
              "      <td>0.097</td>\n",
              "    </tr>\n",
              "    <tr>\n",
              "      <th>4</th>\n",
              "      <td>9</td>\n",
              "      <td>19</td>\n",
              "      <td>135</td>\n",
              "      <td>1297</td>\n",
              "      <td>0.141</td>\n",
              "      <td>0.133</td>\n",
              "      <td>0.181</td>\n",
              "      <td>0.059</td>\n",
              "    </tr>\n",
              "    <tr>\n",
              "      <th>...</th>\n",
              "      <td>...</td>\n",
              "      <td>...</td>\n",
              "      <td>...</td>\n",
              "      <td>...</td>\n",
              "      <td>...</td>\n",
              "      <td>...</td>\n",
              "      <td>...</td>\n",
              "      <td>...</td>\n",
              "    </tr>\n",
              "    <tr>\n",
              "      <th>95</th>\n",
              "      <td>23</td>\n",
              "      <td>16</td>\n",
              "      <td>132</td>\n",
              "      <td>1264</td>\n",
              "      <td>0.091</td>\n",
              "      <td>0.131</td>\n",
              "      <td>0.210</td>\n",
              "      <td>0.056</td>\n",
              "    </tr>\n",
              "    <tr>\n",
              "      <th>96</th>\n",
              "      <td>22</td>\n",
              "      <td>14</td>\n",
              "      <td>78</td>\n",
              "      <td>451</td>\n",
              "      <td>0.105</td>\n",
              "      <td>0.071</td>\n",
              "      <td>0.190</td>\n",
              "      <td>0.066</td>\n",
              "    </tr>\n",
              "    <tr>\n",
              "      <th>97</th>\n",
              "      <td>19</td>\n",
              "      <td>27</td>\n",
              "      <td>62</td>\n",
              "      <td>295</td>\n",
              "      <td>0.102</td>\n",
              "      <td>0.053</td>\n",
              "      <td>0.135</td>\n",
              "      <td>0.069</td>\n",
              "    </tr>\n",
              "    <tr>\n",
              "      <th>98</th>\n",
              "      <td>21</td>\n",
              "      <td>24</td>\n",
              "      <td>74</td>\n",
              "      <td>413</td>\n",
              "      <td>0.090</td>\n",
              "      <td>0.075</td>\n",
              "      <td>0.162</td>\n",
              "      <td>0.066</td>\n",
              "    </tr>\n",
              "    <tr>\n",
              "      <th>99</th>\n",
              "      <td>16</td>\n",
              "      <td>27</td>\n",
              "      <td>94</td>\n",
              "      <td>643</td>\n",
              "      <td>0.098</td>\n",
              "      <td>0.114</td>\n",
              "      <td>0.188</td>\n",
              "      <td>0.064</td>\n",
              "    </tr>\n",
              "  </tbody>\n",
              "</table>\n",
              "<p>100 rows × 8 columns</p>\n",
              "</div>\n",
              "    <div class=\"colab-df-buttons\">\n",
              "\n",
              "  <div class=\"colab-df-container\">\n",
              "    <button class=\"colab-df-convert\" onclick=\"convertToInteractive('df-a29b015d-08fe-42cc-ab73-3f0bd5b4cf2c')\"\n",
              "            title=\"Convert this dataframe to an interactive table.\"\n",
              "            style=\"display:none;\">\n",
              "\n",
              "  <svg xmlns=\"http://www.w3.org/2000/svg\" height=\"24px\" viewBox=\"0 -960 960 960\">\n",
              "    <path d=\"M120-120v-720h720v720H120Zm60-500h600v-160H180v160Zm220 220h160v-160H400v160Zm0 220h160v-160H400v160ZM180-400h160v-160H180v160Zm440 0h160v-160H620v160ZM180-180h160v-160H180v160Zm440 0h160v-160H620v160Z\"/>\n",
              "  </svg>\n",
              "    </button>\n",
              "\n",
              "  <style>\n",
              "    .colab-df-container {\n",
              "      display:flex;\n",
              "      gap: 12px;\n",
              "    }\n",
              "\n",
              "    .colab-df-convert {\n",
              "      background-color: #E8F0FE;\n",
              "      border: none;\n",
              "      border-radius: 50%;\n",
              "      cursor: pointer;\n",
              "      display: none;\n",
              "      fill: #1967D2;\n",
              "      height: 32px;\n",
              "      padding: 0 0 0 0;\n",
              "      width: 32px;\n",
              "    }\n",
              "\n",
              "    .colab-df-convert:hover {\n",
              "      background-color: #E2EBFA;\n",
              "      box-shadow: 0px 1px 2px rgba(60, 64, 67, 0.3), 0px 1px 3px 1px rgba(60, 64, 67, 0.15);\n",
              "      fill: #174EA6;\n",
              "    }\n",
              "\n",
              "    .colab-df-buttons div {\n",
              "      margin-bottom: 4px;\n",
              "    }\n",
              "\n",
              "    [theme=dark] .colab-df-convert {\n",
              "      background-color: #3B4455;\n",
              "      fill: #D2E3FC;\n",
              "    }\n",
              "\n",
              "    [theme=dark] .colab-df-convert:hover {\n",
              "      background-color: #434B5C;\n",
              "      box-shadow: 0px 1px 3px 1px rgba(0, 0, 0, 0.15);\n",
              "      filter: drop-shadow(0px 1px 2px rgba(0, 0, 0, 0.3));\n",
              "      fill: #FFFFFF;\n",
              "    }\n",
              "  </style>\n",
              "\n",
              "    <script>\n",
              "      const buttonEl =\n",
              "        document.querySelector('#df-a29b015d-08fe-42cc-ab73-3f0bd5b4cf2c button.colab-df-convert');\n",
              "      buttonEl.style.display =\n",
              "        google.colab.kernel.accessAllowed ? 'block' : 'none';\n",
              "\n",
              "      async function convertToInteractive(key) {\n",
              "        const element = document.querySelector('#df-a29b015d-08fe-42cc-ab73-3f0bd5b4cf2c');\n",
              "        const dataTable =\n",
              "          await google.colab.kernel.invokeFunction('convertToInteractive',\n",
              "                                                    [key], {});\n",
              "        if (!dataTable) return;\n",
              "\n",
              "        const docLinkHtml = 'Like what you see? Visit the ' +\n",
              "          '<a target=\"_blank\" href=https://colab.research.google.com/notebooks/data_table.ipynb>data table notebook</a>'\n",
              "          + ' to learn more about interactive tables.';\n",
              "        element.innerHTML = '';\n",
              "        dataTable['output_type'] = 'display_data';\n",
              "        await google.colab.output.renderOutput(dataTable, element);\n",
              "        const docLink = document.createElement('div');\n",
              "        docLink.innerHTML = docLinkHtml;\n",
              "        element.appendChild(docLink);\n",
              "      }\n",
              "    </script>\n",
              "  </div>\n",
              "\n",
              "\n",
              "<div id=\"df-6623c324-22f8-4d31-b7c7-9da9fd2690f4\">\n",
              "  <button class=\"colab-df-quickchart\" onclick=\"quickchart('df-6623c324-22f8-4d31-b7c7-9da9fd2690f4')\"\n",
              "            title=\"Suggest charts\"\n",
              "            style=\"display:none;\">\n",
              "\n",
              "<svg xmlns=\"http://www.w3.org/2000/svg\" height=\"24px\"viewBox=\"0 0 24 24\"\n",
              "     width=\"24px\">\n",
              "    <g>\n",
              "        <path d=\"M19 3H5c-1.1 0-2 .9-2 2v14c0 1.1.9 2 2 2h14c1.1 0 2-.9 2-2V5c0-1.1-.9-2-2-2zM9 17H7v-7h2v7zm4 0h-2V7h2v10zm4 0h-2v-4h2v4z\"/>\n",
              "    </g>\n",
              "</svg>\n",
              "  </button>\n",
              "\n",
              "<style>\n",
              "  .colab-df-quickchart {\n",
              "      --bg-color: #E8F0FE;\n",
              "      --fill-color: #1967D2;\n",
              "      --hover-bg-color: #E2EBFA;\n",
              "      --hover-fill-color: #174EA6;\n",
              "      --disabled-fill-color: #AAA;\n",
              "      --disabled-bg-color: #DDD;\n",
              "  }\n",
              "\n",
              "  [theme=dark] .colab-df-quickchart {\n",
              "      --bg-color: #3B4455;\n",
              "      --fill-color: #D2E3FC;\n",
              "      --hover-bg-color: #434B5C;\n",
              "      --hover-fill-color: #FFFFFF;\n",
              "      --disabled-bg-color: #3B4455;\n",
              "      --disabled-fill-color: #666;\n",
              "  }\n",
              "\n",
              "  .colab-df-quickchart {\n",
              "    background-color: var(--bg-color);\n",
              "    border: none;\n",
              "    border-radius: 50%;\n",
              "    cursor: pointer;\n",
              "    display: none;\n",
              "    fill: var(--fill-color);\n",
              "    height: 32px;\n",
              "    padding: 0;\n",
              "    width: 32px;\n",
              "  }\n",
              "\n",
              "  .colab-df-quickchart:hover {\n",
              "    background-color: var(--hover-bg-color);\n",
              "    box-shadow: 0 1px 2px rgba(60, 64, 67, 0.3), 0 1px 3px 1px rgba(60, 64, 67, 0.15);\n",
              "    fill: var(--button-hover-fill-color);\n",
              "  }\n",
              "\n",
              "  .colab-df-quickchart-complete:disabled,\n",
              "  .colab-df-quickchart-complete:disabled:hover {\n",
              "    background-color: var(--disabled-bg-color);\n",
              "    fill: var(--disabled-fill-color);\n",
              "    box-shadow: none;\n",
              "  }\n",
              "\n",
              "  .colab-df-spinner {\n",
              "    border: 2px solid var(--fill-color);\n",
              "    border-color: transparent;\n",
              "    border-bottom-color: var(--fill-color);\n",
              "    animation:\n",
              "      spin 1s steps(1) infinite;\n",
              "  }\n",
              "\n",
              "  @keyframes spin {\n",
              "    0% {\n",
              "      border-color: transparent;\n",
              "      border-bottom-color: var(--fill-color);\n",
              "      border-left-color: var(--fill-color);\n",
              "    }\n",
              "    20% {\n",
              "      border-color: transparent;\n",
              "      border-left-color: var(--fill-color);\n",
              "      border-top-color: var(--fill-color);\n",
              "    }\n",
              "    30% {\n",
              "      border-color: transparent;\n",
              "      border-left-color: var(--fill-color);\n",
              "      border-top-color: var(--fill-color);\n",
              "      border-right-color: var(--fill-color);\n",
              "    }\n",
              "    40% {\n",
              "      border-color: transparent;\n",
              "      border-right-color: var(--fill-color);\n",
              "      border-top-color: var(--fill-color);\n",
              "    }\n",
              "    60% {\n",
              "      border-color: transparent;\n",
              "      border-right-color: var(--fill-color);\n",
              "    }\n",
              "    80% {\n",
              "      border-color: transparent;\n",
              "      border-right-color: var(--fill-color);\n",
              "      border-bottom-color: var(--fill-color);\n",
              "    }\n",
              "    90% {\n",
              "      border-color: transparent;\n",
              "      border-bottom-color: var(--fill-color);\n",
              "    }\n",
              "  }\n",
              "</style>\n",
              "\n",
              "  <script>\n",
              "    async function quickchart(key) {\n",
              "      const quickchartButtonEl =\n",
              "        document.querySelector('#' + key + ' button');\n",
              "      quickchartButtonEl.disabled = true;  // To prevent multiple clicks.\n",
              "      quickchartButtonEl.classList.add('colab-df-spinner');\n",
              "      try {\n",
              "        const charts = await google.colab.kernel.invokeFunction(\n",
              "            'suggestCharts', [key], {});\n",
              "      } catch (error) {\n",
              "        console.error('Error during call to suggestCharts:', error);\n",
              "      }\n",
              "      quickchartButtonEl.classList.remove('colab-df-spinner');\n",
              "      quickchartButtonEl.classList.add('colab-df-quickchart-complete');\n",
              "    }\n",
              "    (() => {\n",
              "      let quickchartButtonEl =\n",
              "        document.querySelector('#df-6623c324-22f8-4d31-b7c7-9da9fd2690f4 button');\n",
              "      quickchartButtonEl.style.display =\n",
              "        google.colab.kernel.accessAllowed ? 'block' : 'none';\n",
              "    })();\n",
              "  </script>\n",
              "</div>\n",
              "\n",
              "  <div id=\"id_c0a2016e-550e-4a1e-a95f-86e3d7ee4814\">\n",
              "    <style>\n",
              "      .colab-df-generate {\n",
              "        background-color: #E8F0FE;\n",
              "        border: none;\n",
              "        border-radius: 50%;\n",
              "        cursor: pointer;\n",
              "        display: none;\n",
              "        fill: #1967D2;\n",
              "        height: 32px;\n",
              "        padding: 0 0 0 0;\n",
              "        width: 32px;\n",
              "      }\n",
              "\n",
              "      .colab-df-generate:hover {\n",
              "        background-color: #E2EBFA;\n",
              "        box-shadow: 0px 1px 2px rgba(60, 64, 67, 0.3), 0px 1px 3px 1px rgba(60, 64, 67, 0.15);\n",
              "        fill: #174EA6;\n",
              "      }\n",
              "\n",
              "      [theme=dark] .colab-df-generate {\n",
              "        background-color: #3B4455;\n",
              "        fill: #D2E3FC;\n",
              "      }\n",
              "\n",
              "      [theme=dark] .colab-df-generate:hover {\n",
              "        background-color: #434B5C;\n",
              "        box-shadow: 0px 1px 3px 1px rgba(0, 0, 0, 0.15);\n",
              "        filter: drop-shadow(0px 1px 2px rgba(0, 0, 0, 0.3));\n",
              "        fill: #FFFFFF;\n",
              "      }\n",
              "    </style>\n",
              "    <button class=\"colab-df-generate\" onclick=\"generateWithVariable('X')\"\n",
              "            title=\"Generate code using this dataframe.\"\n",
              "            style=\"display:none;\">\n",
              "\n",
              "  <svg xmlns=\"http://www.w3.org/2000/svg\" height=\"24px\"viewBox=\"0 0 24 24\"\n",
              "       width=\"24px\">\n",
              "    <path d=\"M7,19H8.4L18.45,9,17,7.55,7,17.6ZM5,21V16.75L18.45,3.32a2,2,0,0,1,2.83,0l1.4,1.43a1.91,1.91,0,0,1,.58,1.4,1.91,1.91,0,0,1-.58,1.4L9.25,21ZM18.45,9,17,7.55Zm-12,3A5.31,5.31,0,0,0,4.9,8.1,5.31,5.31,0,0,0,1,6.5,5.31,5.31,0,0,0,4.9,4.9,5.31,5.31,0,0,0,6.5,1,5.31,5.31,0,0,0,8.1,4.9,5.31,5.31,0,0,0,12,6.5,5.46,5.46,0,0,0,6.5,12Z\"/>\n",
              "  </svg>\n",
              "    </button>\n",
              "    <script>\n",
              "      (() => {\n",
              "      const buttonEl =\n",
              "        document.querySelector('#id_c0a2016e-550e-4a1e-a95f-86e3d7ee4814 button.colab-df-generate');\n",
              "      buttonEl.style.display =\n",
              "        google.colab.kernel.accessAllowed ? 'block' : 'none';\n",
              "\n",
              "      buttonEl.onclick = () => {\n",
              "        google.colab.notebook.generateWithVariable('X');\n",
              "      }\n",
              "      })();\n",
              "    </script>\n",
              "  </div>\n",
              "\n",
              "    </div>\n",
              "  </div>\n"
            ],
            "application/vnd.google.colaboratory.intrinsic+json": {
              "type": "dataframe",
              "variable_name": "X",
              "summary": "{\n  \"name\": \"X\",\n  \"rows\": 100,\n  \"fields\": [\n    {\n      \"column\": \"radius\",\n      \"properties\": {\n        \"dtype\": \"number\",\n        \"std\": 4,\n        \"min\": 9,\n        \"max\": 25,\n        \"num_unique_values\": 16,\n        \"samples\": [\n          23,\n          9,\n          16\n        ],\n        \"semantic_type\": \"\",\n        \"description\": \"\"\n      }\n    },\n    {\n      \"column\": \"texture\",\n      \"properties\": {\n        \"dtype\": \"number\",\n        \"std\": 5,\n        \"min\": 11,\n        \"max\": 27,\n        \"num_unique_values\": 17,\n        \"samples\": [\n          12,\n          13,\n          25\n        ],\n        \"semantic_type\": \"\",\n        \"description\": \"\"\n      }\n    },\n    {\n      \"column\": \"perimeter\",\n      \"properties\": {\n        \"dtype\": \"number\",\n        \"std\": 23,\n        \"min\": 52,\n        \"max\": 172,\n        \"num_unique_values\": 55,\n        \"samples\": [\n          72,\n          83,\n          85\n        ],\n        \"semantic_type\": \"\",\n        \"description\": \"\"\n      }\n    },\n    {\n      \"column\": \"area\",\n      \"properties\": {\n        \"dtype\": \"number\",\n        \"std\": 319,\n        \"min\": 202,\n        \"max\": 1878,\n        \"num_unique_values\": 95,\n        \"samples\": [\n          1130,\n          905,\n          471\n        ],\n        \"semantic_type\": \"\",\n        \"description\": \"\"\n      }\n    },\n    {\n      \"column\": \"smoothness\",\n      \"properties\": {\n        \"dtype\": \"number\",\n        \"std\": 0.014641752254798919,\n        \"min\": 0.07,\n        \"max\": 0.143,\n        \"num_unique_values\": 45,\n        \"samples\": [\n          0.124,\n          0.104,\n          0.096\n        ],\n        \"semantic_type\": \"\",\n        \"description\": \"\"\n      }\n    },\n    {\n      \"column\": \"compactness\",\n      \"properties\": {\n        \"dtype\": \"number\",\n        \"std\": 0.06114356346775475,\n        \"min\": 0.038,\n        \"max\": 0.345,\n        \"num_unique_values\": 85,\n        \"samples\": [\n          0.086,\n          0.278,\n          0.084\n        ],\n        \"semantic_type\": \"\",\n        \"description\": \"\"\n      }\n    },\n    {\n      \"column\": \"symmetry\",\n      \"properties\": {\n        \"dtype\": \"number\",\n        \"std\": 0.030785033422562377,\n        \"min\": 0.135,\n        \"max\": 0.304,\n        \"num_unique_values\": 64,\n        \"samples\": [\n          0.215,\n          0.169,\n          0.242\n        ],\n        \"semantic_type\": \"\",\n        \"description\": \"\"\n      }\n    },\n    {\n      \"column\": \"fractal_dimension\",\n      \"properties\": {\n        \"dtype\": \"number\",\n        \"std\": 0.008150968214162219,\n        \"min\": 0.053,\n        \"max\": 0.097,\n        \"num_unique_values\": 32,\n        \"samples\": [\n          0.08,\n          0.058,\n          0.056\n        ],\n        \"semantic_type\": \"\",\n        \"description\": \"\"\n      }\n    }\n  ]\n}"
            }
          },
          "metadata": {},
          "execution_count": 4
        }
      ]
    },
    {
      "cell_type": "code",
      "source": [
        "from sklearn.model_selection import train_test_split\n",
        "\n",
        "X_train, X_test, y_train, y_test = train_test_split(X, y, test_size=0.3, random_state=42)\n",
        "X_train, X_val, y_train, y_val = train_test_split(X_train, y_train, test_size=0.25, random_state=42)\n"
      ],
      "metadata": {
        "id": "fQMR__AMubgn"
      },
      "execution_count": null,
      "outputs": []
    },
    {
      "cell_type": "markdown",
      "source": [
        "### Standardization"
      ],
      "metadata": {
        "id": "F_Voxo4KyQZz"
      }
    },
    {
      "cell_type": "code",
      "source": [
        "from sklearn.preprocessing import StandardScaler\n",
        "\n",
        "scaler = StandardScaler()\n",
        "X_train = scaler.fit_transform(X_train)\n",
        "X_val = scaler.transform(X_val)\n",
        "X_test = scaler.transform(X_test)\n"
      ],
      "metadata": {
        "id": "eJjaGAQRx5P5"
      },
      "execution_count": null,
      "outputs": []
    },
    {
      "cell_type": "markdown",
      "source": [
        "## **Model Development**"
      ],
      "metadata": {
        "id": "CxmFLOlcy4ds"
      }
    },
    {
      "cell_type": "markdown",
      "source": [
        "## KNN"
      ],
      "metadata": {
        "id": "9MWsCgxP2Nmk"
      }
    },
    {
      "cell_type": "code",
      "source": [
        "from sklearn.neighbors import KNeighborsClassifier\n",
        "from sklearn.metrics import accuracy_score\n",
        "\n",
        "# k=5\n",
        "knn = KNeighborsClassifier(n_neighbors=5)\n",
        "\n",
        "knn.fit(X_train, y_train)\n",
        "\n",
        "# predictions on the validation set\n",
        "y_pred_val = knn.predict(X_val)\n",
        "\n",
        "# Evaluate the model's accuracy on the validation set\n",
        "accuracy_val = accuracy_score(y_val, y_pred_val)\n",
        "print(f\"Validation Accuracy: {accuracy_val}\")\n",
        "\n",
        "# Make predictions on the test set\n",
        "y_pred_test = knn.predict(X_test)\n",
        "\n",
        "# Evaluate the model's accuracy on the test set\n",
        "accuracy_test = accuracy_score(y_test, y_pred_test)\n",
        "print(f\"Test Accuracy: {accuracy_test}\")\n"
      ],
      "metadata": {
        "colab": {
          "base_uri": "https://localhost:8080/"
        },
        "id": "hX_i81hk0jNf",
        "outputId": "1c2d02fa-6c40-486c-fc96-e3d3ed87d791"
      },
      "execution_count": null,
      "outputs": [
        {
          "output_type": "stream",
          "name": "stdout",
          "text": [
            "Validation Accuracy: 0.8333333333333334\n",
            "Test Accuracy: 0.8\n"
          ]
        }
      ]
    },
    {
      "cell_type": "markdown",
      "source": [
        "### Model Evaluation"
      ],
      "metadata": {
        "id": "b-TWatZwOf4l"
      }
    },
    {
      "cell_type": "code",
      "source": [
        "from sklearn.metrics import confusion_matrix, roc_auc_score, average_precision_score, precision_score, recall_score\n",
        "\n",
        "\n",
        "# predictions on the test set\n",
        "y_pred_test = knn.predict(X_test)\n",
        "y_prob_test = knn.predict_proba(X_test)[:, 1]\n",
        "\n",
        "# evaluation metrics\n",
        "tn, fp, fn, tp = confusion_matrix(y_test, y_pred_test).ravel()\n",
        "accuracy = accuracy_score(y_test, y_pred_test)\n",
        "precision = precision_score(y_test, y_pred_test, pos_label='M')\n",
        "recall = recall_score(y_test, y_pred_test, pos_label='M')\n",
        "\n",
        "# AUC and AUPR\n",
        "y_test_binary = (y_test == 'M').astype(int)\n",
        "auc_roc = roc_auc_score(y_test_binary, y_prob_test)\n",
        "aupr = average_precision_score(y_test_binary, y_prob_test)\n",
        "\n",
        "results_df = pd.DataFrame({\n",
        "    'Metric': ['Accuracy', 'Precision', 'Recall', 'AUC-ROC', 'AUPR', 'True Positive', 'True Negative', 'False Positive', 'False Negative'],\n",
        "    'Value': [accuracy, precision, recall, auc_roc, aupr, tp, tn, fp, fn]\n",
        "})\n",
        "\n",
        "print(results_df)"
      ],
      "metadata": {
        "colab": {
          "base_uri": "https://localhost:8080/"
        },
        "id": "dcDZU3B5OTAW",
        "outputId": "a0a73d6b-a190-4994-80a0-7f77e981c8b7"
      },
      "execution_count": null,
      "outputs": [
        {
          "output_type": "stream",
          "name": "stdout",
          "text": [
            "           Metric      Value\n",
            "0        Accuracy   0.800000\n",
            "1       Precision   0.900000\n",
            "2          Recall   0.818182\n",
            "3         AUC-ROC   0.806818\n",
            "4            AUPR   0.886690\n",
            "5   True Positive  18.000000\n",
            "6   True Negative   6.000000\n",
            "7  False Positive   2.000000\n",
            "8  False Negative   4.000000\n"
          ]
        }
      ]
    },
    {
      "cell_type": "markdown",
      "source": [
        "### ROC Curve"
      ],
      "metadata": {
        "id": "ZM5FU5niOpOe"
      }
    },
    {
      "cell_type": "code",
      "source": [
        "from sklearn.metrics import roc_curve, auc, precision_recall_curve\n",
        "\n",
        "# ROC Curve\n",
        "fpr, tpr, thresholds = roc_curve(y_test_binary, y_prob_test)\n",
        "roc_auc = auc(fpr, tpr)\n",
        "\n",
        "# Precision-Recall Curve\n",
        "# precision_curve, recall_curve, _ = precision_recall_curve(y_test_binary, y_prob_test)\n",
        "\n",
        "import matplotlib.pyplot as plt\n",
        "plt.plot(fpr, tpr, label='ROC curve (area = %0.2f)' % roc_auc)\n",
        "plt.plot([0, 1], [0, 1], 'k--')\n",
        "plt.xlabel('False Positive Rate')\n",
        "plt.ylabel('True Positive Rate')\n",
        "plt.title('Receiver Operating Characteristic (ROC)')\n",
        "plt.legend(loc=\"lower right\")\n",
        "plt.show()"
      ],
      "metadata": {
        "colab": {
          "base_uri": "https://localhost:8080/",
          "height": 472
        },
        "id": "JSI6eSiM-uKe",
        "outputId": "d67cd802-7731-4c40-ad29-b785361ec076"
      },
      "execution_count": null,
      "outputs": [
        {
          "output_type": "display_data",
          "data": {
            "text/plain": [
              "<Figure size 640x480 with 1 Axes>"
            ],
            "image/png": "[encoded data removed]"
          },
          "metadata": {}
        }
      ]
    },
    {
      "cell_type": "markdown",
      "source": [
        "## Logistic Regression"
      ],
      "metadata": {
        "id": "9_Yf3fdL2VJX"
      }
    },
    {
      "cell_type": "code",
      "source": [
        "from sklearn.linear_model import LogisticRegression\n",
        "\n",
        "logistic_regression = LogisticRegression(max_iter=1000)\n",
        "\n",
        "# Training on the training data\n",
        "logistic_regression.fit(X_train, y_train)\n",
        "\n",
        "# predictions on the validation set\n",
        "y_pred_val = logistic_regression.predict(X_val)\n",
        "\n",
        "# accuracy on the validation set\n",
        "accuracy_val = accuracy_score(y_val, y_pred_val)\n",
        "print(f\"Validation Accuracy: {accuracy_val}\")\n",
        "\n",
        "# predictions on the test set\n",
        "y_pred_test = knn.predict(X_test)\n",
        "\n",
        "# accuracy on the test set\n",
        "accuracy_test = accuracy_score(y_test, y_pred_test)\n",
        "print(f\"Test Accuracy: {accuracy_test}\")"
      ],
      "metadata": {
        "colab": {
          "base_uri": "https://localhost:8080/"
        },
        "id": "6j2lo0mDMntD",
        "outputId": "f1b4a054-4b66-452c-9c88-2859567a4b33"
      },
      "execution_count": null,
      "outputs": [
        {
          "output_type": "stream",
          "name": "stdout",
          "text": [
            "Validation Accuracy: 0.8888888888888888\n",
            "Test Accuracy: 0.8\n"
          ]
        }
      ]
    },
    {
      "cell_type": "markdown",
      "source": [
        "### Model Evaluation"
      ],
      "metadata": {
        "id": "AfwbWCNYNbV3"
      }
    },
    {
      "cell_type": "code",
      "source": [
        "# predictions on the test set\n",
        "y_pred_test = logistic_regression.predict(X_test)\n",
        "y_prob_test = logistic_regression.predict_proba(X_test)[:, 1]\n",
        "\n",
        "# evaluation metrics\n",
        "tn, fp, fn, tp = confusion_matrix(y_test, y_pred_test).ravel()\n",
        "accuracy = accuracy_score(y_test, y_pred_test)\n",
        "\n",
        "precision = precision_score(y_test, y_pred_test, pos_label='M')\n",
        "recall = recall_score(y_test, y_pred_test, pos_label='M')\n",
        "\n",
        "# AUC and AUPR\n",
        "y_test_binary = (y_test == 'M').astype(int)\n",
        "auc_roc = roc_auc_score(y_test_binary, y_prob_test)\n",
        "aupr = average_precision_score(y_test_binary, y_prob_test)\n",
        "\n",
        "results_df = pd.DataFrame({\n",
        "    'Metric': ['Accuracy', 'Precision', 'Recall', 'AUC-ROC', 'AUPR', 'True Positive', 'True Negative', 'False Positive', 'False Negative'],\n",
        "    'Value': [accuracy, precision, recall, auc_roc, aupr, tp, tn, fp, fn]\n",
        "})\n",
        "\n",
        "\n",
        "\n",
        "print(results_df)"
      ],
      "metadata": {
        "colab": {
          "base_uri": "https://localhost:8080/"
        },
        "id": "Vn8wTikkMyJE",
        "outputId": "21a51f68-d078-45b9-a31c-a42181a6c3bf"
      },
      "execution_count": null,
      "outputs": [
        {
          "output_type": "stream",
          "name": "stdout",
          "text": [
            "           Metric      Value\n",
            "0        Accuracy   0.800000\n",
            "1       Precision   0.863636\n",
            "2          Recall   0.863636\n",
            "3         AUC-ROC   0.818182\n",
            "4            AUPR   0.891980\n",
            "5   True Positive  19.000000\n",
            "6   True Negative   5.000000\n",
            "7  False Positive   3.000000\n",
            "8  False Negative   3.000000\n"
          ]
        }
      ]
    },
    {
      "cell_type": "markdown",
      "source": [
        "### ROC Curve"
      ],
      "metadata": {
        "id": "iTq1eDs1NSmC"
      }
    },
    {
      "cell_type": "code",
      "source": [
        "# ROC Curve\n",
        "fpr, tpr, thresholds = roc_curve(y_test_binary, y_prob_test)\n",
        "roc_auc = auc(fpr, tpr)\n",
        "\n",
        "# Precision-Recall Curve\n",
        "# precision_curve, recall_curve, _ = precision_recall_curve(y_test_binary, y_prob_test)\n",
        "\n",
        "plt.plot(fpr, tpr, label='ROC curve (area = %0.2f)' % roc_auc)\n",
        "plt.plot([0, 1], [0, 1], 'k--')\n",
        "plt.xlabel('False Positive Rate')\n",
        "plt.ylabel('True Positive Rate')\n",
        "plt.title('Receiver Operating Characteristic (ROC)')\n",
        "plt.legend(loc=\"lower right\")\n",
        "plt.show()\n"
      ],
      "metadata": {
        "colab": {
          "base_uri": "https://localhost:8080/",
          "height": 472
        },
        "id": "0chhc-9qNLb2",
        "outputId": "e5019d58-0f04-4867-ccbf-c052afdb1884"
      },
      "execution_count": null,
      "outputs": [
        {
          "output_type": "display_data",
          "data": {
            "text/plain": [
              "<Figure size 640x480 with 1 Axes>"
            ],
            "image/png": "[encoded data removed]"
          },
          "metadata": {}
        }
      ]
    },
    {
      "cell_type": "markdown",
      "source": [
        "## Random Forest"
      ],
      "metadata": {
        "id": "UJ1xxp2v2ZMZ"
      }
    },
    {
      "cell_type": "code",
      "source": [
        "from sklearn.ensemble import RandomForestClassifier\n",
        "\n",
        "rf = RandomForestClassifier(n_estimators=100, random_state=42)\n",
        "\n",
        "# Training the model on the training data\n",
        "rf.fit(X_train, y_train)\n",
        "\n",
        "# predictions on the validation set\n",
        "y_pred_val_rf = rf.predict(X_val)\n",
        "\n",
        "# accuracy on the validation set\n",
        "accuracy_val = accuracy_score(y_val, y_pred_val)\n",
        "print(f\"Validation Accuracy (Random Forest): {accuracy_val}\")\n",
        "\n",
        "# predictions on the test set\n",
        "y_pred_test_rf = rf.predict(X_test)\n",
        "\n",
        "# accuracy on the test set\n",
        "accuracy_test = accuracy_score(y_test, y_pred_test)\n",
        "print(f\"Test Accuracy (Random Forest): {accuracy_test}\")\n"
      ],
      "metadata": {
        "colab": {
          "base_uri": "https://localhost:8080/"
        },
        "id": "WMeq__-v2qL-",
        "outputId": "d8daab8a-bb4c-455c-f26d-fd7fa6007a47"
      },
      "execution_count": null,
      "outputs": [
        {
          "output_type": "stream",
          "name": "stdout",
          "text": [
            "Validation Accuracy (Random Forest): 0.8888888888888888\n",
            "Test Accuracy (Random Forest): 0.8\n"
          ]
        }
      ]
    },
    {
      "cell_type": "markdown",
      "source": [
        "### Model Evaluation"
      ],
      "metadata": {
        "id": "Y_fHilkrPHIs"
      }
    },
    {
      "cell_type": "code",
      "source": [
        "y_pred_test_rf = rf.predict(X_test)\n",
        "y_prob_test_rf = rf.predict_proba(X_test)[:, 1]\n",
        "\n",
        "# evaluation metrics\n",
        "tn_rf, fp_rf, fn_rf, tp_rf = confusion_matrix(y_test, y_pred_test_rf).ravel()\n",
        "accuracy_rf = accuracy_score(y_test, y_pred_test_rf)\n",
        "precision_rf = precision_score(y_test, y_pred_test_rf, pos_label='M')\n",
        "recall_rf = recall_score(y_test, y_pred_test_rf, pos_label='M')\n",
        "auc_roc_rf = roc_auc_score(y_test_binary, y_prob_test_rf)\n",
        "aupr_rf = average_precision_score(y_test_binary, y_prob_test_rf)\n",
        "\n",
        "\n",
        "results_rf_df = pd.DataFrame({\n",
        "    'Metric': ['Accuracy', 'Precision', 'Recall', 'AUC-ROC', 'AUPR', 'True Positive', 'True Negative', 'False Positive', 'False Negative'],\n",
        "    'Value': [accuracy_rf, precision_rf, recall_rf, auc_roc_rf, aupr_rf, tp_rf, tn_rf, fp_rf, fn_rf]\n",
        "})\n",
        "\n",
        "print(\"\\nRandom Forest Results:\")\n",
        "print(results_rf_df)"
      ],
      "metadata": {
        "colab": {
          "base_uri": "https://localhost:8080/"
        },
        "id": "PvmBxmwtPXz_",
        "outputId": "609d8fd5-c596-4231-fd0c-abebb27eae23"
      },
      "execution_count": null,
      "outputs": [
        {
          "output_type": "stream",
          "name": "stdout",
          "text": [
            "\n",
            "Random Forest Results:\n",
            "           Metric      Value\n",
            "0        Accuracy   0.800000\n",
            "1       Precision   0.863636\n",
            "2          Recall   0.863636\n",
            "3         AUC-ROC   0.812500\n",
            "4            AUPR   0.913870\n",
            "5   True Positive  19.000000\n",
            "6   True Negative   5.000000\n",
            "7  False Positive   3.000000\n",
            "8  False Negative   3.000000\n"
          ]
        }
      ]
    },
    {
      "cell_type": "markdown",
      "source": [
        "### Roc Curve"
      ],
      "metadata": {
        "id": "7i4WhZXMPazq"
      }
    },
    {
      "cell_type": "code",
      "source": [
        "fpr_rf, tpr_rf, thresholds_rf = roc_curve(y_test_binary, y_prob_test_rf)\n",
        "roc_auc_rf = auc(fpr_rf, tpr_rf)\n",
        "\n",
        "plt.plot(fpr_rf, tpr_rf, label='ROC curve (area = %0.2f)' % roc_auc_rf)\n",
        "plt.plot([0, 1], [0, 1], 'k--')\n",
        "plt.xlabel('False Positive Rate')\n",
        "plt.ylabel('True Positive Rate')\n",
        "plt.title('Receiver Operating Characteristic (ROC) - Random Forest')\n",
        "plt.legend(loc=\"lower right\")\n",
        "plt.show()\n",
        "\n",
        "# Precision-Recall Curve\n",
        "# precision_curve_rf, recall_curve_rf, _ = precision_recall_curve(y_test_binary, y_prob_test_rf)\n"
      ],
      "metadata": {
        "id": "zUICIEbbGmM1",
        "colab": {
          "base_uri": "https://localhost:8080/",
          "height": 472
        },
        "outputId": "f269b83b-76de-4332-c1ac-c6ed2bc1ef06"
      },
      "execution_count": null,
      "outputs": [
        {
          "output_type": "display_data",
          "data": {
            "text/plain": [
              "<Figure size 640x480 with 1 Axes>"
            ],
            "image/png": "[encoded data removed]"
          },
          "metadata": {}
        }
      ]
    },
    {
      "cell_type": "markdown",
      "source": [
        "## Gradient Boosting"
      ],
      "metadata": {
        "id": "m_1CM3Vs2dOx"
      }
    },
    {
      "cell_type": "code",
      "source": [
        "from sklearn.ensemble import GradientBoostingClassifier\n",
        "\n",
        "gb = GradientBoostingClassifier(n_estimators=100, random_state=42)\n",
        "\n",
        "# Training the model on the training data\n",
        "gb.fit(X_train, y_train)\n",
        "\n",
        "# predictions on the validation set\n",
        "y_pred_val_gb = gb.predict(X_val)\n",
        "\n",
        "# accuracy on the validation set\n",
        "accuracy_val = accuracy_score(y_val, y_pred_val)\n",
        "print(f\"Validation Accuracy (Gradient Boosting): {accuracy_val}\")\n",
        "\n",
        "# predictions on the test set\n",
        "y_pred_test_gb = gb.predict(X_test)\n",
        "\n",
        "# model's accuracy on the test set\n",
        "accuracy_test = accuracy_score(y_test, y_pred_test)\n",
        "print(f\"Test Accuracy (Gradient Boosting): {accuracy_test}\")\n"
      ],
      "metadata": {
        "colab": {
          "base_uri": "https://localhost:8080/"
        },
        "id": "-OB413yJ2us-",
        "outputId": "8e7593d7-5d4d-4a19-d31a-dc0e94e4a90c"
      },
      "execution_count": null,
      "outputs": [
        {
          "output_type": "stream",
          "name": "stdout",
          "text": [
            "Validation Accuracy (Gradient Boosting): 0.8888888888888888\n",
            "Test Accuracy (Gradient Boosting): 0.8\n"
          ]
        }
      ]
    },
    {
      "cell_type": "markdown",
      "source": [
        "### Model Evaluation"
      ],
      "metadata": {
        "id": "KqVtqsMSk17w"
      }
    },
    {
      "cell_type": "code",
      "source": [
        "# predictions on the test set for Gradient Boosting\n",
        "y_pred_test_gb = gb.predict(X_test)\n",
        "y_prob_test_gb = gb.predict_proba(X_test)[:, 1]\n",
        "\n",
        "# evaluation metrics\n",
        "tn_gb, fp_gb, fn_gb, tp_gb = confusion_matrix(y_test, y_pred_test_gb).ravel()\n",
        "accuracy_gb = accuracy_score(y_test, y_pred_test_gb)\n",
        "precision_gb = precision_score(y_test, y_pred_test_gb, pos_label='M')\n",
        "recall_gb = recall_score(y_test, y_pred_test_gb, pos_label='M')\n",
        "auc_roc_gb = roc_auc_score(y_test_binary, y_prob_test_gb)\n",
        "aupr_gb = average_precision_score(y_test_binary, y_prob_test_gb)\n",
        "\n",
        "results_gb_df = pd.DataFrame({\n",
        "    'Metric': ['Accuracy', 'Precision', 'Recall', 'AUC-ROC', 'AUPR', 'True Positive', 'True Negative', 'False Positive', 'False Negative'],\n",
        "    'Value': [accuracy_gb, precision_gb, recall_gb, auc_roc_gb, aupr_gb, tp_gb, tn_gb, fp_gb, fn_gb]\n",
        "})\n",
        "\n",
        "print(\"\\nGradient Boosting Results:\")\n",
        "print(results_gb_df)"
      ],
      "metadata": {
        "colab": {
          "base_uri": "https://localhost:8080/"
        },
        "id": "94c1tzkZk5QX",
        "outputId": "3daf4034-6a20-4b79-c606-c8c0c7c5ac94"
      },
      "execution_count": null,
      "outputs": [
        {
          "output_type": "stream",
          "name": "stdout",
          "text": [
            "\n",
            "Gradient Boosting Results:\n",
            "           Metric      Value\n",
            "0        Accuracy   0.766667\n",
            "1       Precision   0.857143\n",
            "2          Recall   0.818182\n",
            "3         AUC-ROC   0.744318\n",
            "4            AUPR   0.863954\n",
            "5   True Positive  18.000000\n",
            "6   True Negative   5.000000\n",
            "7  False Positive   3.000000\n",
            "8  False Negative   4.000000\n"
          ]
        }
      ]
    },
    {
      "cell_type": "markdown",
      "source": [
        "### ROC Curve"
      ],
      "metadata": {
        "id": "g6AhEFO3k84u"
      }
    },
    {
      "cell_type": "code",
      "source": [
        "fpr_gb, tpr_gb, thresholds_gb = roc_curve(y_test_binary, y_prob_test_gb)\n",
        "roc_auc_gb = auc(fpr_gb, tpr_gb)\n",
        "\n",
        "plt.plot(fpr_gb, tpr_gb, label='ROC curve (area = %0.2f)' % roc_auc_gb)\n",
        "plt.plot([0, 1], [0, 1], 'k--')\n",
        "plt.xlabel('False Positive Rate')\n",
        "plt.ylabel('True Positive Rate')\n",
        "plt.title('Receiver Operating Characteristic (ROC) - Gradient Boosting')\n",
        "plt.legend(loc=\"lower right\")\n",
        "plt.show()\n",
        "\n",
        "# Precision-Recall Curve\n",
        "# precision_curve_gb, recall_curve_gb, _ = precision_recall_curve(y_test_binary, y_prob_test_gb)"
      ],
      "metadata": {
        "colab": {
          "base_uri": "https://localhost:8080/",
          "height": 472
        },
        "id": "NMXNCJ4dlAdc",
        "outputId": "69f2dd30-c3f3-4c19-88b0-1968b4ec02d5"
      },
      "execution_count": null,
      "outputs": [
        {
          "output_type": "display_data",
          "data": {
            "text/plain": [
              "<Figure size 640x480 with 1 Axes>"
            ],
            "image/png": "[encoded data removed]"
          },
          "metadata": {}
        }
      ]
    },
    {
      "cell_type": "markdown",
      "source": [
        "## XGBoost"
      ],
      "metadata": {
        "id": "o4EZDm8zfwNB"
      }
    },
    {
      "cell_type": "code",
      "source": [
        "import xgboost as xgb\n",
        "from sklearn.metrics import accuracy_score\n",
        "# Import LabelEncoder\n",
        "from sklearn.preprocessing import LabelEncoder\n",
        "\n",
        "# Create an XGBoost classifier\n",
        "model = xgb.XGBClassifier()\n",
        "\n",
        "# Create a LabelEncoder object\n",
        "le = LabelEncoder()\n",
        "\n",
        "# Fit and transform the target variable to numerical values\n",
        "y_train = le.fit_transform(y_train)\n",
        "y_test = le.transform(y_test)\n",
        "\n",
        "# Train the model\n",
        "model.fit(X_train, y_train)\n",
        "\n",
        "# Make predictions on the test set\n",
        "y_pred = model.predict(X_test)\n",
        "\n",
        "# Calculate accuracy\n",
        "accuracy = accuracy_score(y_test, y_pred)\n",
        "\n",
        "# Print the accuracy\n",
        "print(\"Accuracy:\", accuracy)"
      ],
      "metadata": {
        "colab": {
          "base_uri": "https://localhost:8080/"
        },
        "id": "U5IKClahhSsy",
        "outputId": "08e3a72f-ca98-4269-8d1e-dfe5516ff787"
      },
      "execution_count": null,
      "outputs": [
        {
          "output_type": "stream",
          "name": "stdout",
          "text": [
            "Accuracy: 0.8333333333333334\n"
          ]
        }
      ]
    },
    {
      "cell_type": "code",
      "source": [
        "# XGBoost Model Evaluation\n",
        "y_prob_test_xgb = model.predict_proba(X_test)[:, 1]\n",
        "\n",
        "# evaluation metrics\n",
        "tn_xgb, fp_xgb, fn_xgb, tp_xgb = confusion_matrix(y_test, y_pred).ravel()\n",
        "accuracy_xgb = accuracy_score(y_test, y_pred)\n",
        "precision_xgb = precision_score(y_test, y_pred)\n",
        "recall_xgb = recall_score(y_test, y_pred)\n",
        "auc_roc_xgb = roc_auc_score(y_test, y_prob_test_xgb)\n",
        "aupr_xgb = average_precision_score(y_test, y_prob_test_xgb)\n",
        "\n",
        "results_xgb_df = pd.DataFrame({\n",
        "    'Metric': ['Accuracy', 'Precision', 'Recall', 'AUC-ROC', 'AUPR', 'True Positive', 'True Negative', 'False Positive', 'False Negative'],\n",
        "    'Value': [accuracy_xgb, precision_xgb, recall_xgb, auc_roc_xgb, aupr_xgb, tp_xgb, tn_xgb, fp_xgb, fn_xgb]\n",
        "})\n",
        "\n",
        "print(\"\\nXGBoost Results:\")\n",
        "results_xgb_df\n"
      ],
      "metadata": {
        "colab": {
          "base_uri": "https://localhost:8080/",
          "height": 366
        },
        "id": "CfjFyy5khyz8",
        "outputId": "a02f8899-e7dd-4eff-c88e-71c1de20dea9"
      },
      "execution_count": null,
      "outputs": [
        {
          "output_type": "stream",
          "name": "stdout",
          "text": [
            "\n",
            "XGBoost Results:\n"
          ]
        },
        {
          "output_type": "execute_result",
          "data": {
            "text/plain": [
              "           Metric      Value\n",
              "0        Accuracy   0.833333\n",
              "1       Precision   0.904762\n",
              "2          Recall   0.863636\n",
              "3         AUC-ROC   0.835227\n",
              "4            AUPR   0.895686\n",
              "5   True Positive  19.000000\n",
              "6   True Negative   6.000000\n",
              "7  False Positive   2.000000\n",
              "8  False Negative   3.000000"
            ],
            "text/html": [
              "\n",
              "  <div id=\"df-b2976740-c015-4668-ae81-887cae8274a8\" class=\"colab-df-container\">\n",
              "    <div>\n",
              "<style scoped>\n",
              "    .dataframe tbody tr th:only-of-type {\n",
              "        vertical-align: middle;\n",
              "    }\n",
              "\n",
              "    .dataframe tbody tr th {\n",
              "        vertical-align: top;\n",
              "    }\n",
              "\n",
              "    .dataframe thead th {\n",
              "        text-align: right;\n",
              "    }\n",
              "</style>\n",
              "<table border=\"1\" class=\"dataframe\">\n",
              "  <thead>\n",
              "    <tr style=\"text-align: right;\">\n",
              "      <th></th>\n",
              "      <th>Metric</th>\n",
              "      <th>Value</th>\n",
              "    </tr>\n",
              "  </thead>\n",
              "  <tbody>\n",
              "    <tr>\n",
              "      <th>0</th>\n",
              "      <td>Accuracy</td>\n",
              "      <td>0.833333</td>\n",
              "    </tr>\n",
              "    <tr>\n",
              "      <th>1</th>\n",
              "      <td>Precision</td>\n",
              "      <td>0.904762</td>\n",
              "    </tr>\n",
              "    <tr>\n",
              "      <th>2</th>\n",
              "      <td>Recall</td>\n",
              "      <td>0.863636</td>\n",
              "    </tr>\n",
              "    <tr>\n",
              "      <th>3</th>\n",
              "      <td>AUC-ROC</td>\n",
              "      <td>0.835227</td>\n",
              "    </tr>\n",
              "    <tr>\n",
              "      <th>4</th>\n",
              "      <td>AUPR</td>\n",
              "      <td>0.895686</td>\n",
              "    </tr>\n",
              "    <tr>\n",
              "      <th>5</th>\n",
              "      <td>True Positive</td>\n",
              "      <td>19.000000</td>\n",
              "    </tr>\n",
              "    <tr>\n",
              "      <th>6</th>\n",
              "      <td>True Negative</td>\n",
              "      <td>6.000000</td>\n",
              "    </tr>\n",
              "    <tr>\n",
              "      <th>7</th>\n",
              "      <td>False Positive</td>\n",
              "      <td>2.000000</td>\n",
              "    </tr>\n",
              "    <tr>\n",
              "      <th>8</th>\n",
              "      <td>False Negative</td>\n",
              "      <td>3.000000</td>\n",
              "    </tr>\n",
              "  </tbody>\n",
              "</table>\n",
              "</div>\n",
              "    <div class=\"colab-df-buttons\">\n",
              "\n",
              "  <div class=\"colab-df-container\">\n",
              "    <button class=\"colab-df-convert\" onclick=\"convertToInteractive('df-b2976740-c015-4668-ae81-887cae8274a8')\"\n",
              "            title=\"Convert this dataframe to an interactive table.\"\n",
              "            style=\"display:none;\">\n",
              "\n",
              "  <svg xmlns=\"http://www.w3.org/2000/svg\" height=\"24px\" viewBox=\"0 -960 960 960\">\n",
              "    <path d=\"M120-120v-720h720v720H120Zm60-500h600v-160H180v160Zm220 220h160v-160H400v160Zm0 220h160v-160H400v160ZM180-400h160v-160H180v160Zm440 0h160v-160H620v160ZM180-180h160v-160H180v160Zm440 0h160v-160H620v160Z\"/>\n",
              "  </svg>\n",
              "    </button>\n",
              "\n",
              "  <style>\n",
              "    .colab-df-container {\n",
              "      display:flex;\n",
              "      gap: 12px;\n",
              "    }\n",
              "\n",
              "    .colab-df-convert {\n",
              "      background-color: #E8F0FE;\n",
              "      border: none;\n",
              "      border-radius: 50%;\n",
              "      cursor: pointer;\n",
              "      display: none;\n",
              "      fill: #1967D2;\n",
              "      height: 32px;\n",
              "      padding: 0 0 0 0;\n",
              "      width: 32px;\n",
              "    }\n",
              "\n",
              "    .colab-df-convert:hover {\n",
              "      background-color: #E2EBFA;\n",
              "      box-shadow: 0px 1px 2px rgba(60, 64, 67, 0.3), 0px 1px 3px 1px rgba(60, 64, 67, 0.15);\n",
              "      fill: #174EA6;\n",
              "    }\n",
              "\n",
              "    .colab-df-buttons div {\n",
              "      margin-bottom: 4px;\n",
              "    }\n",
              "\n",
              "    [theme=dark] .colab-df-convert {\n",
              "      background-color: #3B4455;\n",
              "      fill: #D2E3FC;\n",
              "    }\n",
              "\n",
              "    [theme=dark] .colab-df-convert:hover {\n",
              "      background-color: #434B5C;\n",
              "      box-shadow: 0px 1px 3px 1px rgba(0, 0, 0, 0.15);\n",
              "      filter: drop-shadow(0px 1px 2px rgba(0, 0, 0, 0.3));\n",
              "      fill: #FFFFFF;\n",
              "    }\n",
              "  </style>\n",
              "\n",
              "    <script>\n",
              "      const buttonEl =\n",
              "        document.querySelector('#df-b2976740-c015-4668-ae81-887cae8274a8 button.colab-df-convert');\n",
              "      buttonEl.style.display =\n",
              "        google.colab.kernel.accessAllowed ? 'block' : 'none';\n",
              "\n",
              "      async function convertToInteractive(key) {\n",
              "        const element = document.querySelector('#df-b2976740-c015-4668-ae81-887cae8274a8');\n",
              "        const dataTable =\n",
              "          await google.colab.kernel.invokeFunction('convertToInteractive',\n",
              "                                                    [key], {});\n",
              "        if (!dataTable) return;\n",
              "\n",
              "        const docLinkHtml = 'Like what you see? Visit the ' +\n",
              "          '<a target=\"_blank\" href=https://colab.research.google.com/notebooks/data_table.ipynb>data table notebook</a>'\n",
              "          + ' to learn more about interactive tables.';\n",
              "        element.innerHTML = '';\n",
              "        dataTable['output_type'] = 'display_data';\n",
              "        await google.colab.output.renderOutput(dataTable, element);\n",
              "        const docLink = document.createElement('div');\n",
              "        docLink.innerHTML = docLinkHtml;\n",
              "        element.appendChild(docLink);\n",
              "      }\n",
              "    </script>\n",
              "  </div>\n",
              "\n",
              "\n",
              "<div id=\"df-de60b3ad-28a1-4479-afe7-f480c9e1f248\">\n",
              "  <button class=\"colab-df-quickchart\" onclick=\"quickchart('df-de60b3ad-28a1-4479-afe7-f480c9e1f248')\"\n",
              "            title=\"Suggest charts\"\n",
              "            style=\"display:none;\">\n",
              "\n",
              "<svg xmlns=\"http://www.w3.org/2000/svg\" height=\"24px\"viewBox=\"0 0 24 24\"\n",
              "     width=\"24px\">\n",
              "    <g>\n",
              "        <path d=\"M19 3H5c-1.1 0-2 .9-2 2v14c0 1.1.9 2 2 2h14c1.1 0 2-.9 2-2V5c0-1.1-.9-2-2-2zM9 17H7v-7h2v7zm4 0h-2V7h2v10zm4 0h-2v-4h2v4z\"/>\n",
              "    </g>\n",
              "</svg>\n",
              "  </button>\n",
              "\n",
              "<style>\n",
              "  .colab-df-quickchart {\n",
              "      --bg-color: #E8F0FE;\n",
              "      --fill-color: #1967D2;\n",
              "      --hover-bg-color: #E2EBFA;\n",
              "      --hover-fill-color: #174EA6;\n",
              "      --disabled-fill-color: #AAA;\n",
              "      --disabled-bg-color: #DDD;\n",
              "  }\n",
              "\n",
              "  [theme=dark] .colab-df-quickchart {\n",
              "      --bg-color: #3B4455;\n",
              "      --fill-color: #D2E3FC;\n",
              "      --hover-bg-color: #434B5C;\n",
              "      --hover-fill-color: #FFFFFF;\n",
              "      --disabled-bg-color: #3B4455;\n",
              "      --disabled-fill-color: #666;\n",
              "  }\n",
              "\n",
              "  .colab-df-quickchart {\n",
              "    background-color: var(--bg-color);\n",
              "    border: none;\n",
              "    border-radius: 50%;\n",
              "    cursor: pointer;\n",
              "    display: none;\n",
              "    fill: var(--fill-color);\n",
              "    height: 32px;\n",
              "    padding: 0;\n",
              "    width: 32px;\n",
              "  }\n",
              "\n",
              "  .colab-df-quickchart:hover {\n",
              "    background-color: var(--hover-bg-color);\n",
              "    box-shadow: 0 1px 2px rgba(60, 64, 67, 0.3), 0 1px 3px 1px rgba(60, 64, 67, 0.15);\n",
              "    fill: var(--button-hover-fill-color);\n",
              "  }\n",
              "\n",
              "  .colab-df-quickchart-complete:disabled,\n",
              "  .colab-df-quickchart-complete:disabled:hover {\n",
              "    background-color: var(--disabled-bg-color);\n",
              "    fill: var(--disabled-fill-color);\n",
              "    box-shadow: none;\n",
              "  }\n",
              "\n",
              "  .colab-df-spinner {\n",
              "    border: 2px solid var(--fill-color);\n",
              "    border-color: transparent;\n",
              "    border-bottom-color: var(--fill-color);\n",
              "    animation:\n",
              "      spin 1s steps(1) infinite;\n",
              "  }\n",
              "\n",
              "  @keyframes spin {\n",
              "    0% {\n",
              "      border-color: transparent;\n",
              "      border-bottom-color: var(--fill-color);\n",
              "      border-left-color: var(--fill-color);\n",
              "    }\n",
              "    20% {\n",
              "      border-color: transparent;\n",
              "      border-left-color: var(--fill-color);\n",
              "      border-top-color: var(--fill-color);\n",
              "    }\n",
              "    30% {\n",
              "      border-color: transparent;\n",
              "      border-left-color: var(--fill-color);\n",
              "      border-top-color: var(--fill-color);\n",
              "      border-right-color: var(--fill-color);\n",
              "    }\n",
              "    40% {\n",
              "      border-color: transparent;\n",
              "      border-right-color: var(--fill-color);\n",
              "      border-top-color: var(--fill-color);\n",
              "    }\n",
              "    60% {\n",
              "      border-color: transparent;\n",
              "      border-right-color: var(--fill-color);\n",
              "    }\n",
              "    80% {\n",
              "      border-color: transparent;\n",
              "      border-right-color: var(--fill-color);\n",
              "      border-bottom-color: var(--fill-color);\n",
              "    }\n",
              "    90% {\n",
              "      border-color: transparent;\n",
              "      border-bottom-color: var(--fill-color);\n",
              "    }\n",
              "  }\n",
              "</style>\n",
              "\n",
              "  <script>\n",
              "    async function quickchart(key) {\n",
              "      const quickchartButtonEl =\n",
              "        document.querySelector('#' + key + ' button');\n",
              "      quickchartButtonEl.disabled = true;  // To prevent multiple clicks.\n",
              "      quickchartButtonEl.classList.add('colab-df-spinner');\n",
              "      try {\n",
              "        const charts = await google.colab.kernel.invokeFunction(\n",
              "            'suggestCharts', [key], {});\n",
              "      } catch (error) {\n",
              "        console.error('Error during call to suggestCharts:', error);\n",
              "      }\n",
              "      quickchartButtonEl.classList.remove('colab-df-spinner');\n",
              "      quickchartButtonEl.classList.add('colab-df-quickchart-complete');\n",
              "    }\n",
              "    (() => {\n",
              "      let quickchartButtonEl =\n",
              "        document.querySelector('#df-de60b3ad-28a1-4479-afe7-f480c9e1f248 button');\n",
              "      quickchartButtonEl.style.display =\n",
              "        google.colab.kernel.accessAllowed ? 'block' : 'none';\n",
              "    })();\n",
              "  </script>\n",
              "</div>\n",
              "\n",
              "  <div id=\"id_1bccbe8c-da1b-407f-a4d6-230465f22f47\">\n",
              "    <style>\n",
              "      .colab-df-generate {\n",
              "        background-color: #E8F0FE;\n",
              "        border: none;\n",
              "        border-radius: 50%;\n",
              "        cursor: pointer;\n",
              "        display: none;\n",
              "        fill: #1967D2;\n",
              "        height: 32px;\n",
              "        padding: 0 0 0 0;\n",
              "        width: 32px;\n",
              "      }\n",
              "\n",
              "      .colab-df-generate:hover {\n",
              "        background-color: #E2EBFA;\n",
              "        box-shadow: 0px 1px 2px rgba(60, 64, 67, 0.3), 0px 1px 3px 1px rgba(60, 64, 67, 0.15);\n",
              "        fill: #174EA6;\n",
              "      }\n",
              "\n",
              "      [theme=dark] .colab-df-generate {\n",
              "        background-color: #3B4455;\n",
              "        fill: #D2E3FC;\n",
              "      }\n",
              "\n",
              "      [theme=dark] .colab-df-generate:hover {\n",
              "        background-color: #434B5C;\n",
              "        box-shadow: 0px 1px 3px 1px rgba(0, 0, 0, 0.15);\n",
              "        filter: drop-shadow(0px 1px 2px rgba(0, 0, 0, 0.3));\n",
              "        fill: #FFFFFF;\n",
              "      }\n",
              "    </style>\n",
              "    <button class=\"colab-df-generate\" onclick=\"generateWithVariable('results_xgb_df')\"\n",
              "            title=\"Generate code using this dataframe.\"\n",
              "            style=\"display:none;\">\n",
              "\n",
              "  <svg xmlns=\"http://www.w3.org/2000/svg\" height=\"24px\"viewBox=\"0 0 24 24\"\n",
              "       width=\"24px\">\n",
              "    <path d=\"M7,19H8.4L18.45,9,17,7.55,7,17.6ZM5,21V16.75L18.45,3.32a2,2,0,0,1,2.83,0l1.4,1.43a1.91,1.91,0,0,1,.58,1.4,1.91,1.91,0,0,1-.58,1.4L9.25,21ZM18.45,9,17,7.55Zm-12,3A5.31,5.31,0,0,0,4.9,8.1,5.31,5.31,0,0,0,1,6.5,5.31,5.31,0,0,0,4.9,4.9,5.31,5.31,0,0,0,6.5,1,5.31,5.31,0,0,0,8.1,4.9,5.31,5.31,0,0,0,12,6.5,5.46,5.46,0,0,0,6.5,12Z\"/>\n",
              "  </svg>\n",
              "    </button>\n",
              "    <script>\n",
              "      (() => {\n",
              "      const buttonEl =\n",
              "        document.querySelector('#id_1bccbe8c-da1b-407f-a4d6-230465f22f47 button.colab-df-generate');\n",
              "      buttonEl.style.display =\n",
              "        google.colab.kernel.accessAllowed ? 'block' : 'none';\n",
              "\n",
              "      buttonEl.onclick = () => {\n",
              "        google.colab.notebook.generateWithVariable('results_xgb_df');\n",
              "      }\n",
              "      })();\n",
              "    </script>\n",
              "  </div>\n",
              "\n",
              "    </div>\n",
              "  </div>\n"
            ],
            "application/vnd.google.colaboratory.intrinsic+json": {
              "type": "dataframe",
              "variable_name": "results_xgb_df",
              "summary": "{\n  \"name\": \"results_xgb_df\",\n  \"rows\": 9,\n  \"fields\": [\n    {\n      \"column\": \"Metric\",\n      \"properties\": {\n        \"dtype\": \"string\",\n        \"num_unique_values\": 9,\n        \"samples\": [\n          \"False Positive\",\n          \"Precision\",\n          \"True Positive\"\n        ],\n        \"semantic_type\": \"\",\n        \"description\": \"\"\n      }\n    },\n    {\n      \"column\": \"Value\",\n      \"properties\": {\n        \"dtype\": \"number\",\n        \"std\": 5.9454679245569615,\n        \"min\": 0.8333333333333334,\n        \"max\": 19.0,\n        \"num_unique_values\": 9,\n        \"samples\": [\n          2.0,\n          0.9047619047619048,\n          19.0\n        ],\n        \"semantic_type\": \"\",\n        \"description\": \"\"\n      }\n    }\n  ]\n}"
            }
          },
          "metadata": {},
          "execution_count": 60
        }
      ]
    },
    {
      "cell_type": "code",
      "source": [
        "# XGBoost ROC Curve\n",
        "fpr_xgb, tpr_xgb, thresholds_xgb = roc_curve(y_test, y_prob_test_xgb)\n",
        "roc_auc_xgb = auc(fpr_xgb, tpr_xgb)\n",
        "\n",
        "plt.plot(fpr_xgb, tpr_xgb, label='ROC curve (area = %0.2f)' % roc_auc_xgb)\n",
        "plt.plot([0, 1], [0, 1], 'k--')\n",
        "plt.xlabel('False Positive Rate')\n",
        "plt.ylabel('True Positive Rate')\n",
        "plt.title('Receiver Operating Characteristic (ROC) - XGBoost')\n",
        "plt.legend(loc=\"lower right\")\n",
        "plt.show()\n"
      ],
      "metadata": {
        "colab": {
          "base_uri": "https://localhost:8080/",
          "height": 472
        },
        "id": "aUceHTvIh9je",
        "outputId": "588991fc-bde1-4424-bc47-f99da82f48f3"
      },
      "execution_count": null,
      "outputs": [
        {
          "output_type": "display_data",
          "data": {
            "text/plain": [
              "<Figure size 640x480 with 1 Axes>"
            ],
            "image/png": "[encoded data removed]"
          },
          "metadata": {}
        }
      ]
    },
    {
      "cell_type": "markdown",
      "source": [
        "# Model Colab\n"
      ],
      "metadata": {
        "id": "9GfD9zePjxO4"
      }
    },
    {
      "cell_type": "markdown",
      "source": [
        "## Voting"
      ],
      "metadata": {
        "id": "P2yzU7FOCGHu"
      }
    },
    {
      "cell_type": "code",
      "source": [
        "# prompt: implementsoft voting of dataset df\n",
        "\n",
        "import numpy as np\n",
        "from scipy.stats import mode\n",
        "\n",
        "def soft_voting(models, X_test):\n",
        "\n",
        "  # Get predicted probabilities for each model\n",
        "  predicted_probabilities = [model.predict_proba(X_test) for model in models]\n",
        "\n",
        "  # Average the probabilities across models\n",
        "  average_probabilities = np.mean(predicted_probabilities, axis=0)\n",
        "\n",
        "  # Predict the class with the highest average probability\n",
        "  predicted_classes = np.argmax(average_probabilities, axis=1)\n",
        "\n",
        "  # Convert numerical predictions back to original class labels if needed\n",
        "  if isinstance(y_test[0],str):\n",
        "    predicted_classes = le.inverse_transform(predicted_classes)\n",
        "\n",
        "  return predicted_classes\n",
        "\n",
        "\n",
        "# Example usage (assuming you have trained models knn, logistic_regression, rf, gb, and model)\n",
        "models = [knn, logistic_regression, rf, gb, model]\n",
        "y_pred_voting = soft_voting(models, X_test)\n",
        "\n",
        "# Evaluate the soft voting results\n",
        "accuracy_voting = accuracy_score(y_test, y_pred_voting)\n",
        "print(f\"Accuracy of Soft Voting: {accuracy_voting}\")\n"
      ],
      "metadata": {
        "colab": {
          "base_uri": "https://localhost:8080/"
        },
        "id": "rO-YSSkCCJjx",
        "outputId": "c4705e04-dd8c-4c6e-d5ff-bab0bce96f08"
      },
      "execution_count": null,
      "outputs": [
        {
          "output_type": "stream",
          "name": "stdout",
          "text": [
            "Accuracy of Soft Voting: 0.8333333333333334\n"
          ]
        }
      ]
    },
    {
      "cell_type": "code",
      "source": [
        "# prompt: Calculate accuracy, precision, recall, confusion matrix, auc, aupr, roc curve for voting\n",
        "\n",
        "# Assuming you have already trained the models (knn, logistic_regression, rf, gb, model) and have y_test and X_test\n",
        "# ... (your existing code for model training) ...\n",
        "\n",
        "\n",
        "def soft_voting(models, X_test):\n",
        "    predicted_probabilities = [model.predict_proba(X_test) for model in models]\n",
        "    average_probabilities = np.mean(predicted_probabilities, axis=0)\n",
        "    predicted_classes = np.argmax(average_probabilities, axis=1)\n",
        "\n",
        "    if isinstance(y_test[0], str):\n",
        "        predicted_classes = le.inverse_transform(predicted_classes)\n",
        "    return predicted_classes\n",
        "\n",
        "models = [knn, logistic_regression, rf, gb, model]\n",
        "y_pred_voting = soft_voting(models, X_test)\n",
        "\n",
        "# Convert y_test to numerical labels for calculations if it's categorical.\n",
        "if isinstance(y_test[0], str):\n",
        "    y_test_numeric = le.transform(y_test)\n",
        "else:\n",
        "    y_test_numeric = y_test\n",
        "\n",
        "# Evaluate the soft voting results\n",
        "accuracy_voting = accuracy_score(y_test, y_pred_voting)\n",
        "print(f\"Accuracy of Soft Voting: {accuracy_voting}\")\n",
        "\n",
        "# Confusion Matrix\n",
        "cm = confusion_matrix(y_test, y_pred_voting)\n",
        "print(f\"Confusion Matrix:\\n{cm}\")\n",
        "\n",
        "# Precision and Recall\n",
        "precision_voting = precision_score(y_test, y_pred_voting, pos_label='M' if isinstance(y_test[0], str) else 1)  # Adjust pos_label as needed\n",
        "recall_voting = recall_score(y_test, y_pred_voting, pos_label='M' if isinstance(y_test[0], str) else 1) # Adjust pos_label as needed\n",
        "print(f\"Precision of Soft Voting: {precision_voting}\")\n",
        "print(f\"Recall of Soft Voting: {recall_voting}\")\n",
        "\n",
        "# AUC and AUPR\n",
        "try:\n",
        "    y_prob_voting = np.mean([model.predict_proba(X_test)[:, 1] for model in models], axis=0)  # Probabilities for the positive class\n",
        "    auc_voting = roc_auc_score(y_test_numeric, y_prob_voting)  # Use numeric y_test\n",
        "    aupr_voting = average_precision_score(y_test_numeric, y_prob_voting) # Use numeric y_test\n",
        "    print(f\"AUC of Soft Voting: {auc_voting}\")\n",
        "    print(f\"AUPR of Soft Voting: {aupr_voting}\")\n",
        "\n",
        "    # ROC Curve\n",
        "    fpr_voting, tpr_voting, _ = roc_curve(y_test_numeric, y_prob_voting)\n",
        "    plt.plot(fpr_voting, tpr_voting, label=f\"Soft Voting (AUC = {auc_voting:.2f})\")\n",
        "    plt.plot([0, 1], [0, 1], 'k--')\n",
        "    plt.xlabel(\"False Positive Rate\")\n",
        "    plt.ylabel(\"True Positive Rate\")\n",
        "    plt.title(\"ROC Curve - Soft Voting\")\n",
        "    plt.legend(loc=\"lower right\")\n",
        "    plt.show()\n",
        "except ValueError as e:\n",
        "    print(f\"Error calculating AUC/AUPR/ROC curve: {e}\")\n",
        "    print(\"Check if your data and model outputs are compatible.\")\n"
      ],
      "metadata": {
        "colab": {
          "base_uri": "https://localhost:8080/",
          "height": 611
        },
        "id": "ai5IVjiyFBTw",
        "outputId": "f87909b7-7380-46fb-a613-2723b06ebdf4"
      },
      "execution_count": null,
      "outputs": [
        {
          "output_type": "stream",
          "name": "stdout",
          "text": [
            "Accuracy of Soft Voting: 0.8333333333333334\n",
            "Confusion Matrix:\n",
            "[[ 5  3]\n",
            " [ 2 20]]\n",
            "Precision of Soft Voting: 0.8695652173913043\n",
            "Recall of Soft Voting: 0.9090909090909091\n",
            "AUC of Soft Voting: 0.7840909090909092\n",
            "AUPR of Soft Voting: 0.8661926643768697\n"
          ]
        },
        {
          "output_type": "display_data",
          "data": {
            "text/plain": [
              "<Figure size 640x480 with 1 Axes>"
            ],
            "image/png": "[encoded data removed]"
          },
          "metadata": {}
        }
      ]
    },
    {
      "cell_type": "markdown",
      "source": [
        "## Stacking"
      ],
      "metadata": {
        "id": "AvtJ_D-5lWfR"
      }
    },
    {
      "cell_type": "code",
      "source": [
        "from sklearn.ensemble import StackingClassifier\n",
        "\n",
        "# Define the base estimators\n",
        "estimators = [\n",
        "    ('knn', KNeighborsClassifier(n_neighbors=5)),\n",
        "    ('lr', LogisticRegression(max_iter=1000)),\n",
        "    ('rf', RandomForestClassifier(n_estimators=100, random_state=42)),\n",
        "    ('gb', GradientBoostingClassifier(n_estimators=100, random_state=42)),\n",
        "    ('xgb', xgb.XGBClassifier())\n",
        "]\n",
        "\n",
        "# Define the meta-learner\n",
        "meta_learner = LogisticRegression()\n",
        "\n",
        "# Create the stacking classifier\n",
        "stacking_model = StackingClassifier(estimators=estimators, final_estimator=meta_learner)\n",
        "\n",
        "# Train the stacking model\n",
        "stacking_model.fit(X_train, y_train)\n",
        "\n",
        "# Make predictions on the test set\n",
        "y_pred_stacking = stacking_model.predict(X_test)\n",
        "y_prob_stacking = stacking_model.predict_proba(X_test)[:, 1]\n",
        "\n",
        "# Evaluate the stacking model\n",
        "accuracy_stacking = accuracy_score(y_test, y_pred_stacking)\n",
        "print(f\"Accuracy of StackingClassifier: {accuracy_stacking}\")\n",
        "\n",
        "#Further evaluation metrics can be added here similar to what's done for individual models\n",
        "#e.g., confusion matrix, precision, recall, AUC-ROC, etc.\n",
        "tn_stack, fp_stack, fn_stack, tp_stack = confusion_matrix(y_test, y_pred_stacking).ravel()\n",
        "precision_stack = precision_score(y_test, y_pred_stacking)\n",
        "recall_stack = recall_score(y_test, y_pred_stacking)\n",
        "auc_roc_stack = roc_auc_score(y_test, y_prob_stacking)\n",
        "aupr_stack = average_precision_score(y_test, y_prob_stacking)\n",
        "\n",
        "results_stack_df = pd.DataFrame({\n",
        "    'Metric': ['Accuracy', 'Precision', 'Recall', 'AUC-ROC', 'AUPR', 'True Positive', 'True Negative', 'False Positive', 'False Negative'],\n",
        "    'Value': [accuracy_stacking, precision_stack, recall_stack, auc_roc_stack, aupr_stack, tp_stack, tn_stack, fp_stack, fn_stack]\n",
        "})\n",
        "\n",
        "print(\"\\nStacking Results:\")\n",
        "print(results_stack_df)\n",
        "\n",
        "# ROC Curve for Stacking\n",
        "fpr_stack, tpr_stack, thresholds_stack = roc_curve(y_test, y_prob_stacking)\n",
        "roc_auc_stack = auc(fpr_stack, tpr_stack)\n",
        "\n",
        "plt.plot(fpr_stack, tpr_stack, label='ROC curve (area = %0.2f)' % roc_auc_stack)\n",
        "plt.plot([0, 1], [0, 1], 'k--')\n",
        "plt.xlabel('False Positive Rate')\n",
        "plt.ylabel('True Positive Rate')\n",
        "plt.title('Receiver Operating Characteristic (ROC) - Stacking')\n",
        "plt.legend(loc=\"lower right\")\n",
        "plt.show()\n"
      ],
      "metadata": {
        "colab": {
          "base_uri": "https://localhost:8080/",
          "height": 698
        },
        "id": "tLpi3HAFljxo",
        "outputId": "a2c0db19-9faa-4344-ba9b-70c2f55b331b"
      },
      "execution_count": null,
      "outputs": [
        {
          "output_type": "stream",
          "name": "stdout",
          "text": [
            "Accuracy of StackingClassifier: 0.8333333333333334\n",
            "\n",
            "Stacking Results:\n",
            "           Metric      Value\n",
            "0        Accuracy   0.833333\n",
            "1       Precision   0.869565\n",
            "2          Recall   0.909091\n",
            "3         AUC-ROC   0.801136\n",
            "4            AUPR   0.885865\n",
            "5   True Positive  20.000000\n",
            "6   True Negative   5.000000\n",
            "7  False Positive   3.000000\n",
            "8  False Negative   2.000000\n"
          ]
        },
        {
          "output_type": "display_data",
          "data": {
            "text/plain": [
              "<Figure size 640x480 with 1 Axes>"
            ],
            "image/png": "[encoded data removed]"
          },
          "metadata": {}
        }
      ]
    },
    {
      "cell_type": "markdown",
      "source": [
        "## Prediction"
      ],
      "metadata": {
        "id": "yXB5rE8e85Xo"
      }
    },
    {
      "cell_type": "code",
      "source": [
        "def predict_prostate_cancer():\n",
        "\n",
        "  radius = float(input(\"Enter radius: \"))\n",
        "  texture = float(input(\"Enter texture: \"))\n",
        "  perimeter = float(input(\"Enter perimeter: \"))\n",
        "  area = float(input(\"Enter area: \"))\n",
        "  smoothness = float(input(\"Enter smoothness: \"))\n",
        "  compactness = float(input(\"Enter compactness: \"))\n",
        "  symmetry = float(input(\"Enter symmetry: \"))\n",
        "  fractal_dimension = float(input(\"Enter fractal_dimension: \"))\n",
        "\n",
        "  new_data = [[radius, texture, perimeter, area, smoothness, compactness, symmetry, fractal_dimension]]\n",
        "\n",
        "  new_data = scaler.transform(new_data)\n",
        "\n",
        "  prediction = gb.predict(new_data)[0]\n",
        "\n",
        "  if prediction == \"M\":\n",
        "    print(\"Prostate cancer is likely present.\")\n",
        "  else:\n",
        "    print(\"Prostate cancer is likely not present.\")\n",
        "\n",
        "predict_prostate_cancer()\n"
      ],
      "metadata": {
        "id": "pPhwRIGI3eBH"
      },
      "execution_count": null,
      "outputs": []
    }
  ]
}